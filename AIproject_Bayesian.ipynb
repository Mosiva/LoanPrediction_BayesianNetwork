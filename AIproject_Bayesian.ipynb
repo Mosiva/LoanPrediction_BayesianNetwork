{
 "cells": [
  {
   "cell_type": "code",
   "execution_count": 1,
   "metadata": {},
   "outputs": [
    {
     "data": {
      "text/html": [
       "<div>\n",
       "<style scoped>\n",
       "    .dataframe tbody tr th:only-of-type {\n",
       "        vertical-align: middle;\n",
       "    }\n",
       "\n",
       "    .dataframe tbody tr th {\n",
       "        vertical-align: top;\n",
       "    }\n",
       "\n",
       "    .dataframe thead th {\n",
       "        text-align: right;\n",
       "    }\n",
       "</style>\n",
       "<table border=\"1\" class=\"dataframe\">\n",
       "  <thead>\n",
       "    <tr style=\"text-align: right;\">\n",
       "      <th></th>\n",
       "      <th>Gender</th>\n",
       "      <th>Married</th>\n",
       "      <th>Dependents</th>\n",
       "      <th>Education</th>\n",
       "      <th>Self_Employed</th>\n",
       "      <th>LoanAmount</th>\n",
       "      <th>Loan_Amount_Term</th>\n",
       "      <th>Credit_History</th>\n",
       "      <th>Property_Area</th>\n",
       "      <th>Loan_Status</th>\n",
       "      <th>Total_Income</th>\n",
       "    </tr>\n",
       "  </thead>\n",
       "  <tbody>\n",
       "    <tr>\n",
       "      <th>count</th>\n",
       "      <td>601.000000</td>\n",
       "      <td>601.000000</td>\n",
       "      <td>601.000000</td>\n",
       "      <td>601.000000</td>\n",
       "      <td>601.000000</td>\n",
       "      <td>601.000000</td>\n",
       "      <td>601.000000</td>\n",
       "      <td>601.000000</td>\n",
       "      <td>600.000000</td>\n",
       "      <td>600.000000</td>\n",
       "      <td>600.000000</td>\n",
       "    </tr>\n",
       "    <tr>\n",
       "      <th>mean</th>\n",
       "      <td>0.648918</td>\n",
       "      <td>0.687188</td>\n",
       "      <td>0.813644</td>\n",
       "      <td>0.430948</td>\n",
       "      <td>0.449251</td>\n",
       "      <td>144.850362</td>\n",
       "      <td>27.429285</td>\n",
       "      <td>0.540765</td>\n",
       "      <td>1.038333</td>\n",
       "      <td>0.688333</td>\n",
       "      <td>6920.379867</td>\n",
       "    </tr>\n",
       "    <tr>\n",
       "      <th>std</th>\n",
       "      <td>0.477706</td>\n",
       "      <td>0.464025</td>\n",
       "      <td>1.199394</td>\n",
       "      <td>0.495621</td>\n",
       "      <td>0.497832</td>\n",
       "      <td>81.246122</td>\n",
       "      <td>8.540662</td>\n",
       "      <td>0.498751</td>\n",
       "      <td>0.788183</td>\n",
       "      <td>0.463561</td>\n",
       "      <td>6213.130723</td>\n",
       "    </tr>\n",
       "    <tr>\n",
       "      <th>min</th>\n",
       "      <td>0.000000</td>\n",
       "      <td>0.000000</td>\n",
       "      <td>0.000000</td>\n",
       "      <td>0.000000</td>\n",
       "      <td>0.000000</td>\n",
       "      <td>2.000000</td>\n",
       "      <td>0.000000</td>\n",
       "      <td>0.000000</td>\n",
       "      <td>0.000000</td>\n",
       "      <td>0.000000</td>\n",
       "      <td>1442.000000</td>\n",
       "    </tr>\n",
       "    <tr>\n",
       "      <th>25%</th>\n",
       "      <td>0.000000</td>\n",
       "      <td>0.000000</td>\n",
       "      <td>0.000000</td>\n",
       "      <td>0.000000</td>\n",
       "      <td>0.000000</td>\n",
       "      <td>100.000000</td>\n",
       "      <td>30.000000</td>\n",
       "      <td>0.000000</td>\n",
       "      <td>0.000000</td>\n",
       "      <td>0.000000</td>\n",
       "      <td>4158.250000</td>\n",
       "    </tr>\n",
       "    <tr>\n",
       "      <th>50%</th>\n",
       "      <td>1.000000</td>\n",
       "      <td>1.000000</td>\n",
       "      <td>0.000000</td>\n",
       "      <td>0.000000</td>\n",
       "      <td>0.000000</td>\n",
       "      <td>128.000000</td>\n",
       "      <td>30.000000</td>\n",
       "      <td>1.000000</td>\n",
       "      <td>1.000000</td>\n",
       "      <td>1.000000</td>\n",
       "      <td>5407.000000</td>\n",
       "    </tr>\n",
       "    <tr>\n",
       "      <th>75%</th>\n",
       "      <td>1.000000</td>\n",
       "      <td>1.000000</td>\n",
       "      <td>1.000000</td>\n",
       "      <td>1.000000</td>\n",
       "      <td>1.000000</td>\n",
       "      <td>162.000000</td>\n",
       "      <td>30.000000</td>\n",
       "      <td>1.000000</td>\n",
       "      <td>2.000000</td>\n",
       "      <td>1.000000</td>\n",
       "      <td>7451.500000</td>\n",
       "    </tr>\n",
       "    <tr>\n",
       "      <th>max</th>\n",
       "      <td>1.000000</td>\n",
       "      <td>1.000000</td>\n",
       "      <td>4.000000</td>\n",
       "      <td>1.000000</td>\n",
       "      <td>1.000000</td>\n",
       "      <td>650.000000</td>\n",
       "      <td>40.000000</td>\n",
       "      <td>1.000000</td>\n",
       "      <td>2.000000</td>\n",
       "      <td>1.000000</td>\n",
       "      <td>81000.000000</td>\n",
       "    </tr>\n",
       "  </tbody>\n",
       "</table>\n",
       "</div>"
      ],
      "text/plain": [
       "           Gender     Married  Dependents   Education  Self_Employed  \\\n",
       "count  601.000000  601.000000  601.000000  601.000000     601.000000   \n",
       "mean     0.648918    0.687188    0.813644    0.430948       0.449251   \n",
       "std      0.477706    0.464025    1.199394    0.495621       0.497832   \n",
       "min      0.000000    0.000000    0.000000    0.000000       0.000000   \n",
       "25%      0.000000    0.000000    0.000000    0.000000       0.000000   \n",
       "50%      1.000000    1.000000    0.000000    0.000000       0.000000   \n",
       "75%      1.000000    1.000000    1.000000    1.000000       1.000000   \n",
       "max      1.000000    1.000000    4.000000    1.000000       1.000000   \n",
       "\n",
       "       LoanAmount  Loan_Amount_Term  Credit_History  Property_Area  \\\n",
       "count  601.000000        601.000000      601.000000     600.000000   \n",
       "mean   144.850362         27.429285        0.540765       1.038333   \n",
       "std     81.246122          8.540662        0.498751       0.788183   \n",
       "min      2.000000          0.000000        0.000000       0.000000   \n",
       "25%    100.000000         30.000000        0.000000       0.000000   \n",
       "50%    128.000000         30.000000        1.000000       1.000000   \n",
       "75%    162.000000         30.000000        1.000000       2.000000   \n",
       "max    650.000000         40.000000        1.000000       2.000000   \n",
       "\n",
       "       Loan_Status  Total_Income  \n",
       "count   600.000000    600.000000  \n",
       "mean      0.688333   6920.379867  \n",
       "std       0.463561   6213.130723  \n",
       "min       0.000000   1442.000000  \n",
       "25%       0.000000   4158.250000  \n",
       "50%       1.000000   5407.000000  \n",
       "75%       1.000000   7451.500000  \n",
       "max       1.000000  81000.000000  "
      ]
     },
     "execution_count": 1,
     "metadata": {},
     "output_type": "execute_result"
    }
   ],
   "source": [
    "import pandas as pd\n",
    "import numpy as np\n",
    "import matplotlib.pyplot as plt\n",
    "import seaborn as sns\n",
    "from sklearn.model_selection import train_test_split\n",
    "from sklearn import svm\n",
    "from sklearn.metrics import accuracy_score\n",
    "df = pd.read_csv('trainM.csv')\n",
    "df.describe()"
   ]
  },
  {
   "cell_type": "code",
   "execution_count": 2,
   "metadata": {},
   "outputs": [
    {
     "data": {
      "text/html": [
       "<div>\n",
       "<style scoped>\n",
       "    .dataframe tbody tr th:only-of-type {\n",
       "        vertical-align: middle;\n",
       "    }\n",
       "\n",
       "    .dataframe tbody tr th {\n",
       "        vertical-align: top;\n",
       "    }\n",
       "\n",
       "    .dataframe thead th {\n",
       "        text-align: right;\n",
       "    }\n",
       "</style>\n",
       "<table border=\"1\" class=\"dataframe\">\n",
       "  <thead>\n",
       "    <tr style=\"text-align: right;\">\n",
       "      <th></th>\n",
       "      <th>Gender</th>\n",
       "      <th>Married</th>\n",
       "      <th>Dependents</th>\n",
       "      <th>Education</th>\n",
       "      <th>Self_Employed</th>\n",
       "      <th>LoanAmount</th>\n",
       "      <th>Loan_Amount_Term</th>\n",
       "      <th>Credit_History</th>\n",
       "      <th>Property_Area</th>\n",
       "      <th>Loan_Status</th>\n",
       "      <th>Total_Income</th>\n",
       "    </tr>\n",
       "  </thead>\n",
       "  <tbody>\n",
       "    <tr>\n",
       "      <th>0</th>\n",
       "      <td>0</td>\n",
       "      <td>1</td>\n",
       "      <td>0</td>\n",
       "      <td>0</td>\n",
       "      <td>0</td>\n",
       "      <td>146.412162</td>\n",
       "      <td>30.0</td>\n",
       "      <td>0</td>\n",
       "      <td>2.0</td>\n",
       "      <td>1.0</td>\n",
       "      <td>5849.0</td>\n",
       "    </tr>\n",
       "    <tr>\n",
       "      <th>1</th>\n",
       "      <td>1</td>\n",
       "      <td>0</td>\n",
       "      <td>1</td>\n",
       "      <td>1</td>\n",
       "      <td>1</td>\n",
       "      <td>128.000000</td>\n",
       "      <td>30.0</td>\n",
       "      <td>0</td>\n",
       "      <td>0.0</td>\n",
       "      <td>0.0</td>\n",
       "      <td>6091.0</td>\n",
       "    </tr>\n",
       "    <tr>\n",
       "      <th>2</th>\n",
       "      <td>1</td>\n",
       "      <td>1</td>\n",
       "      <td>0</td>\n",
       "      <td>0</td>\n",
       "      <td>0</td>\n",
       "      <td>66.000000</td>\n",
       "      <td>30.0</td>\n",
       "      <td>1</td>\n",
       "      <td>2.0</td>\n",
       "      <td>1.0</td>\n",
       "      <td>3000.0</td>\n",
       "    </tr>\n",
       "    <tr>\n",
       "      <th>3</th>\n",
       "      <td>1</td>\n",
       "      <td>1</td>\n",
       "      <td>0</td>\n",
       "      <td>1</td>\n",
       "      <td>1</td>\n",
       "      <td>120.000000</td>\n",
       "      <td>30.0</td>\n",
       "      <td>1</td>\n",
       "      <td>2.0</td>\n",
       "      <td>1.0</td>\n",
       "      <td>4941.0</td>\n",
       "    </tr>\n",
       "    <tr>\n",
       "      <th>4</th>\n",
       "      <td>0</td>\n",
       "      <td>1</td>\n",
       "      <td>0</td>\n",
       "      <td>0</td>\n",
       "      <td>0</td>\n",
       "      <td>141.000000</td>\n",
       "      <td>30.0</td>\n",
       "      <td>0</td>\n",
       "      <td>2.0</td>\n",
       "      <td>1.0</td>\n",
       "      <td>6000.0</td>\n",
       "    </tr>\n",
       "    <tr>\n",
       "      <th>5</th>\n",
       "      <td>1</td>\n",
       "      <td>1</td>\n",
       "      <td>2</td>\n",
       "      <td>1</td>\n",
       "      <td>1</td>\n",
       "      <td>267.000000</td>\n",
       "      <td>30.0</td>\n",
       "      <td>1</td>\n",
       "      <td>2.0</td>\n",
       "      <td>1.0</td>\n",
       "      <td>9613.0</td>\n",
       "    </tr>\n",
       "    <tr>\n",
       "      <th>6</th>\n",
       "      <td>1</td>\n",
       "      <td>1</td>\n",
       "      <td>0</td>\n",
       "      <td>0</td>\n",
       "      <td>0</td>\n",
       "      <td>95.000000</td>\n",
       "      <td>30.0</td>\n",
       "      <td>1</td>\n",
       "      <td>2.0</td>\n",
       "      <td>1.0</td>\n",
       "      <td>3849.0</td>\n",
       "    </tr>\n",
       "    <tr>\n",
       "      <th>7</th>\n",
       "      <td>1</td>\n",
       "      <td>0</td>\n",
       "      <td>4</td>\n",
       "      <td>1</td>\n",
       "      <td>1</td>\n",
       "      <td>158.000000</td>\n",
       "      <td>30.0</td>\n",
       "      <td>0</td>\n",
       "      <td>1.0</td>\n",
       "      <td>0.0</td>\n",
       "      <td>5540.0</td>\n",
       "    </tr>\n",
       "    <tr>\n",
       "      <th>8</th>\n",
       "      <td>1</td>\n",
       "      <td>1</td>\n",
       "      <td>2</td>\n",
       "      <td>0</td>\n",
       "      <td>0</td>\n",
       "      <td>168.000000</td>\n",
       "      <td>30.0</td>\n",
       "      <td>1</td>\n",
       "      <td>2.0</td>\n",
       "      <td>1.0</td>\n",
       "      <td>5532.0</td>\n",
       "    </tr>\n",
       "    <tr>\n",
       "      <th>9</th>\n",
       "      <td>1</td>\n",
       "      <td>0</td>\n",
       "      <td>1</td>\n",
       "      <td>1</td>\n",
       "      <td>1</td>\n",
       "      <td>349.000000</td>\n",
       "      <td>30.0</td>\n",
       "      <td>0</td>\n",
       "      <td>1.0</td>\n",
       "      <td>0.0</td>\n",
       "      <td>23809.0</td>\n",
       "    </tr>\n",
       "    <tr>\n",
       "      <th>10</th>\n",
       "      <td>1</td>\n",
       "      <td>1</td>\n",
       "      <td>2</td>\n",
       "      <td>0</td>\n",
       "      <td>0</td>\n",
       "      <td>70.000000</td>\n",
       "      <td>30.0</td>\n",
       "      <td>0</td>\n",
       "      <td>2.0</td>\n",
       "      <td>1.0</td>\n",
       "      <td>3900.0</td>\n",
       "    </tr>\n",
       "    <tr>\n",
       "      <th>11</th>\n",
       "      <td>1</td>\n",
       "      <td>1</td>\n",
       "      <td>2</td>\n",
       "      <td>0</td>\n",
       "      <td>0</td>\n",
       "      <td>109.000000</td>\n",
       "      <td>30.0</td>\n",
       "      <td>0</td>\n",
       "      <td>2.0</td>\n",
       "      <td>1.0</td>\n",
       "      <td>4340.0</td>\n",
       "    </tr>\n",
       "    <tr>\n",
       "      <th>12</th>\n",
       "      <td>1</td>\n",
       "      <td>1</td>\n",
       "      <td>2</td>\n",
       "      <td>0</td>\n",
       "      <td>0</td>\n",
       "      <td>200.000000</td>\n",
       "      <td>30.0</td>\n",
       "      <td>0</td>\n",
       "      <td>2.0</td>\n",
       "      <td>1.0</td>\n",
       "      <td>11179.0</td>\n",
       "    </tr>\n",
       "    <tr>\n",
       "      <th>13</th>\n",
       "      <td>0</td>\n",
       "      <td>0</td>\n",
       "      <td>0</td>\n",
       "      <td>1</td>\n",
       "      <td>1</td>\n",
       "      <td>114.000000</td>\n",
       "      <td>30.0</td>\n",
       "      <td>0</td>\n",
       "      <td>0.0</td>\n",
       "      <td>0.0</td>\n",
       "      <td>4693.0</td>\n",
       "    </tr>\n",
       "    <tr>\n",
       "      <th>14</th>\n",
       "      <td>1</td>\n",
       "      <td>1</td>\n",
       "      <td>2</td>\n",
       "      <td>0</td>\n",
       "      <td>0</td>\n",
       "      <td>17.000000</td>\n",
       "      <td>10.0</td>\n",
       "      <td>1</td>\n",
       "      <td>2.0</td>\n",
       "      <td>1.0</td>\n",
       "      <td>2385.0</td>\n",
       "    </tr>\n",
       "  </tbody>\n",
       "</table>\n",
       "</div>"
      ],
      "text/plain": [
       "    Gender  Married  Dependents  Education  Self_Employed  LoanAmount  \\\n",
       "0        0        1           0          0              0  146.412162   \n",
       "1        1        0           1          1              1  128.000000   \n",
       "2        1        1           0          0              0   66.000000   \n",
       "3        1        1           0          1              1  120.000000   \n",
       "4        0        1           0          0              0  141.000000   \n",
       "5        1        1           2          1              1  267.000000   \n",
       "6        1        1           0          0              0   95.000000   \n",
       "7        1        0           4          1              1  158.000000   \n",
       "8        1        1           2          0              0  168.000000   \n",
       "9        1        0           1          1              1  349.000000   \n",
       "10       1        1           2          0              0   70.000000   \n",
       "11       1        1           2          0              0  109.000000   \n",
       "12       1        1           2          0              0  200.000000   \n",
       "13       0        0           0          1              1  114.000000   \n",
       "14       1        1           2          0              0   17.000000   \n",
       "\n",
       "    Loan_Amount_Term  Credit_History  Property_Area  Loan_Status  Total_Income  \n",
       "0               30.0               0            2.0          1.0        5849.0  \n",
       "1               30.0               0            0.0          0.0        6091.0  \n",
       "2               30.0               1            2.0          1.0        3000.0  \n",
       "3               30.0               1            2.0          1.0        4941.0  \n",
       "4               30.0               0            2.0          1.0        6000.0  \n",
       "5               30.0               1            2.0          1.0        9613.0  \n",
       "6               30.0               1            2.0          1.0        3849.0  \n",
       "7               30.0               0            1.0          0.0        5540.0  \n",
       "8               30.0               1            2.0          1.0        5532.0  \n",
       "9               30.0               0            1.0          0.0       23809.0  \n",
       "10              30.0               0            2.0          1.0        3900.0  \n",
       "11              30.0               0            2.0          1.0        4340.0  \n",
       "12              30.0               0            2.0          1.0       11179.0  \n",
       "13              30.0               0            0.0          0.0        4693.0  \n",
       "14              10.0               1            2.0          1.0        2385.0  "
      ]
     },
     "execution_count": 2,
     "metadata": {},
     "output_type": "execute_result"
    }
   ],
   "source": [
    "df.head(15)"
   ]
  },
  {
   "cell_type": "code",
   "execution_count": 3,
   "metadata": {},
   "outputs": [
    {
     "data": {
      "text/plain": [
       "Gender              0\n",
       "Married             0\n",
       "Dependents          0\n",
       "Education           0\n",
       "Self_Employed       0\n",
       "LoanAmount          0\n",
       "Loan_Amount_Term    0\n",
       "Credit_History      0\n",
       "Property_Area       0\n",
       "Loan_Status         0\n",
       "Total_Income        0\n",
       "dtype: int64"
      ]
     },
     "execution_count": 3,
     "metadata": {},
     "output_type": "execute_result"
    }
   ],
   "source": [
    "df['Property_Area'].fillna(0,inplace= True)\n",
    "df['Loan_Status'].fillna(1,inplace=True)\n",
    "df['Total_Income'].fillna(0,inplace = True)\n",
    "df.replace({'Gender':{10:0}},inplace=True)\n",
    "df=df.dropna()\n",
    "df.isnull().sum()"
   ]
  },
  {
   "cell_type": "code",
   "execution_count": 4,
   "metadata": {},
   "outputs": [],
   "source": [
    "#Creating a list of numerical columns\n",
    "# num_cols = num_cols = ['ApplicantIncome', 'CoapplicantIncome', 'LoanAmount', 'Loan_Amount_Term']"
   ]
  },
  {
   "cell_type": "code",
   "execution_count": 5,
   "metadata": {},
   "outputs": [],
   "source": [
    "# df[num_cols].describe()"
   ]
  },
  {
   "cell_type": "code",
   "execution_count": 6,
   "metadata": {},
   "outputs": [],
   "source": [
    "#Converting the scale of loan term from months to years becuase we have a day\n",
    "# df['Loan_Amount_Term']=df['Loan_Amount_Term']/12"
   ]
  },
  {
   "cell_type": "code",
   "execution_count": 7,
   "metadata": {},
   "outputs": [],
   "source": [
    "#Adding the applicant and co-applicant income to get the total income per application\n",
    "# df['Total_Income']=df['ApplicantIncome'] + df['CoapplicantIncome']"
   ]
  },
  {
   "cell_type": "code",
   "execution_count": 8,
   "metadata": {},
   "outputs": [],
   "source": [
    "#Dropping the columns as we created a new column which captures the same information\n",
    "# df=df.drop(['ApplicantIncome', 'CoapplicantIncome'],axis = 1)"
   ]
  },
  {
   "cell_type": "code",
   "execution_count": 9,
   "metadata": {},
   "outputs": [],
   "source": [
    "#Checking the distribution and outliers for each column in the data\n",
    "# for col in ['LoanAmount', 'Total_Income']:\n",
    "#     print(col)\n",
    "#     plt.figure(figsize=(15,4))\n",
    "#     plt.subplot(1,2,1)\n",
    "#     df[col].hist(bins=10, grid=True)\n",
    "#     plt.ylabel('count')\n",
    "#     plt.subplot(1,2,2)\n",
    "#     sns.boxplot(x=df[col])\n",
    "#     plt.show()"
   ]
  },
  {
   "cell_type": "code",
   "execution_count": 10,
   "metadata": {},
   "outputs": [],
   "source": [
    "#Both the variables are highly skewed to the right and have many outliers which can be expected as the data contains different types of areas - Rural, Urban & Semi-Urban.\n",
    "#We can observe from the histogram that majority of values for total income are less than 10,000K dollars.\n",
    "#Now, let's check the percentage of observations in each category for all the categorical variables."
   ]
  },
  {
   "cell_type": "code",
   "execution_count": 11,
   "metadata": {},
   "outputs": [
    {
     "name": "stdout",
     "output_type": "stream",
     "text": [
      "1    0.648918\n",
      "0    0.351082\n",
      "Name: Gender, dtype: float64\n",
      "------------------------------\n",
      "1    0.687188\n",
      "0    0.312812\n",
      "Name: Married, dtype: float64\n",
      "------------------------------\n",
      "0    0.589018\n",
      "1    0.168053\n",
      "2    0.163062\n",
      "4    0.079867\n",
      "Name: Dependents, dtype: float64\n",
      "------------------------------\n",
      "0    0.569052\n",
      "1    0.430948\n",
      "Name: Education, dtype: float64\n",
      "------------------------------\n",
      "0    0.550749\n",
      "1    0.449251\n",
      "Name: Self_Employed, dtype: float64\n",
      "------------------------------\n",
      "1    0.540765\n",
      "0    0.459235\n",
      "Name: Credit_History, dtype: float64\n",
      "------------------------------\n",
      "1.0    0.377704\n",
      "2.0    0.329451\n",
      "0.0    0.292845\n",
      "Name: Property_Area, dtype: float64\n",
      "------------------------------\n",
      "1.0    0.688852\n",
      "0.0    0.311148\n",
      "Name: Loan_Status, dtype: float64\n",
      "------------------------------\n"
     ]
    }
   ],
   "source": [
    "#Creating list of categorical columns\n",
    "categorical_clmn= ['Gender', 'Married', 'Dependents', 'Education', 'Self_Employed', 'Credit_History','Property_Area', 'Loan_Status']\n",
    "\n",
    "for clmn in categorical_clmn:\n",
    "    print(df[clmn].value_counts(normalize=True)) \n",
    "    print('-'*30)    "
   ]
  },
  {
   "cell_type": "code",
   "execution_count": 12,
   "metadata": {},
   "outputs": [],
   "source": [
    "#The vast majority of applicants are male (81%).\n",
    "\n",
    "#65% of applicants are married, and 57% of them have no dependents\n",
    "\n",
    "#78% of the applicants are graduates\n",
    "\n",
    "#85% of the applicants are self employed\n",
    "\n",
    "#84% of the applicants have credit histories that meet the required guidelines\n",
    "\n",
    "#The property area among the applicants is roughly evenly split across semiurban, urban, and rural, with semi-urban having a slightly higher portion (37.9%)"
   ]
  },
  {
   "cell_type": "code",
   "execution_count": 13,
   "metadata": {},
   "outputs": [],
   "source": [
    "#Finally, we need to encode our loan status column to make it eligible for modeling, and replace other columns to avoid empty raws"
   ]
  },
  {
   "cell_type": "code",
   "execution_count": 14,
   "metadata": {},
   "outputs": [],
   "source": [
    "# df['Married'].fillna(\"Yes\",inplace=True)\n",
    "# df['Dependents'].fillna(0,inplace= True)\n",
    "# df['Self_Employed'].fillna('No',inplace=True)\n",
    "# df['Credit_History'].fillna(0,inplace = True)\n",
    "\n",
    "# df=df.replace(to_replace='3+',value=4)\n",
    "# df.replace({'Loan_Status':{'N':0,'Y':1}},inplace=True)\n",
    "\n",
    "# mean_loan=df['LoanAmount'].mean()\n",
    "# df['LoanAmount'].fillna(mean_loan,inplace = True)\n",
    "\n",
    "# mean_loan_term=df['Loan_Amount_Term'].mean()\n",
    "# df['Loan_Amount_Term'].fillna(mean_loan_term,inplace = True)\n",
    "\n",
    "# df=df.dropna()\n",
    "# df.isnull().sum()"
   ]
  },
  {
   "cell_type": "code",
   "execution_count": 15,
   "metadata": {},
   "outputs": [
    {
     "data": {
      "text/html": [
       "<div>\n",
       "<style scoped>\n",
       "    .dataframe tbody tr th:only-of-type {\n",
       "        vertical-align: middle;\n",
       "    }\n",
       "\n",
       "    .dataframe tbody tr th {\n",
       "        vertical-align: top;\n",
       "    }\n",
       "\n",
       "    .dataframe thead th {\n",
       "        text-align: right;\n",
       "    }\n",
       "</style>\n",
       "<table border=\"1\" class=\"dataframe\">\n",
       "  <thead>\n",
       "    <tr style=\"text-align: right;\">\n",
       "      <th></th>\n",
       "      <th>Gender</th>\n",
       "      <th>Married</th>\n",
       "      <th>Dependents</th>\n",
       "      <th>Education</th>\n",
       "      <th>Self_Employed</th>\n",
       "      <th>LoanAmount</th>\n",
       "      <th>Loan_Amount_Term</th>\n",
       "      <th>Credit_History</th>\n",
       "      <th>Property_Area</th>\n",
       "      <th>Loan_Status</th>\n",
       "      <th>Total_Income</th>\n",
       "    </tr>\n",
       "  </thead>\n",
       "  <tbody>\n",
       "    <tr>\n",
       "      <th>596</th>\n",
       "      <td>0</td>\n",
       "      <td>1</td>\n",
       "      <td>0</td>\n",
       "      <td>1</td>\n",
       "      <td>0</td>\n",
       "      <td>71.0</td>\n",
       "      <td>30.0</td>\n",
       "      <td>0</td>\n",
       "      <td>0.0</td>\n",
       "      <td>1.0</td>\n",
       "      <td>2900.0</td>\n",
       "    </tr>\n",
       "    <tr>\n",
       "      <th>597</th>\n",
       "      <td>1</td>\n",
       "      <td>1</td>\n",
       "      <td>4</td>\n",
       "      <td>1</td>\n",
       "      <td>0</td>\n",
       "      <td>40.0</td>\n",
       "      <td>0.0</td>\n",
       "      <td>1</td>\n",
       "      <td>0.0</td>\n",
       "      <td>1.0</td>\n",
       "      <td>4106.0</td>\n",
       "    </tr>\n",
       "    <tr>\n",
       "      <th>598</th>\n",
       "      <td>1</td>\n",
       "      <td>1</td>\n",
       "      <td>1</td>\n",
       "      <td>0</td>\n",
       "      <td>1</td>\n",
       "      <td>253.0</td>\n",
       "      <td>30.0</td>\n",
       "      <td>1</td>\n",
       "      <td>2.0</td>\n",
       "      <td>1.0</td>\n",
       "      <td>8312.0</td>\n",
       "    </tr>\n",
       "    <tr>\n",
       "      <th>599</th>\n",
       "      <td>1</td>\n",
       "      <td>1</td>\n",
       "      <td>2</td>\n",
       "      <td>0</td>\n",
       "      <td>0</td>\n",
       "      <td>187.0</td>\n",
       "      <td>30.0</td>\n",
       "      <td>0</td>\n",
       "      <td>2.0</td>\n",
       "      <td>1.0</td>\n",
       "      <td>7583.0</td>\n",
       "    </tr>\n",
       "    <tr>\n",
       "      <th>600</th>\n",
       "      <td>0</td>\n",
       "      <td>0</td>\n",
       "      <td>0</td>\n",
       "      <td>1</td>\n",
       "      <td>1</td>\n",
       "      <td>133.0</td>\n",
       "      <td>30.0</td>\n",
       "      <td>0</td>\n",
       "      <td>1.0</td>\n",
       "      <td>0.0</td>\n",
       "      <td>4583.0</td>\n",
       "    </tr>\n",
       "  </tbody>\n",
       "</table>\n",
       "</div>"
      ],
      "text/plain": [
       "     Gender  Married  Dependents  Education  Self_Employed  LoanAmount  \\\n",
       "596       0        1           0          1              0        71.0   \n",
       "597       1        1           4          1              0        40.0   \n",
       "598       1        1           1          0              1       253.0   \n",
       "599       1        1           2          0              0       187.0   \n",
       "600       0        0           0          1              1       133.0   \n",
       "\n",
       "     Loan_Amount_Term  Credit_History  Property_Area  Loan_Status  \\\n",
       "596              30.0               0            0.0          1.0   \n",
       "597               0.0               1            0.0          1.0   \n",
       "598              30.0               1            2.0          1.0   \n",
       "599              30.0               0            2.0          1.0   \n",
       "600              30.0               0            1.0          0.0   \n",
       "\n",
       "     Total_Income  \n",
       "596        2900.0  \n",
       "597        4106.0  \n",
       "598        8312.0  \n",
       "599        7583.0  \n",
       "600        4583.0  "
      ]
     },
     "execution_count": 15,
     "metadata": {},
     "output_type": "execute_result"
    }
   ],
   "source": [
    "df.tail()"
   ]
  },
  {
   "cell_type": "code",
   "execution_count": 16,
   "metadata": {},
   "outputs": [
    {
     "data": {
      "text/html": [
       "<div>\n",
       "<style scoped>\n",
       "    .dataframe tbody tr th:only-of-type {\n",
       "        vertical-align: middle;\n",
       "    }\n",
       "\n",
       "    .dataframe tbody tr th {\n",
       "        vertical-align: top;\n",
       "    }\n",
       "\n",
       "    .dataframe thead th {\n",
       "        text-align: right;\n",
       "    }\n",
       "</style>\n",
       "<table border=\"1\" class=\"dataframe\">\n",
       "  <thead>\n",
       "    <tr style=\"text-align: right;\">\n",
       "      <th></th>\n",
       "      <th>Gender</th>\n",
       "      <th>Married</th>\n",
       "      <th>Dependents</th>\n",
       "      <th>Education</th>\n",
       "      <th>Self_Employed</th>\n",
       "      <th>LoanAmount</th>\n",
       "      <th>Loan_Amount_Term</th>\n",
       "      <th>Credit_History</th>\n",
       "      <th>Property_Area</th>\n",
       "      <th>Loan_Status</th>\n",
       "      <th>Total_Income</th>\n",
       "    </tr>\n",
       "  </thead>\n",
       "  <tbody>\n",
       "    <tr>\n",
       "      <th>count</th>\n",
       "      <td>601.000000</td>\n",
       "      <td>601.000000</td>\n",
       "      <td>601.000000</td>\n",
       "      <td>601.000000</td>\n",
       "      <td>601.000000</td>\n",
       "      <td>601.000000</td>\n",
       "      <td>601.000000</td>\n",
       "      <td>601.000000</td>\n",
       "      <td>601.000000</td>\n",
       "      <td>601.000000</td>\n",
       "      <td>601.000000</td>\n",
       "    </tr>\n",
       "    <tr>\n",
       "      <th>mean</th>\n",
       "      <td>0.648918</td>\n",
       "      <td>0.687188</td>\n",
       "      <td>0.813644</td>\n",
       "      <td>0.430948</td>\n",
       "      <td>0.449251</td>\n",
       "      <td>144.850362</td>\n",
       "      <td>27.429285</td>\n",
       "      <td>0.540765</td>\n",
       "      <td>1.036606</td>\n",
       "      <td>0.688852</td>\n",
       "      <td>6908.865091</td>\n",
       "    </tr>\n",
       "    <tr>\n",
       "      <th>std</th>\n",
       "      <td>0.477706</td>\n",
       "      <td>0.464025</td>\n",
       "      <td>1.199394</td>\n",
       "      <td>0.495621</td>\n",
       "      <td>0.497832</td>\n",
       "      <td>81.246122</td>\n",
       "      <td>8.540662</td>\n",
       "      <td>0.498751</td>\n",
       "      <td>0.788664</td>\n",
       "      <td>0.463349</td>\n",
       "      <td>6214.365751</td>\n",
       "    </tr>\n",
       "    <tr>\n",
       "      <th>min</th>\n",
       "      <td>0.000000</td>\n",
       "      <td>0.000000</td>\n",
       "      <td>0.000000</td>\n",
       "      <td>0.000000</td>\n",
       "      <td>0.000000</td>\n",
       "      <td>2.000000</td>\n",
       "      <td>0.000000</td>\n",
       "      <td>0.000000</td>\n",
       "      <td>0.000000</td>\n",
       "      <td>0.000000</td>\n",
       "      <td>0.000000</td>\n",
       "    </tr>\n",
       "    <tr>\n",
       "      <th>25%</th>\n",
       "      <td>0.000000</td>\n",
       "      <td>0.000000</td>\n",
       "      <td>0.000000</td>\n",
       "      <td>0.000000</td>\n",
       "      <td>0.000000</td>\n",
       "      <td>100.000000</td>\n",
       "      <td>30.000000</td>\n",
       "      <td>0.000000</td>\n",
       "      <td>0.000000</td>\n",
       "      <td>0.000000</td>\n",
       "      <td>4153.000000</td>\n",
       "    </tr>\n",
       "    <tr>\n",
       "      <th>50%</th>\n",
       "      <td>1.000000</td>\n",
       "      <td>1.000000</td>\n",
       "      <td>0.000000</td>\n",
       "      <td>0.000000</td>\n",
       "      <td>0.000000</td>\n",
       "      <td>128.000000</td>\n",
       "      <td>30.000000</td>\n",
       "      <td>1.000000</td>\n",
       "      <td>1.000000</td>\n",
       "      <td>1.000000</td>\n",
       "      <td>5398.000000</td>\n",
       "    </tr>\n",
       "    <tr>\n",
       "      <th>75%</th>\n",
       "      <td>1.000000</td>\n",
       "      <td>1.000000</td>\n",
       "      <td>1.000000</td>\n",
       "      <td>1.000000</td>\n",
       "      <td>1.000000</td>\n",
       "      <td>162.000000</td>\n",
       "      <td>30.000000</td>\n",
       "      <td>1.000000</td>\n",
       "      <td>2.000000</td>\n",
       "      <td>1.000000</td>\n",
       "      <td>7451.000000</td>\n",
       "    </tr>\n",
       "    <tr>\n",
       "      <th>max</th>\n",
       "      <td>1.000000</td>\n",
       "      <td>1.000000</td>\n",
       "      <td>4.000000</td>\n",
       "      <td>1.000000</td>\n",
       "      <td>1.000000</td>\n",
       "      <td>650.000000</td>\n",
       "      <td>40.000000</td>\n",
       "      <td>1.000000</td>\n",
       "      <td>2.000000</td>\n",
       "      <td>1.000000</td>\n",
       "      <td>81000.000000</td>\n",
       "    </tr>\n",
       "  </tbody>\n",
       "</table>\n",
       "</div>"
      ],
      "text/plain": [
       "           Gender     Married  Dependents   Education  Self_Employed  \\\n",
       "count  601.000000  601.000000  601.000000  601.000000     601.000000   \n",
       "mean     0.648918    0.687188    0.813644    0.430948       0.449251   \n",
       "std      0.477706    0.464025    1.199394    0.495621       0.497832   \n",
       "min      0.000000    0.000000    0.000000    0.000000       0.000000   \n",
       "25%      0.000000    0.000000    0.000000    0.000000       0.000000   \n",
       "50%      1.000000    1.000000    0.000000    0.000000       0.000000   \n",
       "75%      1.000000    1.000000    1.000000    1.000000       1.000000   \n",
       "max      1.000000    1.000000    4.000000    1.000000       1.000000   \n",
       "\n",
       "       LoanAmount  Loan_Amount_Term  Credit_History  Property_Area  \\\n",
       "count  601.000000        601.000000      601.000000     601.000000   \n",
       "mean   144.850362         27.429285        0.540765       1.036606   \n",
       "std     81.246122          8.540662        0.498751       0.788664   \n",
       "min      2.000000          0.000000        0.000000       0.000000   \n",
       "25%    100.000000         30.000000        0.000000       0.000000   \n",
       "50%    128.000000         30.000000        1.000000       1.000000   \n",
       "75%    162.000000         30.000000        1.000000       2.000000   \n",
       "max    650.000000         40.000000        1.000000       2.000000   \n",
       "\n",
       "       Loan_Status  Total_Income  \n",
       "count   601.000000    601.000000  \n",
       "mean      0.688852   6908.865091  \n",
       "std       0.463349   6214.365751  \n",
       "min       0.000000      0.000000  \n",
       "25%       0.000000   4153.000000  \n",
       "50%       1.000000   5398.000000  \n",
       "75%       1.000000   7451.000000  \n",
       "max       1.000000  81000.000000  "
      ]
     },
     "execution_count": 16,
     "metadata": {},
     "output_type": "execute_result"
    }
   ],
   "source": [
    "df.describe()"
   ]
  },
  {
   "cell_type": "code",
   "execution_count": 17,
   "metadata": {},
   "outputs": [],
   "source": [
    "#Now when DF is ready let look at plots to see how different Nodes have impact on Loan status where 0 is No and 1 is Yes"
   ]
  },
  {
   "cell_type": "code",
   "execution_count": 18,
   "metadata": {},
   "outputs": [
    {
     "data": {
      "text/plain": [
       "<AxesSubplot:xlabel='Education', ylabel='count'>"
      ]
     },
     "execution_count": 18,
     "metadata": {},
     "output_type": "execute_result"
    },
    {
     "data": {
      "image/png": "[encoded data removed]",
      "text/plain": [
       "<Figure size 432x288 with 1 Axes>"
      ]
     },
     "metadata": {
      "needs_background": "light"
     },
     "output_type": "display_data"
    }
   ],
   "source": [
    "sns.countplot(x='Education',hue='Loan_Status',data=df)"
   ]
  },
  {
   "cell_type": "code",
   "execution_count": 19,
   "metadata": {},
   "outputs": [],
   "source": [
    "# plot demonstatre that graduate person has bigger percent of approved loan."
   ]
  },
  {
   "cell_type": "code",
   "execution_count": 20,
   "metadata": {},
   "outputs": [
    {
     "data": {
      "text/plain": [
       "<AxesSubplot:xlabel='Dependents', ylabel='count'>"
      ]
     },
     "execution_count": 20,
     "metadata": {},
     "output_type": "execute_result"
    },
    {
     "data": {
      "image/png": "[encoded data removed]",
      "text/plain": [
       "<Figure size 432x288 with 1 Axes>"
      ]
     },
     "metadata": {
      "needs_background": "light"
     },
     "output_type": "display_data"
    }
   ],
   "source": [
    "sns.countplot(x='Dependents',hue='Loan_Status',data=df)"
   ]
  },
  {
   "cell_type": "code",
   "execution_count": 21,
   "metadata": {},
   "outputs": [
    {
     "data": {
      "text/plain": [
       "<AxesSubplot:xlabel='Married', ylabel='count'>"
      ]
     },
     "execution_count": 21,
     "metadata": {},
     "output_type": "execute_result"
    },
    {
     "data": {
      "image/png": "[encoded data removed]",
      "text/plain": [
       "<Figure size 432x288 with 1 Axes>"
      ]
     },
     "metadata": {
      "needs_background": "light"
     },
     "output_type": "display_data"
    }
   ],
   "source": [
    "sns.countplot(x='Married', hue='Loan_Status', data = df)"
   ]
  },
  {
   "cell_type": "code",
   "execution_count": 22,
   "metadata": {},
   "outputs": [],
   "source": [
    "# plot demonstatre that married person has bigger percent of approved loan beacuse there can have a pair income"
   ]
  },
  {
   "cell_type": "code",
   "execution_count": 23,
   "metadata": {},
   "outputs": [
    {
     "data": {
      "text/plain": [
       "<AxesSubplot:xlabel='Self_Employed', ylabel='count'>"
      ]
     },
     "execution_count": 23,
     "metadata": {},
     "output_type": "execute_result"
    },
    {
     "data": {
      "image/png": "[encoded data removed]",
      "text/plain": [
       "<Figure size 432x288 with 1 Axes>"
      ]
     },
     "metadata": {
      "needs_background": "light"
     },
     "output_type": "display_data"
    }
   ],
   "source": [
    "sns.countplot(x='Self_Employed', hue='Loan_Status', data = df)"
   ]
  },
  {
   "cell_type": "code",
   "execution_count": 24,
   "metadata": {},
   "outputs": [],
   "source": [
    "# plot show that self employed people has Denied more becuase they have risk be a bacnrupt"
   ]
  },
  {
   "cell_type": "code",
   "execution_count": 25,
   "metadata": {},
   "outputs": [
    {
     "data": {
      "text/plain": [
       "<AxesSubplot:xlabel='Gender', ylabel='count'>"
      ]
     },
     "execution_count": 25,
     "metadata": {},
     "output_type": "execute_result"
    },
    {
     "data": {
      "image/png": "[encoded data removed]",
      "text/plain": [
       "<Figure size 432x288 with 1 Axes>"
      ]
     },
     "metadata": {
      "needs_background": "light"
     },
     "output_type": "display_data"
    }
   ],
   "source": [
    "sns.countplot(x='Gender', hue='Loan_Status', data = df)"
   ]
  },
  {
   "cell_type": "code",
   "execution_count": 26,
   "metadata": {},
   "outputs": [],
   "source": [
    "# male has more aproved"
   ]
  },
  {
   "cell_type": "code",
   "execution_count": 27,
   "metadata": {},
   "outputs": [
    {
     "data": {
      "text/plain": [
       "<AxesSubplot:xlabel='Credit_History', ylabel='count'>"
      ]
     },
     "execution_count": 27,
     "metadata": {},
     "output_type": "execute_result"
    },
    {
     "data": {
      "image/png": "[encoded data removed]",
      "text/plain": [
       "<Figure size 432x288 with 1 Axes>"
      ]
     },
     "metadata": {
      "needs_background": "light"
     },
     "output_type": "display_data"
    }
   ],
   "source": [
    "sns.countplot(x='Credit_History', hue='Loan_Status', data = df)"
   ]
  },
  {
   "cell_type": "code",
   "execution_count": 28,
   "metadata": {},
   "outputs": [],
   "source": [
    "#The plot shows that credit history is an important factor while checking loan eligibility. \n",
    "#There are very few customers whose loan was approved even when their credit history did not meet required guideline"
   ]
  },
  {
   "cell_type": "code",
   "execution_count": 29,
   "metadata": {},
   "outputs": [
    {
     "data": {
      "text/plain": [
       "<AxesSubplot:xlabel='Property_Area', ylabel='count'>"
      ]
     },
     "execution_count": 29,
     "metadata": {},
     "output_type": "execute_result"
    },
    {
     "data": {
      "image/png": "[encoded data removed]",
      "text/plain": [
       "<Figure size 432x288 with 1 Axes>"
      ]
     },
     "metadata": {
      "needs_background": "light"
     },
     "output_type": "display_data"
    }
   ],
   "source": [
    "sns.countplot(x='Property_Area', hue='Loan_Status', data = df)"
   ]
  },
  {
   "cell_type": "code",
   "execution_count": 30,
   "metadata": {},
   "outputs": [
    {
     "data": {
      "text/plain": [
       "<AxesSubplot:xlabel='LoanAmount', ylabel='count'>"
      ]
     },
     "execution_count": 30,
     "metadata": {},
     "output_type": "execute_result"
    },
    {
     "data": {
      "image/png": "[encoded data removed]",
      "text/plain": [
       "<Figure size 432x288 with 1 Axes>"
      ]
     },
     "metadata": {
      "needs_background": "light"
     },
     "output_type": "display_data"
    }
   ],
   "source": [
    "sns.countplot(x='LoanAmount', hue='Loan_Status', data = df)"
   ]
  },
  {
   "cell_type": "code",
   "execution_count": 31,
   "metadata": {},
   "outputs": [],
   "source": [
    "# it also important plot because area demonstrate the ability to make money"
   ]
  },
  {
   "cell_type": "code",
   "execution_count": 32,
   "metadata": {},
   "outputs": [],
   "source": [
    "# plt.figure(figsize=(13,9))\n",
    "# sns.regplot(x='LoanAmount', y='Total_Income', data=df)\n",
    "# plt.show()"
   ]
  },
  {
   "cell_type": "code",
   "execution_count": 33,
   "metadata": {},
   "outputs": [],
   "source": [
    "#The plot shows that the loan amount is positively correlated with total income. This implies that the loan amount for higher-income applicants is progressively higher.\n",
    "#There are some outliers visible, showing applicants with low income having been given loans of a higher amount."
   ]
  },
  {
   "cell_type": "code",
   "execution_count": 34,
   "metadata": {},
   "outputs": [],
   "source": [
    "#Now that we have processed and explored our data, let's prepare it for Modeling."
   ]
  },
  {
   "cell_type": "code",
   "execution_count": 35,
   "metadata": {},
   "outputs": [],
   "source": [
    "#https://www.kaggle.com/code/patrickparsa/loan-eligibility-with-logistic-regression-and-knn"
   ]
  },
  {
   "cell_type": "code",
   "execution_count": 36,
   "metadata": {},
   "outputs": [],
   "source": [
    "\n",
    "# df.replace({'Married':{'No':0,'Yes':1},'Gender':{'Male':1,'Female':0},'Self_Employed':{'No':0,'Yes':1},\n",
    "#                       'Property_Area':{'Rural':0,'Semiurban':1,'Urban':2},'Education':{'Graduate':1,'Not Graduate':0}, 'Loan_Status':{'N':0,'Y':1}, 'Credit_History':{'0.0':0, '1.0': 1}},inplace=True)\n",
    "\n",
    "# df['Married']  = df['Married'].astype(int)\n",
    "# df['Gender']  = df['Gender'].astype(int)\n",
    "# df['Education']  = df['Education'].astype(int)\n",
    "# df['Self_Employed']  = df['Self_Employed'].astype(int)\n",
    "# df['Property_Area']  = df['Property_Area'].astype(int)\n",
    "# df['Loan_Status']  = df['Loan_Status'].astype(int)\n",
    "# df['Credit_History']  = df['Credit_History'].astype(int\n",
    "# df.head(5)"
   ]
  },
  {
   "cell_type": "code",
   "execution_count": 37,
   "metadata": {},
   "outputs": [],
   "source": [
    "import networkx as nx"
   ]
  },
  {
   "cell_type": "code",
   "execution_count": 38,
   "metadata": {
    "scrolled": true
   },
   "outputs": [
    {
     "name": "stderr",
     "output_type": "stream",
     "text": [
      "C:\\Users\\ASUS\\AppData\\Local\\Programs\\Python\\Python39\\lib\\site-packages\\pgmpy\\models\\BayesianModel.py:8: FutureWarning: BayesianModel has been renamed to BayesianNetwork. Please use BayesianNetwork class, BayesianModel will be removed in future.\n",
      "  warnings.warn(\n"
     ]
    },
    {
     "data": {
      "image/png": "[encoded data removed]",
      "text/plain": [
       "<Figure size 720x288 with 1 Axes>"
      ]
     },
     "metadata": {},
     "output_type": "display_data"
    }
   ],
   "source": [
    "#In this part the model and network are illustarted\n",
    "from pgmpy.models import BayesianModel\n",
    "model=BayesianModel([\n",
    "    ('Education', 'Married'),\n",
    "    ('Education', 'Self_Employed'),\n",
    "    ('Self_Employed', 'Property_Area'),\n",
    "    ('Married', 'Credit_History'),\n",
    "    ('Credit_History', 'Loan_Status'),\n",
    "    ('Property_Area', 'Loan_Status'),\n",
    "    ('Self_Employed', 'Loan_Status'),\n",
    "    ('Education', 'Loan_Status'),\n",
    "])\n",
    "fig, ax = plt.subplots(figsize=(10, 4))\n",
    "\n",
    "positions={ 'Education':(5.9,3),\n",
    "          'Married':(6,3), 'Self_Employed':(5.7,2), 'Property_Area':(5.8,2), 'Credit_History':(6,2),  'Loan_Status':(6,0)  }\n",
    "nx.draw(model, pos=positions, with_labels=True, node_size = 2000, font_size =10, arrowsize=10, node_color='yellow', ax=ax)"
   ]
  },
  {
   "cell_type": "code",
   "execution_count": 39,
   "metadata": {},
   "outputs": [],
   "source": [
    "#'Married':{'No':0,'Yes':1},'Self_Employed':{'No':0,'Yes':1},\n",
    "                      #'Property_Area':{'Rural':0,'Semiurban':1,'Urban':2},'Education':{'Graduate':1,'Not Graduate':0}, 'Loan_Status':{'N':0,'Y':1}, 'Credit_History':{'no':0, 'yes': 1}"
   ]
  },
  {
   "cell_type": "code",
   "execution_count": 40,
   "metadata": {
    "scrolled": true
   },
   "outputs": [
    {
     "name": "stdout",
     "output_type": "stream",
     "text": [
      "1    0.687188\n",
      "0    0.312812\n",
      "Name: Married, dtype: float64\n",
      "********************\n",
      "0    0.569052\n",
      "1    0.430948\n",
      "Name: Education, dtype: float64\n",
      "********************\n",
      "0    0.550749\n",
      "1    0.449251\n",
      "Name: Self_Employed, dtype: float64\n",
      "********************\n",
      "1    0.540765\n",
      "0    0.459235\n",
      "Name: Credit_History, dtype: float64\n",
      "********************\n",
      "1.0    0.377704\n",
      "2.0    0.329451\n",
      "0.0    0.292845\n",
      "Name: Property_Area, dtype: float64\n",
      "********************\n",
      "1.0    0.688852\n",
      "0.0    0.311148\n",
      "Name: Loan_Status, dtype: float64\n",
      "********************\n"
     ]
    }
   ],
   "source": [
    "categorical_clmn= [ 'Married', 'Education', 'Self_Employed', 'Credit_History','Property_Area', 'Loan_Status']\n",
    "\n",
    "for clmn in categorical_clmn:\n",
    "    print(df[clmn].value_counts(normalize=True)) \n",
    "    print('*'*20)   "
   ]
  },
  {
   "cell_type": "code",
   "execution_count": 41,
   "metadata": {},
   "outputs": [],
   "source": [
    "def one_node_prob(node1): #find probability \n",
    "    a = np.unique(node1) \n",
    "    values_v1 = [] \n",
    "    for A  in a: \n",
    "        values_v1.append(np.count_nonzero(node1 == A)/len(node1))\n",
    "    return values_v1\n",
    "\n",
    "def two_node_prob(node1, node2, len1, len2): \n",
    "    array = np.array(pd.crosstab(df[node1], df[node2]))\n",
    "    probability = [] \n",
    "    for i in array:\n",
    "        arr = []\n",
    "        for j in i:\n",
    "            arr.append(j/len(df[node1]))\n",
    "        probability.append(arr)\n",
    "    return probability\n",
    "\n",
    "def three_node_prob(node1, node2, node3): \n",
    "    a = np.unique(df[node1]) \n",
    "    b = np.unique(df[node2]) \n",
    "    c = np.unique(df[node3]) \n",
    "    three_probability = [] \n",
    "    for A  in a: \n",
    "        values_v123 = [] \n",
    "        for B in b:\n",
    "            for C in c:\n",
    "                values_v123.append(((df[node1]==A)&(df[node2]==B)&(df[node3]==C)).sum()/len(df[node1]))\n",
    "        three_probability.append(values_v123)\n",
    "    return three_probability\n",
    "\n",
    "def five_node_prob(node1, node2, node3, node4, node5): \n",
    "    a = np.unique(df[node1]) \n",
    "    b = np.unique(df[node2]) \n",
    "    c = np.unique(df[node3]) \n",
    "    d = np.unique(df[node4]) \n",
    "    e = np.unique(df[node5])\n",
    "    five_probability = [] \n",
    "    for A  in a: \n",
    "        values_v12345 = [] \n",
    "        for B in b:\n",
    "            for C in c:\n",
    "                for D in d:\n",
    "                     for E in e:\n",
    "                        values_v12345.append(((df[node1]==A)&(df[node2]==B)&(df[node3]==C)&(df[node4]==D)&(df[node5]==E)).sum()/len(df[node1]))\n",
    "        five_probability.append(values_v12345)\n",
    "    return five_probability"
   ]
  },
  {
   "cell_type": "code",
   "execution_count": null,
   "metadata": {},
   "outputs": [],
   "source": []
  },
  {
   "cell_type": "code",
   "execution_count": 42,
   "metadata": {},
   "outputs": [
    {
     "name": "stdout",
     "output_type": "stream",
     "text": [
      "[0.5690515806988353, 0.43094841930116473]\n"
     ]
    }
   ],
   "source": [
    "probability_of_education = one_node_prob(df['Education'])\n",
    "print(probability_of_education)"
   ]
  },
  {
   "cell_type": "code",
   "execution_count": 43,
   "metadata": {},
   "outputs": [
    {
     "name": "stdout",
     "output_type": "stream",
     "text": [
      "[[0.0, 0.5690515806988353], [0.31281198003327787, 0.11813643926788686]]\n"
     ]
    }
   ],
   "source": [
    "probability_of_married = two_node_prob('Education', 'Married', 2, 2) \n",
    "print(probability_of_married)"
   ]
  },
  {
   "cell_type": "code",
   "execution_count": 44,
   "metadata": {},
   "outputs": [
    {
     "name": "stdout",
     "output_type": "stream",
     "text": [
      "[[0.480865224625624, 0.08818635607321132], [0.06988352745424292, 0.3610648918469218]]\n"
     ]
    }
   ],
   "source": [
    "probability_of_self_employed = two_node_prob('Education', 'Self_Employed', 2, 2) \n",
    "print(probability_of_self_employed)"
   ]
  },
  {
   "cell_type": "code",
   "execution_count": 45,
   "metadata": {},
   "outputs": [
    {
     "name": "stdout",
     "output_type": "stream",
     "text": [
      "[[0.1464226289517471, 0.22462562396006655, 0.17970049916805325], [0.1464226289517471, 0.15307820299500832, 0.1497504159733777]]\n"
     ]
    }
   ],
   "source": [
    "probability_of_property_area = two_node_prob('Self_Employed', 'Property_Area', 2, 3) \n",
    "print(probability_of_property_area)"
   ]
  },
  {
   "cell_type": "code",
   "execution_count": 46,
   "metadata": {},
   "outputs": [
    {
     "name": "stdout",
     "output_type": "stream",
     "text": [
      "[[0.2928452579034942, 0.019966722129783693], [0.16638935108153077, 0.5207986688851913]]\n"
     ]
    }
   ],
   "source": [
    "probability_of_credit_history = two_node_prob( 'Married','Credit_History', 2, 2) \n",
    "print(probability_of_credit_history)"
   ]
  },
  {
   "cell_type": "code",
   "execution_count": 47,
   "metadata": {},
   "outputs": [
    {
     "name": "stdout",
     "output_type": "stream",
     "text": [
      "[[0.0, 0.016638935108153077, 0.0, 0.10981697171381032, 0.0, 0.04326123128119801, 0.0, 0.15806988352745424, 0.0, 0.036605657237936774, 0.0, 0.11647254575707154, 0.0, 0.0, 0.0, 0.021630615640599003, 0.0, 0.018302828618968387, 0.0, 0.026622296173044926, 0.0, 0.004991680532445923, 0.0, 0.016638935108153077], [0.0, 0.004991680532445923, 0.0, 0.014975041597337771, 0.0, 0.013311148086522463, 0.0, 0.009983361064891847, 0.0, 0.011647254575707155, 0.0, 0.014975041597337771, 0.10815307820299501, 0.004991680532445923, 0.0033277870216306157, 0.008319467554076539, 0.08319467554076539, 0.009983361064891847, 0.0033277870216306157, 0.011647254575707155, 0.09983361064891846, 0.0033277870216306157, 0.013311148086522463, 0.011647254575707155]]\n"
     ]
    }
   ],
   "source": [
    "probability_of_loan_status = five_node_prob( 'Education','Self_Employed','Property_Area','Credit_History', 'Loan_Status') \n",
    "print(probability_of_loan_status)"
   ]
  },
  {
   "cell_type": "code",
   "execution_count": 48,
   "metadata": {},
   "outputs": [
    {
     "data": {
      "text/plain": [
       "array([[0.14642263, 0.22462562],\n",
       "       [0.1797005 , 0.14642263],\n",
       "       [0.1530782 , 0.14975042]])"
      ]
     },
     "execution_count": 48,
     "metadata": {},
     "output_type": "execute_result"
    }
   ],
   "source": [
    "np.reshape(probability_of_property_area, (3, -1))"
   ]
  },
  {
   "cell_type": "code",
   "execution_count": 49,
   "metadata": {},
   "outputs": [
    {
     "data": {
      "text/plain": [
       "(array([[0.29284526, 0.01996672],\n",
       "        [0.16638935, 0.52079867]]),)"
      ]
     },
     "execution_count": 49,
     "metadata": {},
     "output_type": "execute_result"
    }
   ],
   "source": [
    "np.reshape(probability_of_credit_history, (-1, 2)),"
   ]
  },
  {
   "cell_type": "code",
   "execution_count": 50,
   "metadata": {},
   "outputs": [],
   "source": [
    "#Lets add probability\n",
    "from pgmpy.factors.discrete import TabularCPD\n",
    "Education_cpd = TabularCPD('Education', 2, np.reshape(probability_of_education, (-1, 1)))\n",
    "\n",
    "# Education_cpd = TabularCPD(variable='Education', variable_card=2, \n",
    "#                           values=np.reshape(probability_of_education, (-1, 2)),\n",
    "#                           evidence=['Gender'],\n",
    "#                           evidence_card=[2])\n",
    "Self_employed_cpd = TabularCPD(variable='Self_Employed', variable_card=2, \n",
    "                          values=np.reshape(probability_of_self_employed, (-1, 2)),\n",
    "                          evidence=['Education'],\n",
    "                          evidence_card=[2])\n",
    "\n",
    "Property_area_cpd = TabularCPD(variable='Property_Area', variable_card=3, \n",
    "                          values=np.reshape(probability_of_property_area, (3, -1)),\n",
    "                          evidence=['Self_Employed'],\n",
    "                          evidence_card=[2])\n",
    "\n",
    "\n",
    "Married_cpd = TabularCPD(variable='Married', variable_card=2, \n",
    "                          values=np.reshape(probability_of_married, (-1, 2)),\n",
    "                          evidence=['Education'],\n",
    "                          evidence_card=[2])\n",
    "\n",
    "\n",
    "Credit_History_cpd = TabularCPD(variable='Credit_History', variable_card=2, \n",
    "                          values=np.reshape(probability_of_credit_history, (-1, 2)),\n",
    "                          evidence=['Married'],\n",
    "                          evidence_card=[2])\n",
    "\n",
    "Loan_status_cpd = TabularCPD(variable='Loan_Status', variable_card=2, \n",
    "                          values=np.reshape(probability_of_loan_status, (-1, 24)),\n",
    "                          evidence=['Education','Self_Employed', 'Property_Area', 'Credit_History'],\n",
    "                          evidence_card=[2, 2, 3, 2])"
   ]
  },
  {
   "cell_type": "code",
   "execution_count": 51,
   "metadata": {},
   "outputs": [],
   "source": [
    "#'Married':{'No':0,'Yes':1},'Self_Employed':{'No':0,'Yes':1},\n",
    "                      #'Property_Area':{'Rural':0,'Semiurban':1,'Urban':2},'Education':{'Graduate':1,'Not Graduate':0}, 'Loan_Status':{'N':0,'Y':1}, 'Credit_History':{'no':0, 'yes': 1}"
   ]
  },
  {
   "cell_type": "code",
   "execution_count": 62,
   "metadata": {},
   "outputs": [
    {
     "name": "stdout",
     "output_type": "stream",
     "text": [
      "Model state:  True\n",
      "+----------------+-------------------+-----+----------------------+----------------------+\n",
      "| Education      | Education(0)      | ... | Education(1)         | Education(1)         |\n",
      "+----------------+-------------------+-----+----------------------+----------------------+\n",
      "| Self_Employed  | Self_Employed(0)  | ... | Self_Employed(1)     | Self_Employed(1)     |\n",
      "+----------------+-------------------+-----+----------------------+----------------------+\n",
      "| Property_Area  | Property_Area(0)  | ... | Property_Area(2)     | Property_Area(2)     |\n",
      "+----------------+-------------------+-----+----------------------+----------------------+\n",
      "| Credit_History | Credit_History(0) | ... | Credit_History(0)    | Credit_History(1)    |\n",
      "+----------------+-------------------+-----+----------------------+----------------------+\n",
      "| Loan_Status(0) | 0.0               | ... | 0.0                  | 0.016638935108153077 |\n",
      "+----------------+-------------------+-----+----------------------+----------------------+\n",
      "| Loan_Status(1) | 0.0               | ... | 0.013311148086522463 | 0.011647254575707155 |\n",
      "+----------------+-------------------+-----+----------------------+----------------------+\n"
     ]
    }
   ],
   "source": [
    "model.add_cpds( Education_cpd, Self_employed_cpd, Property_area_cpd, Married_cpd, Credit_History_cpd, Loan_status_cpd)\n",
    "model.fit(df)\n",
    "print('Model state: ', model.check_model())\n",
    "print(Loan_status_cpd)"
   ]
  },
  {
   "cell_type": "code",
   "execution_count": 53,
   "metadata": {},
   "outputs": [
    {
     "data": {
      "text/plain": [
       "(Loan_Status ⟂ Married | Property_Area, Self_Employed, Education, Credit_History)\n",
       "(Self_Employed ⟂ Married, Credit_History | Education)\n",
       "(Property_Area ⟂ Education, Married, Credit_History | Self_Employed)\n",
       "(Married ⟂ Self_Employed, Property_Area | Education)\n",
       "(Credit_History ⟂ Self_Employed, Education, Property_Area | Married)"
      ]
     },
     "execution_count": 53,
     "metadata": {},
     "output_type": "execute_result"
    }
   ],
   "source": [
    "model.local_independencies(['Loan_Status',  'Education', 'Self_Employed', 'Property_Area', 'Married', 'Credit_History'])"
   ]
  },
  {
   "cell_type": "code",
   "execution_count": 54,
   "metadata": {},
   "outputs": [],
   "source": [
    "#'Married':{'No':0,'Yes':1},'Gender':{'Male':1,'Female':0},'Self_Employed':{'No':0,'Yes':1},\n",
    "                      #'Property_Area':{'Rural':0,'Semiurban':1,'Urban':2},'Education':{'Graduate':0,'Not Graduate':1}, 'Loan_Status':{'N':0,'Y':1}, 'Credit_History':{'0.0':0, '1.0': 1}"
   ]
  },
  {
   "cell_type": "code",
   "execution_count": 68,
   "metadata": {},
   "outputs": [
    {
     "data": {
      "application/vnd.jupyter.widget-view+json": {
       "model_id": "df1392eb00f0413f91a7a72a54edb08b",
       "version_major": 2,
       "version_minor": 0
      },
      "text/plain": [
       "0it [00:00, ?it/s]"
      ]
     },
     "metadata": {},
     "output_type": "display_data"
    },
    {
     "data": {
      "application/vnd.jupyter.widget-view+json": {
       "model_id": "c6730c059e404cfb92833bedc9ee470e",
       "version_major": 2,
       "version_minor": 0
      },
      "text/plain": [
       "0it [00:00, ?it/s]"
      ]
     },
     "metadata": {},
     "output_type": "display_data"
    },
    {
     "name": "stdout",
     "output_type": "stream",
     "text": [
      "Query with 4 node (all) +------------------+--------------------+\n",
      "| Loan_Status      |   phi(Loan_Status) |\n",
      "+==================+====================+\n",
      "| Loan_Status(0.0) |             0.9677 |\n",
      "+------------------+--------------------+\n",
      "| Loan_Status(1.0) |             0.0323 |\n",
      "+------------------+--------------------+\n"
     ]
    },
    {
     "data": {
      "application/vnd.jupyter.widget-view+json": {
       "model_id": "e3e6d2a845d24ffc915c96a56301d7a6",
       "version_major": 2,
       "version_minor": 0
      },
      "text/plain": [
       "  0%|          | 0/4 [00:00<?, ?it/s]"
      ]
     },
     "metadata": {},
     "output_type": "display_data"
    },
    {
     "data": {
      "application/vnd.jupyter.widget-view+json": {
       "model_id": "6133c040c463483aaa66431ac080da63",
       "version_major": 2,
       "version_minor": 0
      },
      "text/plain": [
       "  0%|          | 0/4 [00:00<?, ?it/s]"
      ]
     },
     "metadata": {},
     "output_type": "display_data"
    },
    {
     "name": "stdout",
     "output_type": "stream",
     "text": [
      "Query with Credit_History +------------------+--------------------+\n",
      "| Loan_Status      |   phi(Loan_Status) |\n",
      "+==================+====================+\n",
      "| Loan_Status(0.0) |             0.5579 |\n",
      "+------------------+--------------------+\n",
      "| Loan_Status(1.0) |             0.4421 |\n",
      "+------------------+--------------------+\n"
     ]
    },
    {
     "data": {
      "application/vnd.jupyter.widget-view+json": {
       "model_id": "65b21eb36d1a494db6c705878d78caad",
       "version_major": 2,
       "version_minor": 0
      },
      "text/plain": [
       "  0%|          | 0/4 [00:00<?, ?it/s]"
      ]
     },
     "metadata": {},
     "output_type": "display_data"
    },
    {
     "data": {
      "application/vnd.jupyter.widget-view+json": {
       "model_id": "57c10e18cc8e47fc80ad3fc9aedade2e",
       "version_major": 2,
       "version_minor": 0
      },
      "text/plain": [
       "  0%|          | 0/4 [00:00<?, ?it/s]"
      ]
     },
     "metadata": {},
     "output_type": "display_data"
    },
    {
     "name": "stdout",
     "output_type": "stream",
     "text": [
      "Query with Property_Area +------------------+--------------------+\n",
      "| Loan_Status      |   phi(Loan_Status) |\n",
      "+==================+====================+\n",
      "| Loan_Status(0.0) |             0.3132 |\n",
      "+------------------+--------------------+\n",
      "| Loan_Status(1.0) |             0.6868 |\n",
      "+------------------+--------------------+\n"
     ]
    },
    {
     "data": {
      "application/vnd.jupyter.widget-view+json": {
       "model_id": "dca3841308cc415a9c189504c709117c",
       "version_major": 2,
       "version_minor": 0
      },
      "text/plain": [
       "  0%|          | 0/4 [00:00<?, ?it/s]"
      ]
     },
     "metadata": {},
     "output_type": "display_data"
    },
    {
     "data": {
      "application/vnd.jupyter.widget-view+json": {
       "model_id": "db15393d81d741e5b621f92933ed9baf",
       "version_major": 2,
       "version_minor": 0
      },
      "text/plain": [
       "  0%|          | 0/4 [00:00<?, ?it/s]"
      ]
     },
     "metadata": {},
     "output_type": "display_data"
    },
    {
     "name": "stdout",
     "output_type": "stream",
     "text": [
      "Query with 'Self_Employed') +------------------+--------------------+\n",
      "| Loan_Status      |   phi(Loan_Status) |\n",
      "+==================+====================+\n",
      "| Loan_Status(0.0) |             0.0000 |\n",
      "+------------------+--------------------+\n",
      "| Loan_Status(1.0) |             1.0000 |\n",
      "+------------------+--------------------+\n"
     ]
    },
    {
     "data": {
      "application/vnd.jupyter.widget-view+json": {
       "model_id": "7bc5c35930474b0a96eea72b2606751c",
       "version_major": 2,
       "version_minor": 0
      },
      "text/plain": [
       "  0%|          | 0/4 [00:00<?, ?it/s]"
      ]
     },
     "metadata": {},
     "output_type": "display_data"
    },
    {
     "data": {
      "application/vnd.jupyter.widget-view+json": {
       "model_id": "3b0a193602eb412daa7259c4c9ce5612",
       "version_major": 2,
       "version_minor": 0
      },
      "text/plain": [
       "  0%|          | 0/4 [00:00<?, ?it/s]"
      ]
     },
     "metadata": {},
     "output_type": "display_data"
    },
    {
     "name": "stdout",
     "output_type": "stream",
     "text": [
      "Query with 'Education') +------------------+--------------------+\n",
      "| Loan_Status      |   phi(Loan_Status) |\n",
      "+==================+====================+\n",
      "| Loan_Status(0.0) |             0.0061 |\n",
      "+------------------+--------------------+\n",
      "| Loan_Status(1.0) |             0.9939 |\n",
      "+------------------+--------------------+\n"
     ]
    }
   ],
   "source": [
    "from pgmpy.inference import VariableElimination\n",
    "infer = VariableElimination(model)\n",
    "q1=infer.query(variables=['Loan_Status'],evidence={ 'Education':1,'Self_Employed':1, 'Credit_History':0,   'Property_Area':2, })\n",
    "print(\"Query with 4 node (all)\", q1)\n",
    "q2=infer.query(variables=['Loan_Status'],evidence={ 'Credit_History':0, })\n",
    "print(\"Query with Credit_History\",q2)\n",
    "q3=infer.query(variables=['Loan_Status'],evidence={ 'Property_Area':2, })\n",
    "print(\"Query with Property_Area\",q3)\n",
    "q4=infer.query(variables=['Loan_Status'],evidence={ 'Self_Employed':1, })\n",
    "print(\"Query with 'Self_Employed')\",q4)\n",
    "q5=infer.query(variables=['Loan_Status'],evidence={ 'Education':0 })\n",
    "print(\"Query with 'Education')\",q5)"
   ]
  },
  {
   "cell_type": "code",
   "execution_count": 56,
   "metadata": {},
   "outputs": [
    {
     "data": {
      "text/html": [
       "<div>\n",
       "<style scoped>\n",
       "    .dataframe tbody tr th:only-of-type {\n",
       "        vertical-align: middle;\n",
       "    }\n",
       "\n",
       "    .dataframe tbody tr th {\n",
       "        vertical-align: top;\n",
       "    }\n",
       "\n",
       "    .dataframe thead th {\n",
       "        text-align: right;\n",
       "    }\n",
       "</style>\n",
       "<table border=\"1\" class=\"dataframe\">\n",
       "  <thead>\n",
       "    <tr style=\"text-align: right;\">\n",
       "      <th></th>\n",
       "      <th>Gender</th>\n",
       "      <th>Married</th>\n",
       "      <th>Dependents</th>\n",
       "      <th>Education</th>\n",
       "      <th>Self_Employed</th>\n",
       "      <th>LoanAmount</th>\n",
       "      <th>Loan_Amount_Term</th>\n",
       "      <th>Credit_History</th>\n",
       "      <th>Property_Area</th>\n",
       "      <th>Loan_Status</th>\n",
       "      <th>Total_Income</th>\n",
       "    </tr>\n",
       "  </thead>\n",
       "  <tbody>\n",
       "    <tr>\n",
       "      <th>0</th>\n",
       "      <td>0</td>\n",
       "      <td>1</td>\n",
       "      <td>0</td>\n",
       "      <td>0</td>\n",
       "      <td>0</td>\n",
       "      <td>146.412162</td>\n",
       "      <td>30.0</td>\n",
       "      <td>0</td>\n",
       "      <td>2.0</td>\n",
       "      <td>1.0</td>\n",
       "      <td>5849.0</td>\n",
       "    </tr>\n",
       "    <tr>\n",
       "      <th>1</th>\n",
       "      <td>1</td>\n",
       "      <td>0</td>\n",
       "      <td>1</td>\n",
       "      <td>1</td>\n",
       "      <td>1</td>\n",
       "      <td>128.000000</td>\n",
       "      <td>30.0</td>\n",
       "      <td>0</td>\n",
       "      <td>0.0</td>\n",
       "      <td>0.0</td>\n",
       "      <td>6091.0</td>\n",
       "    </tr>\n",
       "  </tbody>\n",
       "</table>\n",
       "</div>"
      ],
      "text/plain": [
       "   Gender  Married  Dependents  Education  Self_Employed  LoanAmount  \\\n",
       "0       0        1           0          0              0  146.412162   \n",
       "1       1        0           1          1              1  128.000000   \n",
       "\n",
       "   Loan_Amount_Term  Credit_History  Property_Area  Loan_Status  Total_Income  \n",
       "0              30.0               0            2.0          1.0        5849.0  \n",
       "1              30.0               0            0.0          0.0        6091.0  "
      ]
     },
     "execution_count": 56,
     "metadata": {},
     "output_type": "execute_result"
    }
   ],
   "source": [
    "df.head(2)"
   ]
  },
  {
   "cell_type": "code",
   "execution_count": 57,
   "metadata": {},
   "outputs": [],
   "source": [
    "import re\n",
    "from sklearn.model_selection import train_test_split\n",
    "train,test = train_test_split(df, test_size=0.5, random_state=100)\n",
    "X_train=train.iloc[:, [False,True, False, True, True, False, False, True, True, False, False]]\n",
    "X_test=test.iloc[:, [False,True, False, True, True, False, False, True, True, False, False]]\n",
    "y_train=train['Loan_Status']\n",
    "y_test=test['Loan_Status']"
   ]
  },
  {
   "cell_type": "code",
   "execution_count": 58,
   "metadata": {},
   "outputs": [],
   "source": [
    "from pgmpy.estimators import MaximumLikelihoodEstimator\n",
    "model.fit(train, estimator=MaximumLikelihoodEstimator)"
   ]
  },
  {
   "cell_type": "code",
   "execution_count": 59,
   "metadata": {},
   "outputs": [
    {
     "data": {
      "application/vnd.jupyter.widget-view+json": {
       "model_id": "7495530b221143679ab6ea5604b39cbc",
       "version_major": 2,
       "version_minor": 0
      },
      "text/plain": [
       "  0%|          | 0/28 [00:00<?, ?it/s]"
      ]
     },
     "metadata": {},
     "output_type": "display_data"
    },
    {
     "data": {
      "text/plain": [
       "0.7827530022328164"
      ]
     },
     "execution_count": 59,
     "metadata": {},
     "output_type": "execute_result"
    }
   ],
   "source": [
    "from sklearn.metrics import r2_score\n",
    "train_accuracy=r2_score(y_train,model.predict(X_train))\n",
    "train_accuracy"
   ]
  },
  {
   "cell_type": "code",
   "execution_count": 60,
   "metadata": {},
   "outputs": [
    {
     "data": {
      "application/vnd.jupyter.widget-view+json": {
       "model_id": "4f37bafd35bd45579d0e851295be83e0",
       "version_major": 2,
       "version_minor": 0
      },
      "text/plain": [
       "  0%|          | 0/27 [00:00<?, ?it/s]"
      ]
     },
     "metadata": {},
     "output_type": "display_data"
    }
   ],
   "source": [
    "y_pred = model.predict(X_test)"
   ]
  },
  {
   "cell_type": "code",
   "execution_count": 61,
   "metadata": {},
   "outputs": [
    {
     "data": {
      "text/plain": [
       "0.7599681020733653"
      ]
     },
     "execution_count": 61,
     "metadata": {},
     "output_type": "execute_result"
    }
   ],
   "source": [
    "test_accuracy=r2_score(y_test,y_pred)\n",
    "test_accuracy"
   ]
  },
  {
   "cell_type": "code",
   "execution_count": null,
   "metadata": {},
   "outputs": [],
   "source": []
  },
  {
   "cell_type": "code",
   "execution_count": null,
   "metadata": {},
   "outputs": [],
   "source": []
  }
 ],
 "metadata": {
  "kernelspec": {
   "display_name": "Python 3 (ipykernel)",
   "language": "python",
   "name": "python3"
  },
  "language_info": {
   "codemirror_mode": {
    "name": "ipython",
    "version": 3
   },
   "file_extension": ".py",
   "mimetype": "text/x-python",
   "name": "python",
   "nbconvert_exporter": "python",
   "pygments_lexer": "ipython3",
   "version": "3.9.7"
  }
 },
 "nbformat": 4,
 "nbformat_minor": 4
}
