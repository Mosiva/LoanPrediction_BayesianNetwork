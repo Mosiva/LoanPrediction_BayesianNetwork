{
 "cells": [
  {
   "cell_type": "code",
   "execution_count": 40,
   "metadata": {},
   "outputs": [
    {
     "data": {
      "text/html": [
       "<div>\n",
       "<style scoped>\n",
       "    .dataframe tbody tr th:only-of-type {\n",
       "        vertical-align: middle;\n",
       "    }\n",
       "\n",
       "    .dataframe tbody tr th {\n",
       "        vertical-align: top;\n",
       "    }\n",
       "\n",
       "    .dataframe thead th {\n",
       "        text-align: right;\n",
       "    }\n",
       "</style>\n",
       "<table border=\"1\" class=\"dataframe\">\n",
       "  <thead>\n",
       "    <tr style=\"text-align: right;\">\n",
       "      <th></th>\n",
       "      <th>Gender</th>\n",
       "      <th>Married</th>\n",
       "      <th>Dependents</th>\n",
       "      <th>Education</th>\n",
       "      <th>Self_Employed</th>\n",
       "      <th>LoanAmount</th>\n",
       "      <th>Loan_Amount_Term</th>\n",
       "      <th>Credit_History</th>\n",
       "      <th>Property_Area</th>\n",
       "      <th>Loan_Status</th>\n",
       "      <th>Total_Income</th>\n",
       "    </tr>\n",
       "  </thead>\n",
       "  <tbody>\n",
       "    <tr>\n",
       "      <th>count</th>\n",
       "      <td>601.000000</td>\n",
       "      <td>601.000000</td>\n",
       "      <td>601.000000</td>\n",
       "      <td>601.000000</td>\n",
       "      <td>601.000000</td>\n",
       "      <td>601.000000</td>\n",
       "      <td>601.000000</td>\n",
       "      <td>601.000000</td>\n",
       "      <td>600.000000</td>\n",
       "      <td>600.000000</td>\n",
       "      <td>600.000000</td>\n",
       "    </tr>\n",
       "    <tr>\n",
       "      <th>mean</th>\n",
       "      <td>0.648918</td>\n",
       "      <td>0.687188</td>\n",
       "      <td>0.813644</td>\n",
       "      <td>0.430948</td>\n",
       "      <td>0.449251</td>\n",
       "      <td>144.850362</td>\n",
       "      <td>27.429285</td>\n",
       "      <td>0.540765</td>\n",
       "      <td>1.038333</td>\n",
       "      <td>0.688333</td>\n",
       "      <td>6920.379867</td>\n",
       "    </tr>\n",
       "    <tr>\n",
       "      <th>std</th>\n",
       "      <td>0.477706</td>\n",
       "      <td>0.464025</td>\n",
       "      <td>1.199394</td>\n",
       "      <td>0.495621</td>\n",
       "      <td>0.497832</td>\n",
       "      <td>81.246122</td>\n",
       "      <td>8.540662</td>\n",
       "      <td>0.498751</td>\n",
       "      <td>0.788183</td>\n",
       "      <td>0.463561</td>\n",
       "      <td>6213.130723</td>\n",
       "    </tr>\n",
       "    <tr>\n",
       "      <th>min</th>\n",
       "      <td>0.000000</td>\n",
       "      <td>0.000000</td>\n",
       "      <td>0.000000</td>\n",
       "      <td>0.000000</td>\n",
       "      <td>0.000000</td>\n",
       "      <td>2.000000</td>\n",
       "      <td>0.000000</td>\n",
       "      <td>0.000000</td>\n",
       "      <td>0.000000</td>\n",
       "      <td>0.000000</td>\n",
       "      <td>1442.000000</td>\n",
       "    </tr>\n",
       "    <tr>\n",
       "      <th>25%</th>\n",
       "      <td>0.000000</td>\n",
       "      <td>0.000000</td>\n",
       "      <td>0.000000</td>\n",
       "      <td>0.000000</td>\n",
       "      <td>0.000000</td>\n",
       "      <td>100.000000</td>\n",
       "      <td>30.000000</td>\n",
       "      <td>0.000000</td>\n",
       "      <td>0.000000</td>\n",
       "      <td>0.000000</td>\n",
       "      <td>4158.250000</td>\n",
       "    </tr>\n",
       "    <tr>\n",
       "      <th>50%</th>\n",
       "      <td>1.000000</td>\n",
       "      <td>1.000000</td>\n",
       "      <td>0.000000</td>\n",
       "      <td>0.000000</td>\n",
       "      <td>0.000000</td>\n",
       "      <td>128.000000</td>\n",
       "      <td>30.000000</td>\n",
       "      <td>1.000000</td>\n",
       "      <td>1.000000</td>\n",
       "      <td>1.000000</td>\n",
       "      <td>5407.000000</td>\n",
       "    </tr>\n",
       "    <tr>\n",
       "      <th>75%</th>\n",
       "      <td>1.000000</td>\n",
       "      <td>1.000000</td>\n",
       "      <td>1.000000</td>\n",
       "      <td>1.000000</td>\n",
       "      <td>1.000000</td>\n",
       "      <td>162.000000</td>\n",
       "      <td>30.000000</td>\n",
       "      <td>1.000000</td>\n",
       "      <td>2.000000</td>\n",
       "      <td>1.000000</td>\n",
       "      <td>7451.500000</td>\n",
       "    </tr>\n",
       "    <tr>\n",
       "      <th>max</th>\n",
       "      <td>1.000000</td>\n",
       "      <td>1.000000</td>\n",
       "      <td>4.000000</td>\n",
       "      <td>1.000000</td>\n",
       "      <td>1.000000</td>\n",
       "      <td>650.000000</td>\n",
       "      <td>40.000000</td>\n",
       "      <td>1.000000</td>\n",
       "      <td>2.000000</td>\n",
       "      <td>1.000000</td>\n",
       "      <td>81000.000000</td>\n",
       "    </tr>\n",
       "  </tbody>\n",
       "</table>\n",
       "</div>"
      ],
      "text/plain": [
       "           Gender     Married  Dependents   Education  Self_Employed  \\\n",
       "count  601.000000  601.000000  601.000000  601.000000     601.000000   \n",
       "mean     0.648918    0.687188    0.813644    0.430948       0.449251   \n",
       "std      0.477706    0.464025    1.199394    0.495621       0.497832   \n",
       "min      0.000000    0.000000    0.000000    0.000000       0.000000   \n",
       "25%      0.000000    0.000000    0.000000    0.000000       0.000000   \n",
       "50%      1.000000    1.000000    0.000000    0.000000       0.000000   \n",
       "75%      1.000000    1.000000    1.000000    1.000000       1.000000   \n",
       "max      1.000000    1.000000    4.000000    1.000000       1.000000   \n",
       "\n",
       "       LoanAmount  Loan_Amount_Term  Credit_History  Property_Area  \\\n",
       "count  601.000000        601.000000      601.000000     600.000000   \n",
       "mean   144.850362         27.429285        0.540765       1.038333   \n",
       "std     81.246122          8.540662        0.498751       0.788183   \n",
       "min      2.000000          0.000000        0.000000       0.000000   \n",
       "25%    100.000000         30.000000        0.000000       0.000000   \n",
       "50%    128.000000         30.000000        1.000000       1.000000   \n",
       "75%    162.000000         30.000000        1.000000       2.000000   \n",
       "max    650.000000         40.000000        1.000000       2.000000   \n",
       "\n",
       "       Loan_Status  Total_Income  \n",
       "count   600.000000    600.000000  \n",
       "mean      0.688333   6920.379867  \n",
       "std       0.463561   6213.130723  \n",
       "min       0.000000   1442.000000  \n",
       "25%       0.000000   4158.250000  \n",
       "50%       1.000000   5407.000000  \n",
       "75%       1.000000   7451.500000  \n",
       "max       1.000000  81000.000000  "
      ]
     },
     "execution_count": 40,
     "metadata": {},
     "output_type": "execute_result"
    }
   ],
   "source": [
    "import pandas as pd\n",
    "import numpy as np\n",
    "import matplotlib.pyplot as plt\n",
    "import seaborn as sns\n",
    "from sklearn.model_selection import train_test_split\n",
    "from sklearn import svm\n",
    "from sklearn.metrics import accuracy_score\n",
    "df = pd.read_csv('trainM.csv')\n",
    "df.describe()"
   ]
  },
  {
   "cell_type": "code",
   "execution_count": 41,
   "metadata": {},
   "outputs": [
    {
     "name": "stdout",
     "output_type": "stream",
     "text": [
      "<class 'pandas.core.frame.DataFrame'>\n",
      "RangeIndex: 601 entries, 0 to 600\n",
      "Data columns (total 11 columns):\n",
      " #   Column            Non-Null Count  Dtype  \n",
      "---  ------            --------------  -----  \n",
      " 0   Gender            601 non-null    int64  \n",
      " 1   Married           601 non-null    int64  \n",
      " 2   Dependents        601 non-null    int64  \n",
      " 3   Education         601 non-null    int64  \n",
      " 4   Self_Employed     601 non-null    int64  \n",
      " 5   LoanAmount        601 non-null    float64\n",
      " 6   Loan_Amount_Term  601 non-null    float64\n",
      " 7   Credit_History    601 non-null    int64  \n",
      " 8   Property_Area     600 non-null    float64\n",
      " 9   Loan_Status       600 non-null    float64\n",
      " 10  Total_Income      600 non-null    float64\n",
      "dtypes: float64(5), int64(6)\n",
      "memory usage: 51.8 KB\n"
     ]
    }
   ],
   "source": [
    "df.info()"
   ]
  },
  {
   "cell_type": "code",
   "execution_count": 42,
   "metadata": {},
   "outputs": [
    {
     "data": {
      "text/plain": [
       "(601, 11)"
      ]
     },
     "execution_count": 42,
     "metadata": {},
     "output_type": "execute_result"
    }
   ],
   "source": [
    "df.shape"
   ]
  },
  {
   "cell_type": "code",
   "execution_count": 43,
   "metadata": {},
   "outputs": [
    {
     "data": {
      "text/plain": [
       "Gender              0\n",
       "Married             0\n",
       "Dependents          0\n",
       "Education           0\n",
       "Self_Employed       0\n",
       "LoanAmount          0\n",
       "Loan_Amount_Term    0\n",
       "Credit_History      0\n",
       "Property_Area       1\n",
       "Loan_Status         1\n",
       "Total_Income        1\n",
       "dtype: int64"
      ]
     },
     "execution_count": 43,
     "metadata": {},
     "output_type": "execute_result"
    }
   ],
   "source": [
    "df.isnull().sum()"
   ]
  },
  {
   "cell_type": "code",
   "execution_count": 44,
   "metadata": {},
   "outputs": [],
   "source": [
    "#Converting the scale of loan term from months to years becuase we have a day\n",
    "df['Loan_Amount_Term']=df['Loan_Amount_Term']/12"
   ]
  },
  {
   "cell_type": "code",
   "execution_count": 45,
   "metadata": {},
   "outputs": [
    {
     "name": "stdout",
     "output_type": "stream",
     "text": [
      "LoanAmount\n"
     ]
    },
    {
     "data": {
      "image/png": "[encoded data removed]",
      "text/plain": [
       "<Figure size 1080x288 with 2 Axes>"
      ]
     },
     "metadata": {
      "needs_background": "light"
     },
     "output_type": "display_data"
    },
    {
     "name": "stdout",
     "output_type": "stream",
     "text": [
      "Total_Income\n"
     ]
    },
    {
     "data": {
      "image/png": "[encoded data removed]",
      "text/plain": [
       "<Figure size 1080x288 with 2 Axes>"
      ]
     },
     "metadata": {
      "needs_background": "light"
     },
     "output_type": "display_data"
    }
   ],
   "source": [
    "#Checking the distribution and outliers for each column in the data\n",
    "for col in ['LoanAmount', 'Total_Income']:\n",
    "    print(col)\n",
    "    plt.figure(figsize=(15,4))\n",
    "    plt.subplot(1,2,1)\n",
    "    df[col].hist(bins=10, grid=True)\n",
    "    plt.ylabel('count')\n",
    "    plt.subplot(1,2,2)\n",
    "    sns.boxplot(x=df[col])\n",
    "    plt.show()"
   ]
  },
  {
   "cell_type": "code",
   "execution_count": 46,
   "metadata": {},
   "outputs": [],
   "source": [
    "#Both the variables are highly skewed to the right and have many outliers which can be expected as the data contains different types of areas - Rural, Urban & Semi-Urban.\n",
    "#We can observe from the histogram that majority of values for total income are less than 10,000K dollars.\n",
    "#Now, let's check the percentage of observations in each category for all the categorical variables."
   ]
  },
  {
   "cell_type": "code",
   "execution_count": 47,
   "metadata": {},
   "outputs": [
    {
     "name": "stdout",
     "output_type": "stream",
     "text": [
      "1    0.648918\n",
      "0    0.351082\n",
      "Name: Gender, dtype: float64\n",
      "------------------------------\n",
      "1    0.687188\n",
      "0    0.312812\n",
      "Name: Married, dtype: float64\n",
      "------------------------------\n",
      "0    0.589018\n",
      "1    0.168053\n",
      "2    0.163062\n",
      "4    0.079867\n",
      "Name: Dependents, dtype: float64\n",
      "------------------------------\n",
      "0    0.569052\n",
      "1    0.430948\n",
      "Name: Education, dtype: float64\n",
      "------------------------------\n",
      "0    0.550749\n",
      "1    0.449251\n",
      "Name: Self_Employed, dtype: float64\n",
      "------------------------------\n",
      "1    0.540765\n",
      "0    0.459235\n",
      "Name: Credit_History, dtype: float64\n",
      "------------------------------\n",
      "1.0    0.378333\n",
      "2.0    0.330000\n",
      "0.0    0.291667\n",
      "Name: Property_Area, dtype: float64\n",
      "------------------------------\n",
      "1.0    0.688333\n",
      "0.0    0.311667\n",
      "Name: Loan_Status, dtype: float64\n",
      "------------------------------\n"
     ]
    }
   ],
   "source": [
    "#Creating list of categorical columns\n",
    "categorical_clmn= ['Gender', 'Married', 'Dependents', 'Education', 'Self_Employed', 'Credit_History','Property_Area', 'Loan_Status']\n",
    "\n",
    "for clmn in categorical_clmn:\n",
    "    print(df[clmn].value_counts(normalize=True)) \n",
    "    print('-'*30)    "
   ]
  },
  {
   "cell_type": "code",
   "execution_count": 48,
   "metadata": {},
   "outputs": [],
   "source": [
    "#The vast majority of applicants are male (64%).\n",
    "\n",
    "#68% of applicants are married, and 57% of them have no dependents\n",
    "\n",
    "#56% of the applicants are graduates\n",
    "\n",
    "#55% of the applicants are self employed\n",
    "\n",
    "#54% of the applicants have credit histories that meet the required guidelines\n",
    "\n",
    "#The property area among the applicants is roughly evenly split across semiurban, urban, and rural, with semi-urban having a slightly higher portion (37.9%)"
   ]
  },
  {
   "cell_type": "code",
   "execution_count": 49,
   "metadata": {},
   "outputs": [],
   "source": [
    "#Finally, we need to encode our loan status column to make it eligible for modeling, and replace other columns to avoid empty raws"
   ]
  },
  {
   "cell_type": "code",
   "execution_count": 50,
   "metadata": {},
   "outputs": [
    {
     "data": {
      "text/plain": [
       "Gender              0\n",
       "Married             0\n",
       "Dependents          0\n",
       "Education           0\n",
       "Self_Employed       0\n",
       "LoanAmount          0\n",
       "Loan_Amount_Term    0\n",
       "Credit_History      0\n",
       "Property_Area       0\n",
       "Loan_Status         0\n",
       "Total_Income        0\n",
       "dtype: int64"
      ]
     },
     "execution_count": 50,
     "metadata": {},
     "output_type": "execute_result"
    }
   ],
   "source": [
    "#df['Married'].fillna(\"Yes\",inplace=True)\n",
    "#df['Dependents'].fillna(0,inplace= True)\n",
    "#df['Self_Employed'].fillna('No',inplace=True)\n",
    "#df['Credit_History'].fillna(0,inplace = True)\n",
    "\n",
    "#df=df.replace(to_replace='3+',value=4)\n",
    "#df.replace({'Loan_Status':{'N':0,'Y':1}},inplace=True)\n",
    "\n",
    "#mean_loan=df['LoanAmount'].mean()\n",
    "#df['LoanAmount'].fillna(mean_loan,inplace = True)\n",
    "\n",
    "#mean_loan_term=df['Loan_Amount_Term'].mean()\n",
    "#df['Loan_Amount_Term'].fillna(mean_loan_term,inplace = True)\n",
    "\n",
    "df=df.dropna()\n",
    "df.isnull().sum()"
   ]
  },
  {
   "cell_type": "code",
   "execution_count": 51,
   "metadata": {},
   "outputs": [
    {
     "data": {
      "text/html": [
       "<div>\n",
       "<style scoped>\n",
       "    .dataframe tbody tr th:only-of-type {\n",
       "        vertical-align: middle;\n",
       "    }\n",
       "\n",
       "    .dataframe tbody tr th {\n",
       "        vertical-align: top;\n",
       "    }\n",
       "\n",
       "    .dataframe thead th {\n",
       "        text-align: right;\n",
       "    }\n",
       "</style>\n",
       "<table border=\"1\" class=\"dataframe\">\n",
       "  <thead>\n",
       "    <tr style=\"text-align: right;\">\n",
       "      <th></th>\n",
       "      <th>Gender</th>\n",
       "      <th>Married</th>\n",
       "      <th>Dependents</th>\n",
       "      <th>Education</th>\n",
       "      <th>Self_Employed</th>\n",
       "      <th>LoanAmount</th>\n",
       "      <th>Loan_Amount_Term</th>\n",
       "      <th>Credit_History</th>\n",
       "      <th>Property_Area</th>\n",
       "      <th>Loan_Status</th>\n",
       "      <th>Total_Income</th>\n",
       "    </tr>\n",
       "  </thead>\n",
       "  <tbody>\n",
       "    <tr>\n",
       "      <th>596</th>\n",
       "      <td>0</td>\n",
       "      <td>1</td>\n",
       "      <td>0</td>\n",
       "      <td>1</td>\n",
       "      <td>0</td>\n",
       "      <td>71.0</td>\n",
       "      <td>2.5</td>\n",
       "      <td>0</td>\n",
       "      <td>0.0</td>\n",
       "      <td>1.0</td>\n",
       "      <td>2900.0</td>\n",
       "    </tr>\n",
       "    <tr>\n",
       "      <th>597</th>\n",
       "      <td>1</td>\n",
       "      <td>1</td>\n",
       "      <td>4</td>\n",
       "      <td>1</td>\n",
       "      <td>0</td>\n",
       "      <td>40.0</td>\n",
       "      <td>0.0</td>\n",
       "      <td>1</td>\n",
       "      <td>0.0</td>\n",
       "      <td>1.0</td>\n",
       "      <td>4106.0</td>\n",
       "    </tr>\n",
       "    <tr>\n",
       "      <th>598</th>\n",
       "      <td>1</td>\n",
       "      <td>1</td>\n",
       "      <td>1</td>\n",
       "      <td>0</td>\n",
       "      <td>1</td>\n",
       "      <td>253.0</td>\n",
       "      <td>2.5</td>\n",
       "      <td>1</td>\n",
       "      <td>2.0</td>\n",
       "      <td>1.0</td>\n",
       "      <td>8312.0</td>\n",
       "    </tr>\n",
       "    <tr>\n",
       "      <th>599</th>\n",
       "      <td>1</td>\n",
       "      <td>1</td>\n",
       "      <td>2</td>\n",
       "      <td>0</td>\n",
       "      <td>0</td>\n",
       "      <td>187.0</td>\n",
       "      <td>2.5</td>\n",
       "      <td>0</td>\n",
       "      <td>2.0</td>\n",
       "      <td>1.0</td>\n",
       "      <td>7583.0</td>\n",
       "    </tr>\n",
       "    <tr>\n",
       "      <th>600</th>\n",
       "      <td>0</td>\n",
       "      <td>0</td>\n",
       "      <td>0</td>\n",
       "      <td>1</td>\n",
       "      <td>1</td>\n",
       "      <td>133.0</td>\n",
       "      <td>2.5</td>\n",
       "      <td>0</td>\n",
       "      <td>1.0</td>\n",
       "      <td>0.0</td>\n",
       "      <td>4583.0</td>\n",
       "    </tr>\n",
       "  </tbody>\n",
       "</table>\n",
       "</div>"
      ],
      "text/plain": [
       "     Gender  Married  Dependents  Education  Self_Employed  LoanAmount  \\\n",
       "596       0        1           0          1              0        71.0   \n",
       "597       1        1           4          1              0        40.0   \n",
       "598       1        1           1          0              1       253.0   \n",
       "599       1        1           2          0              0       187.0   \n",
       "600       0        0           0          1              1       133.0   \n",
       "\n",
       "     Loan_Amount_Term  Credit_History  Property_Area  Loan_Status  \\\n",
       "596               2.5               0            0.0          1.0   \n",
       "597               0.0               1            0.0          1.0   \n",
       "598               2.5               1            2.0          1.0   \n",
       "599               2.5               0            2.0          1.0   \n",
       "600               2.5               0            1.0          0.0   \n",
       "\n",
       "     Total_Income  \n",
       "596        2900.0  \n",
       "597        4106.0  \n",
       "598        8312.0  \n",
       "599        7583.0  \n",
       "600        4583.0  "
      ]
     },
     "execution_count": 51,
     "metadata": {},
     "output_type": "execute_result"
    }
   ],
   "source": [
    "df.tail()"
   ]
  },
  {
   "cell_type": "code",
   "execution_count": 52,
   "metadata": {},
   "outputs": [
    {
     "data": {
      "text/html": [
       "<div>\n",
       "<style scoped>\n",
       "    .dataframe tbody tr th:only-of-type {\n",
       "        vertical-align: middle;\n",
       "    }\n",
       "\n",
       "    .dataframe tbody tr th {\n",
       "        vertical-align: top;\n",
       "    }\n",
       "\n",
       "    .dataframe thead th {\n",
       "        text-align: right;\n",
       "    }\n",
       "</style>\n",
       "<table border=\"1\" class=\"dataframe\">\n",
       "  <thead>\n",
       "    <tr style=\"text-align: right;\">\n",
       "      <th></th>\n",
       "      <th>Gender</th>\n",
       "      <th>Married</th>\n",
       "      <th>Dependents</th>\n",
       "      <th>Education</th>\n",
       "      <th>Self_Employed</th>\n",
       "      <th>LoanAmount</th>\n",
       "      <th>Loan_Amount_Term</th>\n",
       "      <th>Credit_History</th>\n",
       "      <th>Property_Area</th>\n",
       "      <th>Loan_Status</th>\n",
       "      <th>Total_Income</th>\n",
       "    </tr>\n",
       "  </thead>\n",
       "  <tbody>\n",
       "    <tr>\n",
       "      <th>count</th>\n",
       "      <td>600.000000</td>\n",
       "      <td>600.000000</td>\n",
       "      <td>600.000000</td>\n",
       "      <td>600.000000</td>\n",
       "      <td>600.000000</td>\n",
       "      <td>600.000000</td>\n",
       "      <td>600.000000</td>\n",
       "      <td>600.000000</td>\n",
       "      <td>600.000000</td>\n",
       "      <td>600.000000</td>\n",
       "      <td>600.000000</td>\n",
       "    </tr>\n",
       "    <tr>\n",
       "      <th>mean</th>\n",
       "      <td>0.650000</td>\n",
       "      <td>0.688333</td>\n",
       "      <td>0.815000</td>\n",
       "      <td>0.430000</td>\n",
       "      <td>0.448333</td>\n",
       "      <td>145.088446</td>\n",
       "      <td>2.289444</td>\n",
       "      <td>0.541667</td>\n",
       "      <td>1.038333</td>\n",
       "      <td>0.688333</td>\n",
       "      <td>6920.379867</td>\n",
       "    </tr>\n",
       "    <tr>\n",
       "      <th>std</th>\n",
       "      <td>0.477368</td>\n",
       "      <td>0.463561</td>\n",
       "      <td>1.199934</td>\n",
       "      <td>0.495489</td>\n",
       "      <td>0.497738</td>\n",
       "      <td>81.103812</td>\n",
       "      <td>0.706599</td>\n",
       "      <td>0.498677</td>\n",
       "      <td>0.788183</td>\n",
       "      <td>0.463561</td>\n",
       "      <td>6213.130723</td>\n",
       "    </tr>\n",
       "    <tr>\n",
       "      <th>min</th>\n",
       "      <td>0.000000</td>\n",
       "      <td>0.000000</td>\n",
       "      <td>0.000000</td>\n",
       "      <td>0.000000</td>\n",
       "      <td>0.000000</td>\n",
       "      <td>9.000000</td>\n",
       "      <td>0.000000</td>\n",
       "      <td>0.000000</td>\n",
       "      <td>0.000000</td>\n",
       "      <td>0.000000</td>\n",
       "      <td>1442.000000</td>\n",
       "    </tr>\n",
       "    <tr>\n",
       "      <th>25%</th>\n",
       "      <td>0.000000</td>\n",
       "      <td>0.000000</td>\n",
       "      <td>0.000000</td>\n",
       "      <td>0.000000</td>\n",
       "      <td>0.000000</td>\n",
       "      <td>100.000000</td>\n",
       "      <td>2.500000</td>\n",
       "      <td>0.000000</td>\n",
       "      <td>0.000000</td>\n",
       "      <td>0.000000</td>\n",
       "      <td>4158.250000</td>\n",
       "    </tr>\n",
       "    <tr>\n",
       "      <th>50%</th>\n",
       "      <td>1.000000</td>\n",
       "      <td>1.000000</td>\n",
       "      <td>0.000000</td>\n",
       "      <td>0.000000</td>\n",
       "      <td>0.000000</td>\n",
       "      <td>128.000000</td>\n",
       "      <td>2.500000</td>\n",
       "      <td>1.000000</td>\n",
       "      <td>1.000000</td>\n",
       "      <td>1.000000</td>\n",
       "      <td>5407.000000</td>\n",
       "    </tr>\n",
       "    <tr>\n",
       "      <th>75%</th>\n",
       "      <td>1.000000</td>\n",
       "      <td>1.000000</td>\n",
       "      <td>1.000000</td>\n",
       "      <td>1.000000</td>\n",
       "      <td>1.000000</td>\n",
       "      <td>162.500000</td>\n",
       "      <td>2.500000</td>\n",
       "      <td>1.000000</td>\n",
       "      <td>2.000000</td>\n",
       "      <td>1.000000</td>\n",
       "      <td>7451.500000</td>\n",
       "    </tr>\n",
       "    <tr>\n",
       "      <th>max</th>\n",
       "      <td>1.000000</td>\n",
       "      <td>1.000000</td>\n",
       "      <td>4.000000</td>\n",
       "      <td>1.000000</td>\n",
       "      <td>1.000000</td>\n",
       "      <td>650.000000</td>\n",
       "      <td>3.333333</td>\n",
       "      <td>1.000000</td>\n",
       "      <td>2.000000</td>\n",
       "      <td>1.000000</td>\n",
       "      <td>81000.000000</td>\n",
       "    </tr>\n",
       "  </tbody>\n",
       "</table>\n",
       "</div>"
      ],
      "text/plain": [
       "           Gender     Married  Dependents   Education  Self_Employed  \\\n",
       "count  600.000000  600.000000  600.000000  600.000000     600.000000   \n",
       "mean     0.650000    0.688333    0.815000    0.430000       0.448333   \n",
       "std      0.477368    0.463561    1.199934    0.495489       0.497738   \n",
       "min      0.000000    0.000000    0.000000    0.000000       0.000000   \n",
       "25%      0.000000    0.000000    0.000000    0.000000       0.000000   \n",
       "50%      1.000000    1.000000    0.000000    0.000000       0.000000   \n",
       "75%      1.000000    1.000000    1.000000    1.000000       1.000000   \n",
       "max      1.000000    1.000000    4.000000    1.000000       1.000000   \n",
       "\n",
       "       LoanAmount  Loan_Amount_Term  Credit_History  Property_Area  \\\n",
       "count  600.000000        600.000000      600.000000     600.000000   \n",
       "mean   145.088446          2.289444        0.541667       1.038333   \n",
       "std     81.103812          0.706599        0.498677       0.788183   \n",
       "min      9.000000          0.000000        0.000000       0.000000   \n",
       "25%    100.000000          2.500000        0.000000       0.000000   \n",
       "50%    128.000000          2.500000        1.000000       1.000000   \n",
       "75%    162.500000          2.500000        1.000000       2.000000   \n",
       "max    650.000000          3.333333        1.000000       2.000000   \n",
       "\n",
       "       Loan_Status  Total_Income  \n",
       "count   600.000000    600.000000  \n",
       "mean      0.688333   6920.379867  \n",
       "std       0.463561   6213.130723  \n",
       "min       0.000000   1442.000000  \n",
       "25%       0.000000   4158.250000  \n",
       "50%       1.000000   5407.000000  \n",
       "75%       1.000000   7451.500000  \n",
       "max       1.000000  81000.000000  "
      ]
     },
     "execution_count": 52,
     "metadata": {},
     "output_type": "execute_result"
    }
   ],
   "source": [
    "df.describe()"
   ]
  },
  {
   "cell_type": "code",
   "execution_count": 53,
   "metadata": {},
   "outputs": [],
   "source": [
    "#Now when DF is ready let look at plots to see how different Nodes have impact on Loan status where 0 is No and 1 is Yes"
   ]
  },
  {
   "cell_type": "code",
   "execution_count": 54,
   "metadata": {},
   "outputs": [
    {
     "data": {
      "text/plain": [
       "<AxesSubplot:xlabel='Education', ylabel='count'>"
      ]
     },
     "execution_count": 54,
     "metadata": {},
     "output_type": "execute_result"
    },
    {
     "data": {
      "image/png": "[encoded data removed]",
      "text/plain": [
       "<Figure size 432x288 with 1 Axes>"
      ]
     },
     "metadata": {
      "needs_background": "light"
     },
     "output_type": "display_data"
    }
   ],
   "source": [
    "sns.countplot(x='Education',hue='Loan_Status',data=df)"
   ]
  },
  {
   "cell_type": "code",
   "execution_count": 55,
   "metadata": {},
   "outputs": [],
   "source": [
    "# plot demonstatre that graduate person has bigger percent of approved loan."
   ]
  },
  {
   "cell_type": "code",
   "execution_count": 56,
   "metadata": {},
   "outputs": [
    {
     "data": {
      "text/plain": [
       "<AxesSubplot:xlabel='Dependents', ylabel='count'>"
      ]
     },
     "execution_count": 56,
     "metadata": {},
     "output_type": "execute_result"
    },
    {
     "data": {
      "image/png": "[encoded data removed]",
      "text/plain": [
       "<Figure size 432x288 with 1 Axes>"
      ]
     },
     "metadata": {
      "needs_background": "light"
     },
     "output_type": "display_data"
    }
   ],
   "source": [
    "sns.countplot(x='Dependents',hue='Loan_Status',data=df)"
   ]
  },
  {
   "cell_type": "code",
   "execution_count": 57,
   "metadata": {},
   "outputs": [
    {
     "data": {
      "text/plain": [
       "<AxesSubplot:xlabel='Married', ylabel='count'>"
      ]
     },
     "execution_count": 57,
     "metadata": {},
     "output_type": "execute_result"
    },
    {
     "data": {
      "image/png": "[encoded data removed]",
      "text/plain": [
       "<Figure size 432x288 with 1 Axes>"
      ]
     },
     "metadata": {
      "needs_background": "light"
     },
     "output_type": "display_data"
    }
   ],
   "source": [
    "sns.countplot(x='Married', hue='Loan_Status', data = df)"
   ]
  },
  {
   "cell_type": "code",
   "execution_count": 58,
   "metadata": {},
   "outputs": [],
   "source": [
    "# plot demonstatre that married person has bigger percent of approved loan beacuse there can have a pair income"
   ]
  },
  {
   "cell_type": "code",
   "execution_count": 59,
   "metadata": {},
   "outputs": [
    {
     "data": {
      "text/plain": [
       "<AxesSubplot:xlabel='Self_Employed', ylabel='count'>"
      ]
     },
     "execution_count": 59,
     "metadata": {},
     "output_type": "execute_result"
    },
    {
     "data": {
      "image/png": "[encoded data removed]",
      "text/plain": [
       "<Figure size 432x288 with 1 Axes>"
      ]
     },
     "metadata": {
      "needs_background": "light"
     },
     "output_type": "display_data"
    }
   ],
   "source": [
    "sns.countplot(x='Self_Employed', hue='Loan_Status', data = df)"
   ]
  },
  {
   "cell_type": "code",
   "execution_count": 60,
   "metadata": {},
   "outputs": [],
   "source": [
    "# plot show that self employed people has Denied more becuase they have risk be a bacnrupt"
   ]
  },
  {
   "cell_type": "code",
   "execution_count": 61,
   "metadata": {},
   "outputs": [
    {
     "data": {
      "text/plain": [
       "<AxesSubplot:xlabel='Gender', ylabel='count'>"
      ]
     },
     "execution_count": 61,
     "metadata": {},
     "output_type": "execute_result"
    },
    {
     "data": {
      "image/png": "[encoded data removed]",
      "text/plain": [
       "<Figure size 432x288 with 1 Axes>"
      ]
     },
     "metadata": {
      "needs_background": "light"
     },
     "output_type": "display_data"
    }
   ],
   "source": [
    "sns.countplot(x='Gender', hue='Loan_Status', data = df)"
   ]
  },
  {
   "cell_type": "code",
   "execution_count": 62,
   "metadata": {},
   "outputs": [],
   "source": [
    "# male has more aproved"
   ]
  },
  {
   "cell_type": "code",
   "execution_count": 63,
   "metadata": {},
   "outputs": [
    {
     "data": {
      "text/plain": [
       "<AxesSubplot:xlabel='Credit_History', ylabel='count'>"
      ]
     },
     "execution_count": 63,
     "metadata": {},
     "output_type": "execute_result"
    },
    {
     "data": {
      "image/png": "[encoded data removed]",
      "text/plain": [
       "<Figure size 432x288 with 1 Axes>"
      ]
     },
     "metadata": {
      "needs_background": "light"
     },
     "output_type": "display_data"
    }
   ],
   "source": [
    "sns.countplot(x='Credit_History', hue='Loan_Status', data = df)"
   ]
  },
  {
   "cell_type": "code",
   "execution_count": 64,
   "metadata": {},
   "outputs": [],
   "source": [
    "#The plot shows that credit history is an important factor while checking loan eligibility. \n",
    "#There are very few customers whose loan was approved even when their credit history did not meet required guideline"
   ]
  },
  {
   "cell_type": "code",
   "execution_count": 65,
   "metadata": {},
   "outputs": [
    {
     "data": {
      "text/plain": [
       "<AxesSubplot:xlabel='Property_Area', ylabel='count'>"
      ]
     },
     "execution_count": 65,
     "metadata": {},
     "output_type": "execute_result"
    },
    {
     "data": {
      "image/png": "[encoded data removed]",
      "text/plain": [
       "<Figure size 432x288 with 1 Axes>"
      ]
     },
     "metadata": {
      "needs_background": "light"
     },
     "output_type": "display_data"
    }
   ],
   "source": [
    "sns.countplot(x='Property_Area', hue='Loan_Status', data = df)"
   ]
  },
  {
   "cell_type": "code",
   "execution_count": 66,
   "metadata": {},
   "outputs": [
    {
     "data": {
      "text/plain": [
       "<AxesSubplot:xlabel='LoanAmount', ylabel='count'>"
      ]
     },
     "execution_count": 66,
     "metadata": {},
     "output_type": "execute_result"
    },
    {
     "data": {
      "image/png": "[encoded data removed]",
      "text/plain": [
       "<Figure size 432x288 with 1 Axes>"
      ]
     },
     "metadata": {
      "needs_background": "light"
     },
     "output_type": "display_data"
    }
   ],
   "source": [
    "sns.countplot(x='LoanAmount', hue='Loan_Status', data = df)"
   ]
  },
  {
   "cell_type": "code",
   "execution_count": 67,
   "metadata": {},
   "outputs": [],
   "source": [
    "# it also important plot because area demonstrate the ability to make money"
   ]
  },
  {
   "cell_type": "code",
   "execution_count": 68,
   "metadata": {},
   "outputs": [],
   "source": [
    "#The plot shows that the loan amount is positively correlated with total income. This implies that the loan amount for higher-income applicants is progressively higher.\n",
    "#There are some outliers visible, showing applicants with low income having been given loans of a higher amount."
   ]
  },
  {
   "cell_type": "code",
   "execution_count": 69,
   "metadata": {},
   "outputs": [],
   "source": [
    "#Now that we have processed and explored our data, let's prepare it for Modeling."
   ]
  },
  {
   "cell_type": "code",
   "execution_count": 70,
   "metadata": {},
   "outputs": [],
   "source": [
    "#Models cannot take non-numeric inputs. So, we will first create dummy variables for all the categorical variables.\n",
    "#We will then split the data into train and test sets."
   ]
  },
  {
   "cell_type": "code",
   "execution_count": 71,
   "metadata": {},
   "outputs": [],
   "source": [
    "#https://www.kaggle.com/code/patrickparsa/loan-eligibility-with-logistic-regression-and-knn"
   ]
  },
  {
   "cell_type": "code",
   "execution_count": 72,
   "metadata": {},
   "outputs": [],
   "source": [
    "#Markov network"
   ]
  },
  {
   "cell_type": "code",
   "execution_count": 73,
   "metadata": {},
   "outputs": [],
   "source": [
    "import pandas as pd\n",
    "import numpy as np\n",
    "from pgmpy.models import MarkovNetwork\n",
    "from pgmpy.factors.discrete import DiscreteFactor"
   ]
  },
  {
   "cell_type": "code",
   "execution_count": 74,
   "metadata": {},
   "outputs": [],
   "source": [
    "G=MarkovNetwork()"
   ]
  },
  {
   "cell_type": "code",
   "execution_count": 75,
   "metadata": {},
   "outputs": [],
   "source": [
    "#'Married':{'No':0,'Yes':1},'Gender':{'Male':1,'Female':0},'Self_Employed':{'No':0,'Yes':1},\n",
    "                      #'Property_Area':{'Rural':0,'Semiurban':1,'Urban':2},'Education':{'Graduate':1,'Not Graduate':0}, 'Loan_Status':{'N':0,'Y':1}, 'Credit_History':{'0.0':0, '1.0': 1}"
   ]
  },
  {
   "cell_type": "code",
   "execution_count": 76,
   "metadata": {},
   "outputs": [],
   "source": [
    "df=pd.DataFrame(df, columns=['Gender', 'Married', 'Education', 'Self_Employed', 'Property_Area', 'Credit_History', 'Loan_Status'])"
   ]
  },
  {
   "cell_type": "code",
   "execution_count": 77,
   "metadata": {},
   "outputs": [
    {
     "data": {
      "text/html": [
       "<div>\n",
       "<style scoped>\n",
       "    .dataframe tbody tr th:only-of-type {\n",
       "        vertical-align: middle;\n",
       "    }\n",
       "\n",
       "    .dataframe tbody tr th {\n",
       "        vertical-align: top;\n",
       "    }\n",
       "\n",
       "    .dataframe thead th {\n",
       "        text-align: right;\n",
       "    }\n",
       "</style>\n",
       "<table border=\"1\" class=\"dataframe\">\n",
       "  <thead>\n",
       "    <tr style=\"text-align: right;\">\n",
       "      <th></th>\n",
       "      <th>Gender</th>\n",
       "      <th>Married</th>\n",
       "      <th>Education</th>\n",
       "      <th>Self_Employed</th>\n",
       "      <th>Property_Area</th>\n",
       "      <th>Credit_History</th>\n",
       "      <th>Loan_Status</th>\n",
       "    </tr>\n",
       "  </thead>\n",
       "  <tbody>\n",
       "    <tr>\n",
       "      <th>596</th>\n",
       "      <td>0</td>\n",
       "      <td>1</td>\n",
       "      <td>1</td>\n",
       "      <td>0</td>\n",
       "      <td>0.0</td>\n",
       "      <td>0</td>\n",
       "      <td>1.0</td>\n",
       "    </tr>\n",
       "    <tr>\n",
       "      <th>597</th>\n",
       "      <td>1</td>\n",
       "      <td>1</td>\n",
       "      <td>1</td>\n",
       "      <td>0</td>\n",
       "      <td>0.0</td>\n",
       "      <td>1</td>\n",
       "      <td>1.0</td>\n",
       "    </tr>\n",
       "    <tr>\n",
       "      <th>598</th>\n",
       "      <td>1</td>\n",
       "      <td>1</td>\n",
       "      <td>0</td>\n",
       "      <td>1</td>\n",
       "      <td>2.0</td>\n",
       "      <td>1</td>\n",
       "      <td>1.0</td>\n",
       "    </tr>\n",
       "    <tr>\n",
       "      <th>599</th>\n",
       "      <td>1</td>\n",
       "      <td>1</td>\n",
       "      <td>0</td>\n",
       "      <td>0</td>\n",
       "      <td>2.0</td>\n",
       "      <td>0</td>\n",
       "      <td>1.0</td>\n",
       "    </tr>\n",
       "    <tr>\n",
       "      <th>600</th>\n",
       "      <td>0</td>\n",
       "      <td>0</td>\n",
       "      <td>1</td>\n",
       "      <td>1</td>\n",
       "      <td>1.0</td>\n",
       "      <td>0</td>\n",
       "      <td>0.0</td>\n",
       "    </tr>\n",
       "  </tbody>\n",
       "</table>\n",
       "</div>"
      ],
      "text/plain": [
       "     Gender  Married  Education  Self_Employed  Property_Area  Credit_History  \\\n",
       "596       0        1          1              0            0.0               0   \n",
       "597       1        1          1              0            0.0               1   \n",
       "598       1        1          0              1            2.0               1   \n",
       "599       1        1          0              0            2.0               0   \n",
       "600       0        0          1              1            1.0               0   \n",
       "\n",
       "     Loan_Status  \n",
       "596          1.0  \n",
       "597          1.0  \n",
       "598          1.0  \n",
       "599          1.0  \n",
       "600          0.0  "
      ]
     },
     "execution_count": 77,
     "metadata": {},
     "output_type": "execute_result"
    }
   ],
   "source": [
    "df.tail()"
   ]
  },
  {
   "cell_type": "code",
   "execution_count": 78,
   "metadata": {},
   "outputs": [],
   "source": [
    "Gender = list(map(int, df['Gender'].values.tolist()))\n",
    "Married = list(map(int, df['Married'].values.tolist()))\n",
    "Education = list(map(int, df['Education'].values.tolist()))\n",
    "SelfEmployed = list(map(int, df['Self_Employed'].values.tolist()))\n",
    "PropertyArea = list(map(int, df['Property_Area'].values.tolist()))\n",
    "CreditHistory = list(map(int, df['Credit_History'].values.tolist()))\n",
    "LoanStatus = list(map(int, df['Loan_Status'].values.tolist()))\n"
   ]
  },
  {
   "cell_type": "code",
   "execution_count": 79,
   "metadata": {},
   "outputs": [],
   "source": [
    "def unique(list1): \n",
    "    x = np.array(list1) \n",
    "    return np.unique(x)\n",
    "\n",
    "def occur(list1, list2):  \n",
    "    a = unique(list1)  \n",
    "    b = unique(list2)\n",
    "    print(a)\n",
    "    print(b)\n",
    "    values_for_v1_v2 = []  \n",
    "    for aa  in a: \n",
    "        for bb in b:\n",
    "            values_for_v1_v2.append(((list1==aa)&(list2==bb)).sum())  \n",
    "    return values_for_v1_v2"
   ]
  },
  {
   "cell_type": "code",
   "execution_count": 80,
   "metadata": {},
   "outputs": [
    {
     "name": "stdout",
     "output_type": "stream",
     "text": [
      "[0 1]\n",
      "[0 1]\n",
      "[78, 132, 109, 281]\n"
     ]
    }
   ],
   "source": [
    "value1 = occur(Gender, Married)\n",
    "print(value1)"
   ]
  },
  {
   "cell_type": "code",
   "execution_count": 81,
   "metadata": {},
   "outputs": [
    {
     "name": "stdout",
     "output_type": "stream",
     "text": [
      "[0 1]\n",
      "[0 1]\n",
      "[0, 187, 342, 71]\n"
     ]
    }
   ],
   "source": [
    "value2 = occur(Married, Education) \n",
    "print(value2)"
   ]
  },
  {
   "cell_type": "code",
   "execution_count": 82,
   "metadata": {},
   "outputs": [
    {
     "name": "stdout",
     "output_type": "stream",
     "text": [
      "[0 1]\n",
      "[0 1]\n",
      "[289, 53, 42, 216]\n"
     ]
    }
   ],
   "source": [
    "value3 = occur(Education, SelfEmployed)\n",
    "print(value3)"
   ]
  },
  {
   "cell_type": "code",
   "execution_count": 83,
   "metadata": {},
   "outputs": [
    {
     "name": "stdout",
     "output_type": "stream",
     "text": [
      "[0 1]\n",
      "[0 1 2]\n",
      "[88, 135, 108, 87, 92, 90]\n"
     ]
    }
   ],
   "source": [
    "value4 = occur(SelfEmployed, PropertyArea)\n",
    "print(value4)"
   ]
  },
  {
   "cell_type": "code",
   "execution_count": 84,
   "metadata": {},
   "outputs": [
    {
     "name": "stdout",
     "output_type": "stream",
     "text": [
      "[0 1 2]\n",
      "[0 1]\n",
      "[80, 95, 101, 126, 94, 104]\n"
     ]
    }
   ],
   "source": [
    "value5 = occur(PropertyArea, CreditHistory)\n",
    "print(value5)"
   ]
  },
  {
   "cell_type": "code",
   "execution_count": 85,
   "metadata": {},
   "outputs": [
    {
     "name": "stdout",
     "output_type": "stream",
     "text": [
      "[0 1]\n",
      "[0 1]\n",
      "[175, 100, 12, 313]\n"
     ]
    }
   ],
   "source": [
    "value6 = occur(CreditHistory, LoanStatus)\n",
    "print(value6)"
   ]
  },
  {
   "cell_type": "code",
   "execution_count": 86,
   "metadata": {},
   "outputs": [],
   "source": [
    "G.add_nodes_from(['Gender', 'Married', 'Education', 'Self_Employed', 'Property_Area', 'Credit_History', 'Loan_Status'])"
   ]
  },
  {
   "cell_type": "code",
   "execution_count": 87,
   "metadata": {},
   "outputs": [],
   "source": [
    "G.add_edges_from([('Gender','Married'), ('Married','Education'), ('Education','Self_Employed'), ('Self_Employed', 'Property_Area'),('Property_Area', 'Credit_History'), ('Credit_History', 'Loan_Status')])"
   ]
  },
  {
   "cell_type": "code",
   "execution_count": 88,
   "metadata": {},
   "outputs": [],
   "source": [
    "factor1 = DiscreteFactor(['Gender','Married'], cardinality=[2, 2], values=value1)\n",
    "factor2 = DiscreteFactor(['Married','Education'], cardinality=[2, 2], values=value2)\n",
    "factor3 = DiscreteFactor(['Education','Self_Employed'], cardinality=[2, 2], values=value3)\n",
    "factor4 = DiscreteFactor(['Self_Employed', 'Property_Area'], cardinality=[2, 3], values=value4)\n",
    "factor5 = DiscreteFactor(['Property_Area', 'Credit_History'], cardinality=[3, 2], values=value5)\n",
    "factor6 = DiscreteFactor(['Credit_History', 'Loan_Status'], cardinality=[2, 2], values=value6)"
   ]
  },
  {
   "cell_type": "code",
   "execution_count": 89,
   "metadata": {},
   "outputs": [],
   "source": [
    "G.add_factors(factor1)\n",
    "G.add_factors(factor2)\n",
    "G.add_factors(factor3)\n",
    "G.add_factors(factor4)\n",
    "G.add_factors(factor5)\n",
    "G.add_factors(factor6)\n",
    "\n"
   ]
  },
  {
   "cell_type": "code",
   "execution_count": 90,
   "metadata": {},
   "outputs": [
    {
     "data": {
      "text/plain": [
       "[<DiscreteFactor representing phi(Gender:2, Married:2) at 0x289756c4eb0>,\n",
       " <DiscreteFactor representing phi(Married:2, Education:2) at 0x289756ad1f0>,\n",
       " <DiscreteFactor representing phi(Education:2, Self_Employed:2) at 0x289756c4640>,\n",
       " <DiscreteFactor representing phi(Self_Employed:2, Property_Area:3) at 0x289756c45b0>,\n",
       " <DiscreteFactor representing phi(Property_Area:3, Credit_History:2) at 0x289756c4bb0>,\n",
       " <DiscreteFactor representing phi(Credit_History:2, Loan_Status:2) at 0x289756c4e50>]"
      ]
     },
     "execution_count": 90,
     "metadata": {},
     "output_type": "execute_result"
    }
   ],
   "source": [
    "G.get_factors()"
   ]
  },
  {
   "cell_type": "code",
   "execution_count": 91,
   "metadata": {},
   "outputs": [
    {
     "data": {
      "text/plain": [
       "(Gender ⟂ Education, Self_Employed, Loan_Status, Property_Area, Credit_History | Married)\n",
       "(Married ⟂ Self_Employed, Property_Area, Credit_History, Loan_Status | Education, Gender)\n",
       "(Education ⟂ Property_Area, Gender, Loan_Status, Credit_History | Self_Employed, Married)\n",
       "(Self_Employed ⟂ Married, Gender, Loan_Status, Credit_History | Education, Property_Area)\n",
       "(Property_Area ⟂ Education, Gender, Loan_Status, Married | Self_Employed, Credit_History)\n",
       "(Credit_History ⟂ Self_Employed, Education, Gender, Married | Property_Area, Loan_Status)\n",
       "(Loan_Status ⟂ Education, Gender, Self_Employed, Property_Area, Married | Credit_History)"
      ]
     },
     "execution_count": 91,
     "metadata": {},
     "output_type": "execute_result"
    }
   ],
   "source": [
    "G.get_local_independencies()"
   ]
  },
  {
   "cell_type": "code",
   "execution_count": 92,
   "metadata": {},
   "outputs": [
    {
     "name": "stdout",
     "output_type": "stream",
     "text": [
      "+-----------+------------+-----------------------+\n",
      "| Gender    | Married    |   phi(Gender,Married) |\n",
      "+===========+============+=======================+\n",
      "| Gender(0) | Married(0) |               78.0000 |\n",
      "+-----------+------------+-----------------------+\n",
      "| Gender(0) | Married(1) |              132.0000 |\n",
      "+-----------+------------+-----------------------+\n",
      "| Gender(1) | Married(0) |              109.0000 |\n",
      "+-----------+------------+-----------------------+\n",
      "| Gender(1) | Married(1) |              281.0000 |\n",
      "+-----------+------------+-----------------------+\n"
     ]
    }
   ],
   "source": [
    "print(factor1)"
   ]
  },
  {
   "cell_type": "code",
   "execution_count": 93,
   "metadata": {},
   "outputs": [
    {
     "name": "stdout",
     "output_type": "stream",
     "text": [
      "+------------+--------------+--------------------------+\n",
      "| Married    | Education    |   phi(Married,Education) |\n",
      "+============+==============+==========================+\n",
      "| Married(0) | Education(0) |                   0.0000 |\n",
      "+------------+--------------+--------------------------+\n",
      "| Married(0) | Education(1) |                 187.0000 |\n",
      "+------------+--------------+--------------------------+\n",
      "| Married(1) | Education(0) |                 342.0000 |\n",
      "+------------+--------------+--------------------------+\n",
      "| Married(1) | Education(1) |                  71.0000 |\n",
      "+------------+--------------+--------------------------+\n"
     ]
    }
   ],
   "source": [
    "print(factor2)"
   ]
  },
  {
   "cell_type": "code",
   "execution_count": 94,
   "metadata": {},
   "outputs": [
    {
     "name": "stdout",
     "output_type": "stream",
     "text": [
      "+--------------+------------------+--------------------------------+\n",
      "| Education    | Self_Employed    |   phi(Education,Self_Employed) |\n",
      "+==============+==================+================================+\n",
      "| Education(0) | Self_Employed(0) |                       289.0000 |\n",
      "+--------------+------------------+--------------------------------+\n",
      "| Education(0) | Self_Employed(1) |                        53.0000 |\n",
      "+--------------+------------------+--------------------------------+\n",
      "| Education(1) | Self_Employed(0) |                        42.0000 |\n",
      "+--------------+------------------+--------------------------------+\n",
      "| Education(1) | Self_Employed(1) |                       216.0000 |\n",
      "+--------------+------------------+--------------------------------+\n"
     ]
    }
   ],
   "source": [
    "print(factor3)"
   ]
  },
  {
   "cell_type": "code",
   "execution_count": 95,
   "metadata": {},
   "outputs": [
    {
     "name": "stdout",
     "output_type": "stream",
     "text": [
      "+------------------+------------------+------------------------------------+\n",
      "| Self_Employed    | Property_Area    |   phi(Self_Employed,Property_Area) |\n",
      "+==================+==================+====================================+\n",
      "| Self_Employed(0) | Property_Area(0) |                            88.0000 |\n",
      "+------------------+------------------+------------------------------------+\n",
      "| Self_Employed(0) | Property_Area(1) |                           135.0000 |\n",
      "+------------------+------------------+------------------------------------+\n",
      "| Self_Employed(0) | Property_Area(2) |                           108.0000 |\n",
      "+------------------+------------------+------------------------------------+\n",
      "| Self_Employed(1) | Property_Area(0) |                            87.0000 |\n",
      "+------------------+------------------+------------------------------------+\n",
      "| Self_Employed(1) | Property_Area(1) |                            92.0000 |\n",
      "+------------------+------------------+------------------------------------+\n",
      "| Self_Employed(1) | Property_Area(2) |                            90.0000 |\n",
      "+------------------+------------------+------------------------------------+\n"
     ]
    }
   ],
   "source": [
    "print(factor4)"
   ]
  },
  {
   "cell_type": "code",
   "execution_count": 96,
   "metadata": {},
   "outputs": [
    {
     "name": "stdout",
     "output_type": "stream",
     "text": [
      "+------------------+-------------------+-------------------------------------+\n",
      "| Property_Area    | Credit_History    |   phi(Property_Area,Credit_History) |\n",
      "+==================+===================+=====================================+\n",
      "| Property_Area(0) | Credit_History(0) |                             80.0000 |\n",
      "+------------------+-------------------+-------------------------------------+\n",
      "| Property_Area(0) | Credit_History(1) |                             95.0000 |\n",
      "+------------------+-------------------+-------------------------------------+\n",
      "| Property_Area(1) | Credit_History(0) |                            101.0000 |\n",
      "+------------------+-------------------+-------------------------------------+\n",
      "| Property_Area(1) | Credit_History(1) |                            126.0000 |\n",
      "+------------------+-------------------+-------------------------------------+\n",
      "| Property_Area(2) | Credit_History(0) |                             94.0000 |\n",
      "+------------------+-------------------+-------------------------------------+\n",
      "| Property_Area(2) | Credit_History(1) |                            104.0000 |\n",
      "+------------------+-------------------+-------------------------------------+\n"
     ]
    }
   ],
   "source": [
    "print(factor5)"
   ]
  },
  {
   "cell_type": "code",
   "execution_count": 97,
   "metadata": {},
   "outputs": [
    {
     "name": "stdout",
     "output_type": "stream",
     "text": [
      "+-------------------+----------------+-----------------------------------+\n",
      "| Credit_History    | Loan_Status    |   phi(Credit_History,Loan_Status) |\n",
      "+===================+================+===================================+\n",
      "| Credit_History(0) | Loan_Status(0) |                          175.0000 |\n",
      "+-------------------+----------------+-----------------------------------+\n",
      "| Credit_History(0) | Loan_Status(1) |                          100.0000 |\n",
      "+-------------------+----------------+-----------------------------------+\n",
      "| Credit_History(1) | Loan_Status(0) |                           12.0000 |\n",
      "+-------------------+----------------+-----------------------------------+\n",
      "| Credit_History(1) | Loan_Status(1) |                          313.0000 |\n",
      "+-------------------+----------------+-----------------------------------+\n"
     ]
    }
   ],
   "source": [
    "print(factor6)"
   ]
  },
  {
   "cell_type": "code",
   "execution_count": 98,
   "metadata": {},
   "outputs": [
    {
     "name": "stdout",
     "output_type": "stream",
     "text": [
      "+-----------+------------+--------------+------------------+------------------+-------------------+----------------+----------------------------------------------------------------------------------------+\n",
      "| Gender    | Married    | Education    | Self_Employed    | Property_Area    | Credit_History    | Loan_Status    |   phi(Gender,Married,Education,Self_Employed,Property_Area,Credit_History,Loan_Status) |\n",
      "+===========+============+==============+==================+==================+===================+================+========================================================================================+\n",
      "| Gender(0) | Married(0) | Education(0) | Self_Employed(0) | Property_Area(0) | Credit_History(0) | Loan_Status(0) |                                                                                 0.0000 |\n",
      "+-----------+------------+--------------+------------------+------------------+-------------------+----------------+----------------------------------------------------------------------------------------+\n",
      "| Gender(0) | Married(0) | Education(0) | Self_Employed(0) | Property_Area(0) | Credit_History(0) | Loan_Status(1) |                                                                                 0.0000 |\n",
      "+-----------+------------+--------------+------------------+------------------+-------------------+----------------+----------------------------------------------------------------------------------------+\n",
      "| Gender(0) | Married(0) | Education(0) | Self_Employed(0) | Property_Area(0) | Credit_History(1) | Loan_Status(0) |                                                                                 0.0000 |\n",
      "+-----------+------------+--------------+------------------+------------------+-------------------+----------------+----------------------------------------------------------------------------------------+\n",
      "| Gender(0) | Married(0) | Education(0) | Self_Employed(0) | Property_Area(0) | Credit_History(1) | Loan_Status(1) |                                                                                 0.0000 |\n",
      "+-----------+------------+--------------+------------------+------------------+-------------------+----------------+----------------------------------------------------------------------------------------+\n",
      "| Gender(0) | Married(0) | Education(0) | Self_Employed(0) | Property_Area(1) | Credit_History(0) | Loan_Status(0) |                                                                                 0.0000 |\n",
      "+-----------+------------+--------------+------------------+------------------+-------------------+----------------+----------------------------------------------------------------------------------------+\n",
      "| Gender(0) | Married(0) | Education(0) | Self_Employed(0) | Property_Area(1) | Credit_History(0) | Loan_Status(1) |                                                                                 0.0000 |\n",
      "+-----------+------------+--------------+------------------+------------------+-------------------+----------------+----------------------------------------------------------------------------------------+\n",
      "| Gender(0) | Married(0) | Education(0) | Self_Employed(0) | Property_Area(1) | Credit_History(1) | Loan_Status(0) |                                                                                 0.0000 |\n",
      "+-----------+------------+--------------+------------------+------------------+-------------------+----------------+----------------------------------------------------------------------------------------+\n",
      "| Gender(0) | Married(0) | Education(0) | Self_Employed(0) | Property_Area(1) | Credit_History(1) | Loan_Status(1) |                                                                                 0.0000 |\n",
      "+-----------+------------+--------------+------------------+------------------+-------------------+----------------+----------------------------------------------------------------------------------------+\n",
      "| Gender(0) | Married(0) | Education(0) | Self_Employed(0) | Property_Area(2) | Credit_History(0) | Loan_Status(0) |                                                                                 0.0000 |\n",
      "+-----------+------------+--------------+------------------+------------------+-------------------+----------------+----------------------------------------------------------------------------------------+\n",
      "| Gender(0) | Married(0) | Education(0) | Self_Employed(0) | Property_Area(2) | Credit_History(0) | Loan_Status(1) |                                                                                 0.0000 |\n",
      "+-----------+------------+--------------+------------------+------------------+-------------------+----------------+----------------------------------------------------------------------------------------+\n",
      "| Gender(0) | Married(0) | Education(0) | Self_Employed(0) | Property_Area(2) | Credit_History(1) | Loan_Status(0) |                                                                                 0.0000 |\n",
      "+-----------+------------+--------------+------------------+------------------+-------------------+----------------+----------------------------------------------------------------------------------------+\n",
      "| Gender(0) | Married(0) | Education(0) | Self_Employed(0) | Property_Area(2) | Credit_History(1) | Loan_Status(1) |                                                                                 0.0000 |\n",
      "+-----------+------------+--------------+------------------+------------------+-------------------+----------------+----------------------------------------------------------------------------------------+\n",
      "| Gender(0) | Married(0) | Education(0) | Self_Employed(1) | Property_Area(0) | Credit_History(0) | Loan_Status(0) |                                                                                 0.0000 |\n",
      "+-----------+------------+--------------+------------------+------------------+-------------------+----------------+----------------------------------------------------------------------------------------+\n",
      "| Gender(0) | Married(0) | Education(0) | Self_Employed(1) | Property_Area(0) | Credit_History(0) | Loan_Status(1) |                                                                                 0.0000 |\n",
      "+-----------+------------+--------------+------------------+------------------+-------------------+----------------+----------------------------------------------------------------------------------------+\n",
      "| Gender(0) | Married(0) | Education(0) | Self_Employed(1) | Property_Area(0) | Credit_History(1) | Loan_Status(0) |                                                                                 0.0000 |\n",
      "+-----------+------------+--------------+------------------+------------------+-------------------+----------------+----------------------------------------------------------------------------------------+\n",
      "| Gender(0) | Married(0) | Education(0) | Self_Employed(1) | Property_Area(0) | Credit_History(1) | Loan_Status(1) |                                                                                 0.0000 |\n",
      "+-----------+------------+--------------+------------------+------------------+-------------------+----------------+----------------------------------------------------------------------------------------+\n",
      "| Gender(0) | Married(0) | Education(0) | Self_Employed(1) | Property_Area(1) | Credit_History(0) | Loan_Status(0) |                                                                                 0.0000 |\n",
      "+-----------+------------+--------------+------------------+------------------+-------------------+----------------+----------------------------------------------------------------------------------------+\n",
      "| Gender(0) | Married(0) | Education(0) | Self_Employed(1) | Property_Area(1) | Credit_History(0) | Loan_Status(1) |                                                                                 0.0000 |\n",
      "+-----------+------------+--------------+------------------+------------------+-------------------+----------------+----------------------------------------------------------------------------------------+\n",
      "| Gender(0) | Married(0) | Education(0) | Self_Employed(1) | Property_Area(1) | Credit_History(1) | Loan_Status(0) |                                                                                 0.0000 |\n",
      "+-----------+------------+--------------+------------------+------------------+-------------------+----------------+----------------------------------------------------------------------------------------+\n",
      "| Gender(0) | Married(0) | Education(0) | Self_Employed(1) | Property_Area(1) | Credit_History(1) | Loan_Status(1) |                                                                                 0.0000 |\n",
      "+-----------+------------+--------------+------------------+------------------+-------------------+----------------+----------------------------------------------------------------------------------------+\n",
      "| Gender(0) | Married(0) | Education(0) | Self_Employed(1) | Property_Area(2) | Credit_History(0) | Loan_Status(0) |                                                                                 0.0000 |\n",
      "+-----------+------------+--------------+------------------+------------------+-------------------+----------------+----------------------------------------------------------------------------------------+\n",
      "| Gender(0) | Married(0) | Education(0) | Self_Employed(1) | Property_Area(2) | Credit_History(0) | Loan_Status(1) |                                                                                 0.0000 |\n",
      "+-----------+------------+--------------+------------------+------------------+-------------------+----------------+----------------------------------------------------------------------------------------+\n",
      "| Gender(0) | Married(0) | Education(0) | Self_Employed(1) | Property_Area(2) | Credit_History(1) | Loan_Status(0) |                                                                                 0.0000 |\n",
      "+-----------+------------+--------------+------------------+------------------+-------------------+----------------+----------------------------------------------------------------------------------------+\n",
      "| Gender(0) | Married(0) | Education(0) | Self_Employed(1) | Property_Area(2) | Credit_History(1) | Loan_Status(1) |                                                                                 0.0000 |\n",
      "+-----------+------------+--------------+------------------+------------------+-------------------+----------------+----------------------------------------------------------------------------------------+\n",
      "| Gender(0) | Married(0) | Education(1) | Self_Employed(0) | Property_Area(0) | Credit_History(0) | Loan_Status(0) |                                                                      754737984000.0000 |\n",
      "+-----------+------------+--------------+------------------+------------------+-------------------+----------------+----------------------------------------------------------------------------------------+\n",
      "| Gender(0) | Married(0) | Education(1) | Self_Employed(0) | Property_Area(0) | Credit_History(0) | Loan_Status(1) |                                                                      431278848000.0000 |\n",
      "+-----------+------------+--------------+------------------+------------------+-------------------+----------------+----------------------------------------------------------------------------------------+\n",
      "| Gender(0) | Married(0) | Education(1) | Self_Employed(0) | Property_Area(0) | Credit_History(1) | Loan_Status(0) |                                                                       61457235840.0000 |\n",
      "+-----------+------------+--------------+------------------+------------------+-------------------+----------------+----------------------------------------------------------------------------------------+\n",
      "| Gender(0) | Married(0) | Education(1) | Self_Employed(0) | Property_Area(0) | Credit_History(1) | Loan_Status(1) |                                                                     1603009568160.0000 |\n",
      "+-----------+------------+--------------+------------------+------------------+-------------------+----------------+----------------------------------------------------------------------------------------+\n",
      "| Gender(0) | Married(0) | Education(1) | Self_Employed(0) | Property_Area(1) | Credit_History(0) | Loan_Status(0) |                                                                     1461768808500.0000 |\n",
      "+-----------+------------+--------------+------------------+------------------+-------------------+----------------+----------------------------------------------------------------------------------------+\n",
      "| Gender(0) | Married(0) | Education(1) | Self_Employed(0) | Property_Area(1) | Credit_History(0) | Loan_Status(1) |                                                                      835296462000.0000 |\n",
      "+-----------+------------+--------------+------------------+------------------+-------------------+----------------+----------------------------------------------------------------------------------------+\n",
      "| Gender(0) | Married(0) | Education(1) | Self_Employed(0) | Property_Area(1) | Credit_History(1) | Loan_Status(0) |                                                                      125046361440.0000 |\n",
      "+-----------+------------+--------------+------------------+------------------+-------------------+----------------+----------------------------------------------------------------------------------------+\n",
      "| Gender(0) | Married(0) | Education(1) | Self_Employed(0) | Property_Area(1) | Credit_History(1) | Loan_Status(1) |                                                                     3261625927560.0000 |\n",
      "+-----------+------------+--------------+------------------+------------------+-------------------+----------------+----------------------------------------------------------------------------------------+\n",
      "| Gender(0) | Married(0) | Education(1) | Self_Employed(0) | Property_Area(2) | Credit_History(0) | Loan_Status(0) |                                                                     1088366479200.0000 |\n",
      "+-----------+------------+--------------+------------------+------------------+-------------------+----------------+----------------------------------------------------------------------------------------+\n",
      "| Gender(0) | Married(0) | Education(1) | Self_Employed(0) | Property_Area(2) | Credit_History(0) | Loan_Status(1) |                                                                      621923702400.0000 |\n",
      "+-----------+------------+--------------+------------------+------------------+-------------------+----------------+----------------------------------------------------------------------------------------+\n",
      "| Gender(0) | Married(0) | Education(1) | Self_Employed(0) | Property_Area(2) | Credit_History(1) | Loan_Status(0) |                                                                       82570295808.0000 |\n",
      "+-----------+------------+--------------+------------------+------------------+-------------------+----------------+----------------------------------------------------------------------------------------+\n",
      "| Gender(0) | Married(0) | Education(1) | Self_Employed(0) | Property_Area(2) | Credit_History(1) | Loan_Status(1) |                                                                     2153708548992.0000 |\n",
      "+-----------+------------+--------------+------------------+------------------+-------------------+----------------+----------------------------------------------------------------------------------------+\n",
      "| Gender(0) | Married(0) | Education(1) | Self_Employed(1) | Property_Area(0) | Credit_History(0) | Loan_Status(0) |                                                                     3837401568000.0000 |\n",
      "+-----------+------------+--------------+------------------+------------------+-------------------+----------------+----------------------------------------------------------------------------------------+\n",
      "| Gender(0) | Married(0) | Education(1) | Self_Employed(1) | Property_Area(0) | Credit_History(0) | Loan_Status(1) |                                                                     2192800896000.0000 |\n",
      "+-----------+------------+--------------+------------------+------------------+-------------------+----------------+----------------------------------------------------------------------------------------+\n",
      "| Gender(0) | Married(0) | Education(1) | Self_Employed(1) | Property_Area(0) | Credit_History(1) | Loan_Status(0) |                                                                      312474127680.0000 |\n",
      "+-----------+------------+--------------+------------------+------------------+-------------------+----------------+----------------------------------------------------------------------------------------+\n",
      "| Gender(0) | Married(0) | Education(1) | Self_Employed(1) | Property_Area(0) | Credit_History(1) | Loan_Status(1) |                                                                     8150366830320.0000 |\n",
      "+-----------+------------+--------------+------------------+------------------+-------------------+----------------+----------------------------------------------------------------------------------------+\n",
      "| Gender(0) | Married(0) | Education(1) | Self_Employed(1) | Property_Area(1) | Credit_History(0) | Loan_Status(0) |                                                                     5123151633600.0000 |\n",
      "+-----------+------------+--------------+------------------+------------------+-------------------+----------------+----------------------------------------------------------------------------------------+\n",
      "| Gender(0) | Married(0) | Education(1) | Self_Employed(1) | Property_Area(1) | Credit_History(0) | Loan_Status(1) |                                                                     2927515219200.0000 |\n",
      "+-----------+------------+--------------+------------------+------------------+-------------------+----------------+----------------------------------------------------------------------------------------+\n",
      "| Gender(0) | Married(0) | Education(1) | Self_Employed(1) | Property_Area(1) | Credit_History(1) | Loan_Status(0) |                                                                      438257723904.0000 |\n",
      "+-----------+------------+--------------+------------------+------------------+-------------------+----------------+----------------------------------------------------------------------------------------+\n",
      "| Gender(0) | Married(0) | Education(1) | Self_Employed(1) | Property_Area(1) | Credit_History(1) | Loan_Status(1) |                                                                    11431222298496.0000 |\n",
      "+-----------+------------+--------------+------------------+------------------+-------------------+----------------+----------------------------------------------------------------------------------------+\n",
      "| Gender(0) | Married(0) | Education(1) | Self_Employed(1) | Property_Area(2) | Credit_History(0) | Loan_Status(0) |                                                                     4664427768000.0000 |\n",
      "+-----------+------------+--------------+------------------+------------------+-------------------+----------------+----------------------------------------------------------------------------------------+\n",
      "| Gender(0) | Married(0) | Education(1) | Self_Employed(1) | Property_Area(2) | Credit_History(0) | Loan_Status(1) |                                                                     2665387296000.0000 |\n",
      "+-----------+------------+--------------+------------------+------------------+-------------------+----------------+----------------------------------------------------------------------------------------+\n",
      "| Gender(0) | Married(0) | Education(1) | Self_Employed(1) | Property_Area(2) | Credit_History(1) | Loan_Status(0) |                                                                      353872696320.0000 |\n",
      "+-----------+------------+--------------+------------------+------------------+-------------------+----------------+----------------------------------------------------------------------------------------+\n",
      "| Gender(0) | Married(0) | Education(1) | Self_Employed(1) | Property_Area(2) | Credit_History(1) | Loan_Status(1) |                                                                     9230179495680.0000 |\n",
      "+-----------+------------+--------------+------------------+------------------+-------------------+----------------+----------------------------------------------------------------------------------------+\n",
      "| Gender(0) | Married(1) | Education(0) | Self_Employed(0) | Property_Area(0) | Credit_History(0) | Loan_Status(0) |                                                                    16073430912000.0000 |\n",
      "+-----------+------------+--------------+------------------+------------------+-------------------+----------------+----------------------------------------------------------------------------------------+\n",
      "| Gender(0) | Married(1) | Education(0) | Self_Employed(0) | Property_Area(0) | Credit_History(0) | Loan_Status(1) |                                                                     9184817664000.0000 |\n",
      "+-----------+------------+--------------+------------------+------------------+-------------------+----------------+----------------------------------------------------------------------------------------+\n",
      "| Gender(0) | Married(1) | Education(0) | Self_Employed(0) | Property_Area(0) | Credit_History(1) | Loan_Status(0) |                                                                     1308836517120.0000 |\n",
      "+-----------+------------+--------------+------------------+------------------+-------------------+----------------+----------------------------------------------------------------------------------------+\n",
      "| Gender(0) | Married(1) | Education(0) | Self_Employed(0) | Property_Area(0) | Credit_History(1) | Loan_Status(1) |                                                                    34138819154880.0000 |\n",
      "+-----------+------------+--------------+------------------+------------------+-------------------+----------------+----------------------------------------------------------------------------------------+\n",
      "| Gender(0) | Married(1) | Education(0) | Self_Employed(0) | Property_Area(1) | Credit_History(0) | Loan_Status(0) |                                                                    31130856603000.0000 |\n",
      "+-----------+------------+--------------+------------------+------------------+-------------------+----------------+----------------------------------------------------------------------------------------+\n",
      "| Gender(0) | Married(1) | Education(0) | Self_Employed(0) | Property_Area(1) | Credit_History(0) | Loan_Status(1) |                                                                    17789060916000.0000 |\n",
      "+-----------+------------+--------------+------------------+------------------+-------------------+----------------+----------------------------------------------------------------------------------------+\n",
      "| Gender(0) | Married(1) | Education(0) | Self_Employed(0) | Property_Area(1) | Credit_History(1) | Loan_Status(0) |                                                                     2663075257920.0000 |\n",
      "+-----------+------------+--------------+------------------+------------------+-------------------+----------------+----------------------------------------------------------------------------------------+\n",
      "| Gender(0) | Married(1) | Education(0) | Self_Employed(0) | Property_Area(1) | Credit_History(1) | Loan_Status(1) |                                                                    69461879644080.0000 |\n",
      "+-----------+------------+--------------+------------------+------------------+-------------------+----------------+----------------------------------------------------------------------------------------+\n",
      "| Gender(0) | Married(1) | Education(0) | Self_Employed(0) | Property_Area(2) | Credit_History(0) | Loan_Status(0) |                                                                    23178617985600.0000 |\n",
      "+-----------+------------+--------------+------------------+------------------+-------------------+----------------+----------------------------------------------------------------------------------------+\n",
      "| Gender(0) | Married(1) | Education(0) | Self_Employed(0) | Property_Area(2) | Credit_History(0) | Loan_Status(1) |                                                                    13244924563200.0000 |\n",
      "+-----------+------------+--------------+------------------+------------------+-------------------+----------------+----------------------------------------------------------------------------------------+\n",
      "| Gender(0) | Married(1) | Education(0) | Self_Employed(0) | Property_Area(2) | Credit_History(1) | Loan_Status(0) |                                                                     1758475090944.0000 |\n",
      "+-----------+------------+--------------+------------------+------------------+-------------------+----------------+----------------------------------------------------------------------------------------+\n",
      "| Gender(0) | Married(1) | Education(0) | Self_Employed(0) | Property_Area(2) | Credit_History(1) | Loan_Status(1) |                                                                    45866891955456.0000 |\n",
      "+-----------+------------+--------------+------------------+------------------+-------------------+----------------+----------------------------------------------------------------------------------------+\n",
      "| Gender(0) | Married(1) | Education(0) | Self_Employed(1) | Property_Area(0) | Credit_History(0) | Loan_Status(0) |                                                                     2914225776000.0000 |\n",
      "+-----------+------------+--------------+------------------+------------------+-------------------+----------------+----------------------------------------------------------------------------------------+\n",
      "| Gender(0) | Married(1) | Education(0) | Self_Employed(1) | Property_Area(0) | Credit_History(0) | Loan_Status(1) |                                                                     1665271872000.0000 |\n",
      "+-----------+------------+--------------+------------------+------------------+-------------------+----------------+----------------------------------------------------------------------------------------+\n",
      "| Gender(0) | Married(1) | Education(0) | Self_Employed(1) | Property_Area(0) | Credit_History(1) | Loan_Status(0) |                                                                      237301241760.0000 |\n",
      "+-----------+------------+--------------+------------------+------------------+-------------------+----------------+----------------------------------------------------------------------------------------+\n",
      "| Gender(0) | Married(1) | Education(0) | Self_Employed(1) | Property_Area(0) | Credit_History(1) | Loan_Status(1) |                                                                     6189607389240.0000 |\n",
      "+-----------+------------+--------------+------------------+------------------+-------------------+----------------+----------------------------------------------------------------------------------------+\n",
      "| Gender(0) | Married(1) | Education(0) | Self_Employed(1) | Property_Area(1) | Credit_History(0) | Loan_Status(0) |                                                                     3890658895200.0000 |\n",
      "+-----------+------------+--------------+------------------+------------------+-------------------+----------------+----------------------------------------------------------------------------------------+\n",
      "| Gender(0) | Married(1) | Education(0) | Self_Employed(1) | Property_Area(1) | Credit_History(0) | Loan_Status(1) |                                                                     2223233654400.0000 |\n",
      "+-----------+------------+--------------+------------------+------------------+-------------------+----------------+----------------------------------------------------------------------------------------+\n",
      "| Gender(0) | Married(1) | Education(0) | Self_Employed(1) | Property_Area(1) | Credit_History(1) | Loan_Status(0) |                                                                      332824681728.0000 |\n",
      "+-----------+------------+--------------+------------------+------------------+-------------------+----------------+----------------------------------------------------------------------------------------+\n",
      "| Gender(0) | Married(1) | Education(0) | Self_Employed(1) | Property_Area(1) | Credit_History(1) | Loan_Status(1) |                                                                     8681177115072.0000 |\n",
      "+-----------+------------+--------------+------------------+------------------+-------------------+----------------+----------------------------------------------------------------------------------------+\n",
      "| Gender(0) | Married(1) | Education(0) | Self_Employed(1) | Property_Area(2) | Credit_History(0) | Loan_Status(0) |                                                                     3542291676000.0000 |\n",
      "+-----------+------------+--------------+------------------+------------------+-------------------+----------------+----------------------------------------------------------------------------------------+\n",
      "| Gender(0) | Married(1) | Education(0) | Self_Employed(1) | Property_Area(2) | Credit_History(0) | Loan_Status(1) |                                                                     2024166672000.0000 |\n",
      "+-----------+------------+--------------+------------------+------------------+-------------------+----------------+----------------------------------------------------------------------------------------+\n",
      "| Gender(0) | Married(1) | Education(0) | Self_Employed(1) | Property_Area(2) | Credit_History(1) | Loan_Status(0) |                                                                      268740426240.0000 |\n",
      "+-----------+------------+--------------+------------------+------------------+-------------------+----------------+----------------------------------------------------------------------------------------+\n",
      "| Gender(0) | Married(1) | Education(0) | Self_Employed(1) | Property_Area(2) | Credit_History(1) | Loan_Status(1) |                                                                     7009646117760.0000 |\n",
      "+-----------+------------+--------------+------------------+------------------+-------------------+----------------+----------------------------------------------------------------------------------------+\n",
      "| Gender(0) | Married(1) | Education(1) | Self_Employed(0) | Property_Area(0) | Credit_History(0) | Loan_Status(0) |                                                                      484944768000.0000 |\n",
      "+-----------+------------+--------------+------------------+------------------+-------------------+----------------+----------------------------------------------------------------------------------------+\n",
      "| Gender(0) | Married(1) | Education(1) | Self_Employed(0) | Property_Area(0) | Credit_History(0) | Loan_Status(1) |                                                                      277111296000.0000 |\n",
      "+-----------+------------+--------------+------------------+------------------+-------------------+----------------+----------------------------------------------------------------------------------------+\n",
      "| Gender(0) | Married(1) | Education(1) | Self_Employed(0) | Property_Area(0) | Credit_History(1) | Loan_Status(0) |                                                                       39488359680.0000 |\n",
      "+-----------+------------+--------------+------------------+------------------+-------------------+----------------+----------------------------------------------------------------------------------------+\n",
      "| Gender(0) | Married(1) | Education(1) | Self_Employed(0) | Property_Area(0) | Credit_History(1) | Loan_Status(1) |                                                                     1029988048320.0000 |\n",
      "+-----------+------------+--------------+------------------+------------------+-------------------+----------------+----------------------------------------------------------------------------------------+\n",
      "| Gender(0) | Married(1) | Education(1) | Self_Employed(0) | Property_Area(1) | Credit_History(0) | Loan_Status(0) |                                                                      939236067000.0000 |\n",
      "+-----------+------------+--------------+------------------+------------------+-------------------+----------------+----------------------------------------------------------------------------------------+\n",
      "| Gender(0) | Married(1) | Education(1) | Self_Employed(0) | Property_Area(1) | Credit_History(0) | Loan_Status(1) |                                                                      536706324000.0000 |\n",
      "+-----------+------------+--------------+------------------+------------------+-------------------+----------------+----------------------------------------------------------------------------------------+\n",
      "| Gender(0) | Married(1) | Education(1) | Self_Employed(0) | Property_Area(1) | Credit_History(1) | Loan_Status(0) |                                                                       80346530880.0000 |\n",
      "+-----------+------------+--------------+------------------+------------------+-------------------+----------------+----------------------------------------------------------------------------------------+\n",
      "| Gender(0) | Married(1) | Education(1) | Self_Employed(0) | Property_Area(1) | Credit_History(1) | Loan_Status(1) |                                                                     2095705347120.0000 |\n",
      "+-----------+------------+--------------+------------------+------------------+-------------------+----------------+----------------------------------------------------------------------------------------+\n",
      "| Gender(0) | Married(1) | Education(1) | Self_Employed(0) | Property_Area(2) | Credit_History(0) | Loan_Status(0) |                                                                      699312398400.0000 |\n",
      "+-----------+------------+--------------+------------------+------------------+-------------------+----------------+----------------------------------------------------------------------------------------+\n",
      "| Gender(0) | Married(1) | Education(1) | Self_Employed(0) | Property_Area(2) | Credit_History(0) | Loan_Status(1) |                                                                      399607084800.0000 |\n",
      "+-----------+------------+--------------+------------------+------------------+-------------------+----------------+----------------------------------------------------------------------------------------+\n",
      "| Gender(0) | Married(1) | Education(1) | Self_Employed(0) | Property_Area(2) | Credit_History(1) | Loan_Status(0) |                                                                       53054217216.0000 |\n",
      "+-----------+------------+--------------+------------------+------------------+-------------------+----------------+----------------------------------------------------------------------------------------+\n",
      "| Gender(0) | Married(1) | Education(1) | Self_Employed(0) | Property_Area(2) | Credit_History(1) | Loan_Status(1) |                                                                     1383830832384.0000 |\n",
      "+-----------+------------+--------------+------------------+------------------+-------------------+----------------+----------------------------------------------------------------------------------------+\n",
      "| Gender(0) | Married(1) | Education(1) | Self_Employed(1) | Property_Area(0) | Credit_History(0) | Loan_Status(0) |                                                                     2465660736000.0000 |\n",
      "+-----------+------------+--------------+------------------+------------------+-------------------+----------------+----------------------------------------------------------------------------------------+\n",
      "| Gender(0) | Married(1) | Education(1) | Self_Employed(1) | Property_Area(0) | Credit_History(0) | Loan_Status(1) |                                                                     1408948992000.0000 |\n",
      "+-----------+------------+--------------+------------------+------------------+-------------------+----------------+----------------------------------------------------------------------------------------+\n",
      "| Gender(0) | Married(1) | Education(1) | Self_Employed(1) | Property_Area(0) | Credit_History(1) | Loan_Status(0) |                                                                      200775231360.0000 |\n",
      "+-----------+------------+--------------+------------------+------------------+-------------------+----------------+----------------------------------------------------------------------------------------+\n",
      "| Gender(0) | Married(1) | Education(1) | Self_Employed(1) | Property_Area(0) | Credit_History(1) | Loan_Status(1) |                                                                     5236887284640.0000 |\n",
      "+-----------+------------+--------------+------------------+------------------+-------------------+----------------+----------------------------------------------------------------------------------------+\n",
      "| Gender(0) | Married(1) | Education(1) | Self_Employed(1) | Property_Area(1) | Credit_History(0) | Loan_Status(0) |                                                                     3291798787200.0000 |\n",
      "+-----------+------------+--------------+------------------+------------------+-------------------+----------------+----------------------------------------------------------------------------------------+\n",
      "| Gender(0) | Married(1) | Education(1) | Self_Employed(1) | Property_Area(1) | Credit_History(0) | Loan_Status(1) |                                                                     1881027878400.0000 |\n",
      "+-----------+------------+--------------+------------------+------------------+-------------------+----------------+----------------------------------------------------------------------------------------+\n",
      "| Gender(0) | Married(1) | Education(1) | Self_Employed(1) | Property_Area(1) | Credit_History(1) | Loan_Status(0) |                                                                      281595460608.0000 |\n",
      "+-----------+------------+--------------+------------------+------------------+-------------------+----------------+----------------------------------------------------------------------------------------+\n",
      "| Gender(0) | Married(1) | Education(1) | Self_Employed(1) | Property_Area(1) | Credit_History(1) | Loan_Status(1) |                                                                     7344948264192.0000 |\n",
      "+-----------+------------+--------------+------------------+------------------+-------------------+----------------+----------------------------------------------------------------------------------------+\n",
      "| Gender(0) | Married(1) | Education(1) | Self_Employed(1) | Property_Area(2) | Credit_History(0) | Loan_Status(0) |                                                                     2997053136000.0000 |\n",
      "+-----------+------------+--------------+------------------+------------------+-------------------+----------------+----------------------------------------------------------------------------------------+\n",
      "| Gender(0) | Married(1) | Education(1) | Self_Employed(1) | Property_Area(2) | Credit_History(0) | Loan_Status(1) |                                                                     1712601792000.0000 |\n",
      "+-----------+------------+--------------+------------------+------------------+-------------------+----------------+----------------------------------------------------------------------------------------+\n",
      "| Gender(0) | Married(1) | Education(1) | Self_Employed(1) | Property_Area(2) | Credit_History(1) | Loan_Status(0) |                                                                      227375216640.0000 |\n",
      "+-----------+------------+--------------+------------------+------------------+-------------------+----------------+----------------------------------------------------------------------------------------+\n",
      "| Gender(0) | Married(1) | Education(1) | Self_Employed(1) | Property_Area(2) | Credit_History(1) | Loan_Status(1) |                                                                     5930703567360.0000 |\n",
      "+-----------+------------+--------------+------------------+------------------+-------------------+----------------+----------------------------------------------------------------------------------------+\n",
      "| Gender(1) | Married(0) | Education(0) | Self_Employed(0) | Property_Area(0) | Credit_History(0) | Loan_Status(0) |                                                                                 0.0000 |\n",
      "+-----------+------------+--------------+------------------+------------------+-------------------+----------------+----------------------------------------------------------------------------------------+\n",
      "| Gender(1) | Married(0) | Education(0) | Self_Employed(0) | Property_Area(0) | Credit_History(0) | Loan_Status(1) |                                                                                 0.0000 |\n",
      "+-----------+------------+--------------+------------------+------------------+-------------------+----------------+----------------------------------------------------------------------------------------+\n",
      "| Gender(1) | Married(0) | Education(0) | Self_Employed(0) | Property_Area(0) | Credit_History(1) | Loan_Status(0) |                                                                                 0.0000 |\n",
      "+-----------+------------+--------------+------------------+------------------+-------------------+----------------+----------------------------------------------------------------------------------------+\n",
      "| Gender(1) | Married(0) | Education(0) | Self_Employed(0) | Property_Area(0) | Credit_History(1) | Loan_Status(1) |                                                                                 0.0000 |\n",
      "+-----------+------------+--------------+------------------+------------------+-------------------+----------------+----------------------------------------------------------------------------------------+\n",
      "| Gender(1) | Married(0) | Education(0) | Self_Employed(0) | Property_Area(1) | Credit_History(0) | Loan_Status(0) |                                                                                 0.0000 |\n",
      "+-----------+------------+--------------+------------------+------------------+-------------------+----------------+----------------------------------------------------------------------------------------+\n",
      "| Gender(1) | Married(0) | Education(0) | Self_Employed(0) | Property_Area(1) | Credit_History(0) | Loan_Status(1) |                                                                                 0.0000 |\n",
      "+-----------+------------+--------------+------------------+------------------+-------------------+----------------+----------------------------------------------------------------------------------------+\n",
      "| Gender(1) | Married(0) | Education(0) | Self_Employed(0) | Property_Area(1) | Credit_History(1) | Loan_Status(0) |                                                                                 0.0000 |\n",
      "+-----------+------------+--------------+------------------+------------------+-------------------+----------------+----------------------------------------------------------------------------------------+\n",
      "| Gender(1) | Married(0) | Education(0) | Self_Employed(0) | Property_Area(1) | Credit_History(1) | Loan_Status(1) |                                                                                 0.0000 |\n",
      "+-----------+------------+--------------+------------------+------------------+-------------------+----------------+----------------------------------------------------------------------------------------+\n",
      "| Gender(1) | Married(0) | Education(0) | Self_Employed(0) | Property_Area(2) | Credit_History(0) | Loan_Status(0) |                                                                                 0.0000 |\n",
      "+-----------+------------+--------------+------------------+------------------+-------------------+----------------+----------------------------------------------------------------------------------------+\n",
      "| Gender(1) | Married(0) | Education(0) | Self_Employed(0) | Property_Area(2) | Credit_History(0) | Loan_Status(1) |                                                                                 0.0000 |\n",
      "+-----------+------------+--------------+------------------+------------------+-------------------+----------------+----------------------------------------------------------------------------------------+\n",
      "| Gender(1) | Married(0) | Education(0) | Self_Employed(0) | Property_Area(2) | Credit_History(1) | Loan_Status(0) |                                                                                 0.0000 |\n",
      "+-----------+------------+--------------+------------------+------------------+-------------------+----------------+----------------------------------------------------------------------------------------+\n",
      "| Gender(1) | Married(0) | Education(0) | Self_Employed(0) | Property_Area(2) | Credit_History(1) | Loan_Status(1) |                                                                                 0.0000 |\n",
      "+-----------+------------+--------------+------------------+------------------+-------------------+----------------+----------------------------------------------------------------------------------------+\n",
      "| Gender(1) | Married(0) | Education(0) | Self_Employed(1) | Property_Area(0) | Credit_History(0) | Loan_Status(0) |                                                                                 0.0000 |\n",
      "+-----------+------------+--------------+------------------+------------------+-------------------+----------------+----------------------------------------------------------------------------------------+\n",
      "| Gender(1) | Married(0) | Education(0) | Self_Employed(1) | Property_Area(0) | Credit_History(0) | Loan_Status(1) |                                                                                 0.0000 |\n",
      "+-----------+------------+--------------+------------------+------------------+-------------------+----------------+----------------------------------------------------------------------------------------+\n",
      "| Gender(1) | Married(0) | Education(0) | Self_Employed(1) | Property_Area(0) | Credit_History(1) | Loan_Status(0) |                                                                                 0.0000 |\n",
      "+-----------+------------+--------------+------------------+------------------+-------------------+----------------+----------------------------------------------------------------------------------------+\n",
      "| Gender(1) | Married(0) | Education(0) | Self_Employed(1) | Property_Area(0) | Credit_History(1) | Loan_Status(1) |                                                                                 0.0000 |\n",
      "+-----------+------------+--------------+------------------+------------------+-------------------+----------------+----------------------------------------------------------------------------------------+\n",
      "| Gender(1) | Married(0) | Education(0) | Self_Employed(1) | Property_Area(1) | Credit_History(0) | Loan_Status(0) |                                                                                 0.0000 |\n",
      "+-----------+------------+--------------+------------------+------------------+-------------------+----------------+----------------------------------------------------------------------------------------+\n",
      "| Gender(1) | Married(0) | Education(0) | Self_Employed(1) | Property_Area(1) | Credit_History(0) | Loan_Status(1) |                                                                                 0.0000 |\n",
      "+-----------+------------+--------------+------------------+------------------+-------------------+----------------+----------------------------------------------------------------------------------------+\n",
      "| Gender(1) | Married(0) | Education(0) | Self_Employed(1) | Property_Area(1) | Credit_History(1) | Loan_Status(0) |                                                                                 0.0000 |\n",
      "+-----------+------------+--------------+------------------+------------------+-------------------+----------------+----------------------------------------------------------------------------------------+\n",
      "| Gender(1) | Married(0) | Education(0) | Self_Employed(1) | Property_Area(1) | Credit_History(1) | Loan_Status(1) |                                                                                 0.0000 |\n",
      "+-----------+------------+--------------+------------------+------------------+-------------------+----------------+----------------------------------------------------------------------------------------+\n",
      "| Gender(1) | Married(0) | Education(0) | Self_Employed(1) | Property_Area(2) | Credit_History(0) | Loan_Status(0) |                                                                                 0.0000 |\n",
      "+-----------+------------+--------------+------------------+------------------+-------------------+----------------+----------------------------------------------------------------------------------------+\n",
      "| Gender(1) | Married(0) | Education(0) | Self_Employed(1) | Property_Area(2) | Credit_History(0) | Loan_Status(1) |                                                                                 0.0000 |\n",
      "+-----------+------------+--------------+------------------+------------------+-------------------+----------------+----------------------------------------------------------------------------------------+\n",
      "| Gender(1) | Married(0) | Education(0) | Self_Employed(1) | Property_Area(2) | Credit_History(1) | Loan_Status(0) |                                                                                 0.0000 |\n",
      "+-----------+------------+--------------+------------------+------------------+-------------------+----------------+----------------------------------------------------------------------------------------+\n",
      "| Gender(1) | Married(0) | Education(0) | Self_Employed(1) | Property_Area(2) | Credit_History(1) | Loan_Status(1) |                                                                                 0.0000 |\n",
      "+-----------+------------+--------------+------------------+------------------+-------------------+----------------+----------------------------------------------------------------------------------------+\n",
      "| Gender(1) | Married(0) | Education(1) | Self_Employed(0) | Property_Area(0) | Credit_History(0) | Loan_Status(0) |                                                                     1054697952000.0000 |\n",
      "+-----------+------------+--------------+------------------+------------------+-------------------+----------------+----------------------------------------------------------------------------------------+\n",
      "| Gender(1) | Married(0) | Education(1) | Self_Employed(0) | Property_Area(0) | Credit_History(0) | Loan_Status(1) |                                                                      602684544000.0000 |\n",
      "+-----------+------------+--------------+------------------+------------------+-------------------+----------------+----------------------------------------------------------------------------------------+\n",
      "| Gender(1) | Married(0) | Education(1) | Self_Employed(0) | Property_Area(0) | Credit_History(1) | Loan_Status(0) |                                                                       85882547520.0000 |\n",
      "+-----------+------------+--------------+------------------+------------------+-------------------+----------------+----------------------------------------------------------------------------------------+\n",
      "| Gender(1) | Married(0) | Education(1) | Self_Employed(0) | Property_Area(0) | Credit_History(1) | Loan_Status(1) |                                                                     2240103114480.0000 |\n",
      "+-----------+------------+--------------+------------------+------------------+-------------------+----------------+----------------------------------------------------------------------------------------+\n",
      "| Gender(1) | Married(0) | Education(1) | Self_Employed(0) | Property_Area(1) | Credit_History(0) | Loan_Status(0) |                                                                     2042728206750.0000 |\n",
      "+-----------+------------+--------------+------------------+------------------+-------------------+----------------+----------------------------------------------------------------------------------------+\n",
      "| Gender(1) | Married(0) | Education(1) | Self_Employed(0) | Property_Area(1) | Credit_History(0) | Loan_Status(1) |                                                                     1167273261000.0000 |\n",
      "+-----------+------------+--------------+------------------+------------------+-------------------+----------------+----------------------------------------------------------------------------------------+\n",
      "| Gender(1) | Married(0) | Education(1) | Self_Employed(0) | Property_Area(1) | Credit_History(1) | Loan_Status(0) |                                                                      174744274320.0000 |\n",
      "+-----------+------------+--------------+------------------+------------------+-------------------+----------------+----------------------------------------------------------------------------------------+\n",
      "| Gender(1) | Married(0) | Education(1) | Self_Employed(0) | Property_Area(1) | Credit_History(1) | Loan_Status(1) |                                                                     4557913155180.0000 |\n",
      "+-----------+------------+--------------+------------------+------------------+-------------------+----------------+----------------------------------------------------------------------------------------+\n",
      "| Gender(1) | Married(0) | Education(1) | Self_Employed(0) | Property_Area(2) | Credit_History(0) | Loan_Status(0) |                                                                     1520922387600.0000 |\n",
      "+-----------+------------+--------------+------------------+------------------+-------------------+----------------+----------------------------------------------------------------------------------------+\n",
      "| Gender(1) | Married(0) | Education(1) | Self_Employed(0) | Property_Area(2) | Credit_History(0) | Loan_Status(1) |                                                                      869098507200.0000 |\n",
      "+-----------+------------+--------------+------------------+------------------+-------------------+----------------+----------------------------------------------------------------------------------------+\n",
      "| Gender(1) | Married(0) | Education(1) | Self_Employed(0) | Property_Area(2) | Credit_History(1) | Loan_Status(0) |                                                                      115386695424.0000 |\n",
      "+-----------+------------+--------------+------------------+------------------+-------------------+----------------+----------------------------------------------------------------------------------------+\n",
      "| Gender(1) | Married(0) | Education(1) | Self_Employed(0) | Property_Area(2) | Credit_History(1) | Loan_Status(1) |                                                                     3009669638976.0000 |\n",
      "+-----------+------------+--------------+------------------+------------------+-------------------+----------------+----------------------------------------------------------------------------------------+\n",
      "| Gender(1) | Married(0) | Education(1) | Self_Employed(1) | Property_Area(0) | Credit_History(0) | Loan_Status(0) |                                                                     5362522704000.0000 |\n",
      "+-----------+------------+--------------+------------------+------------------+-------------------+----------------+----------------------------------------------------------------------------------------+\n",
      "| Gender(1) | Married(0) | Education(1) | Self_Employed(1) | Property_Area(0) | Credit_History(0) | Loan_Status(1) |                                                                     3064298688000.0000 |\n",
      "+-----------+------------+--------------+------------------+------------------+-------------------+----------------+----------------------------------------------------------------------------------------+\n",
      "| Gender(1) | Married(0) | Education(1) | Self_Employed(1) | Property_Area(0) | Credit_History(1) | Loan_Status(0) |                                                                      436662563040.0000 |\n",
      "+-----------+------------+--------------+------------------+------------------+-------------------+----------------+----------------------------------------------------------------------------------------+\n",
      "| Gender(1) | Married(0) | Education(1) | Self_Employed(1) | Property_Area(0) | Credit_History(1) | Loan_Status(1) |                                                                    11389615185960.0000 |\n",
      "+-----------+------------+--------------+------------------+------------------+-------------------+----------------+----------------------------------------------------------------------------------------+\n",
      "| Gender(1) | Married(0) | Education(1) | Self_Employed(1) | Property_Area(1) | Credit_History(0) | Loan_Status(0) |                                                                     7159276000800.0000 |\n",
      "+-----------+------------+--------------+------------------+------------------+-------------------+----------------+----------------------------------------------------------------------------------------+\n",
      "| Gender(1) | Married(0) | Education(1) | Self_Employed(1) | Property_Area(1) | Credit_History(0) | Loan_Status(1) |                                                                     4091014857600.0000 |\n",
      "+-----------+------------+--------------+------------------+------------------+-------------------+----------------+----------------------------------------------------------------------------------------+\n",
      "| Gender(1) | Married(0) | Education(1) | Self_Employed(1) | Property_Area(1) | Credit_History(1) | Loan_Status(0) |                                                                      612437075712.0000 |\n",
      "+-----------+------------+--------------+------------------+------------------+-------------------+----------------+----------------------------------------------------------------------------------------+\n",
      "| Gender(1) | Married(0) | Education(1) | Self_Employed(1) | Property_Area(1) | Credit_History(1) | Loan_Status(1) |                                                                    15974400391488.0000 |\n",
      "+-----------+------------+--------------+------------------+------------------+-------------------+----------------+----------------------------------------------------------------------------------------+\n",
      "| Gender(1) | Married(0) | Education(1) | Self_Employed(1) | Property_Area(2) | Credit_History(0) | Loan_Status(0) |                                                                     6518238804000.0000 |\n",
      "+-----------+------------+--------------+------------------+------------------+-------------------+----------------+----------------------------------------------------------------------------------------+\n",
      "| Gender(1) | Married(0) | Education(1) | Self_Employed(1) | Property_Area(2) | Credit_History(0) | Loan_Status(1) |                                                                     3724707888000.0000 |\n",
      "+-----------+------------+--------------+------------------+------------------+-------------------+----------------+----------------------------------------------------------------------------------------+\n",
      "| Gender(1) | Married(0) | Education(1) | Self_Employed(1) | Property_Area(2) | Credit_History(1) | Loan_Status(0) |                                                                      494514408960.0000 |\n",
      "+-----------+------------+--------------+------------------+------------------+-------------------+----------------+----------------------------------------------------------------------------------------+\n",
      "| Gender(1) | Married(0) | Education(1) | Self_Employed(1) | Property_Area(2) | Credit_History(1) | Loan_Status(1) |                                                                    12898584167040.0000 |\n",
      "+-----------+------------+--------------+------------------+------------------+-------------------+----------------+----------------------------------------------------------------------------------------+\n",
      "| Gender(1) | Married(1) | Education(0) | Self_Employed(0) | Property_Area(0) | Credit_History(0) | Loan_Status(0) |                                                                    34216924896000.0000 |\n",
      "+-----------+------------+--------------+------------------+------------------+-------------------+----------------+----------------------------------------------------------------------------------------+\n",
      "| Gender(1) | Married(1) | Education(0) | Self_Employed(0) | Property_Area(0) | Credit_History(0) | Loan_Status(1) |                                                                    19552528512000.0000 |\n",
      "+-----------+------------+--------------+------------------+------------------+-------------------+----------------+----------------------------------------------------------------------------------------+\n",
      "| Gender(1) | Married(1) | Education(0) | Self_Employed(0) | Property_Area(0) | Credit_History(1) | Loan_Status(0) |                                                                     2786235312960.0000 |\n",
      "+-----------+------------+--------------+------------------+------------------+-------------------+----------------+----------------------------------------------------------------------------------------+\n",
      "| Gender(1) | Married(1) | Education(0) | Self_Employed(0) | Property_Area(0) | Credit_History(1) | Loan_Status(1) |                                                                    72674304413040.0000 |\n",
      "+-----------+------------+--------------+------------------+------------------+-------------------+----------------+----------------------------------------------------------------------------------------+\n",
      "| Gender(1) | Married(1) | Education(0) | Self_Employed(0) | Property_Area(1) | Credit_History(0) | Loan_Status(0) |                                                                    66270990192750.0000 |\n",
      "+-----------+------------+--------------+------------------+------------------+-------------------+----------------+----------------------------------------------------------------------------------------+\n",
      "| Gender(1) | Married(1) | Education(0) | Self_Employed(0) | Property_Area(1) | Credit_History(0) | Loan_Status(1) |                                                                    37869137253000.0000 |\n",
      "+-----------+------------+--------------+------------------+------------------+-------------------+----------------+----------------------------------------------------------------------------------------+\n",
      "| Gender(1) | Married(1) | Education(0) | Self_Employed(0) | Property_Area(1) | Credit_History(1) | Loan_Status(0) |                                                                     5669122329360.0000 |\n",
      "+-----------+------------+--------------+------------------+------------------+-------------------+----------------+----------------------------------------------------------------------------------------+\n",
      "| Gender(1) | Married(1) | Education(0) | Self_Employed(0) | Property_Area(1) | Credit_History(1) | Loan_Status(1) |                                                                   147869607424140.0000 |\n",
      "+-----------+------------+--------------+------------------+------------------+-------------------+----------------+----------------------------------------------------------------------------------------+\n",
      "| Gender(1) | Married(1) | Education(0) | Self_Employed(0) | Property_Area(2) | Credit_History(0) | Loan_Status(0) |                                                                    49342361014800.0000 |\n",
      "+-----------+------------+--------------+------------------+------------------+-------------------+----------------+----------------------------------------------------------------------------------------+\n",
      "| Gender(1) | Married(1) | Education(0) | Self_Employed(0) | Property_Area(2) | Credit_History(0) | Loan_Status(1) |                                                                    28195634865600.0000 |\n",
      "+-----------+------------+--------------+------------------+------------------+-------------------+----------------+----------------------------------------------------------------------------------------+\n",
      "| Gender(1) | Married(1) | Education(0) | Self_Employed(0) | Property_Area(2) | Credit_History(1) | Loan_Status(0) |                                                                     3743420458752.0000 |\n",
      "+-----------+------------+--------------+------------------+------------------+-------------------+----------------+----------------------------------------------------------------------------------------+\n",
      "| Gender(1) | Married(1) | Education(0) | Self_Employed(0) | Property_Area(2) | Credit_History(1) | Loan_Status(1) |                                                                    97640883632448.0000 |\n",
      "+-----------+------------+--------------+------------------+------------------+-------------------+----------------+----------------------------------------------------------------------------------------+\n",
      "| Gender(1) | Married(1) | Education(0) | Self_Employed(1) | Property_Area(0) | Credit_History(0) | Loan_Status(0) |                                                                     6203768508000.0000 |\n",
      "+-----------+------------+--------------+------------------+------------------+-------------------+----------------+----------------------------------------------------------------------------------------+\n",
      "| Gender(1) | Married(1) | Education(0) | Self_Employed(1) | Property_Area(0) | Credit_History(0) | Loan_Status(1) |                                                                     3545010576000.0000 |\n",
      "+-----------+------------+--------------+------------------+------------------+-------------------+----------------+----------------------------------------------------------------------------------------+\n",
      "| Gender(1) | Married(1) | Education(0) | Self_Employed(1) | Property_Area(0) | Credit_History(1) | Loan_Status(0) |                                                                      505164007080.0000 |\n",
      "+-----------+------------+--------------+------------------+------------------+-------------------+----------------+----------------------------------------------------------------------------------------+\n",
      "| Gender(1) | Married(1) | Education(0) | Self_Employed(1) | Property_Area(0) | Credit_History(1) | Loan_Status(1) |                                                                    13176361184670.0000 |\n",
      "+-----------+------------+--------------+------------------+------------------+-------------------+----------------+----------------------------------------------------------------------------------------+\n",
      "| Gender(1) | Married(1) | Education(0) | Self_Employed(1) | Property_Area(1) | Credit_History(0) | Loan_Status(0) |                                                                     8282387496600.0000 |\n",
      "+-----------+------------+--------------+------------------+------------------+-------------------+----------------+----------------------------------------------------------------------------------------+\n",
      "| Gender(1) | Married(1) | Education(0) | Self_Employed(1) | Property_Area(1) | Credit_History(0) | Loan_Status(1) |                                                                     4732792855200.0000 |\n",
      "+-----------+------------+--------------+------------------+------------------+-------------------+----------------+----------------------------------------------------------------------------------------+\n",
      "| Gender(1) | Married(1) | Education(0) | Self_Employed(1) | Property_Area(1) | Credit_History(1) | Loan_Status(0) |                                                                      708513148224.0000 |\n",
      "+-----------+------------+--------------+------------------+------------------+-------------------+----------------+----------------------------------------------------------------------------------------+\n",
      "| Gender(1) | Married(1) | Education(0) | Self_Employed(1) | Property_Area(1) | Credit_History(1) | Loan_Status(1) |                                                                    18480384616176.0000 |\n",
      "+-----------+------------+--------------+------------------+------------------+-------------------+----------------+----------------------------------------------------------------------------------------+\n",
      "| Gender(1) | Married(1) | Education(0) | Self_Employed(1) | Property_Area(2) | Credit_History(0) | Loan_Status(0) |                                                                     7540787583000.0000 |\n",
      "+-----------+------------+--------------+------------------+------------------+-------------------+----------------+----------------------------------------------------------------------------------------+\n",
      "| Gender(1) | Married(1) | Education(0) | Self_Employed(1) | Property_Area(2) | Credit_History(0) | Loan_Status(1) |                                                                     4309021476000.0000 |\n",
      "+-----------+------------+--------------+------------------+------------------+-------------------+----------------+----------------------------------------------------------------------------------------+\n",
      "| Gender(1) | Married(1) | Education(0) | Self_Employed(1) | Property_Area(2) | Credit_History(1) | Loan_Status(0) |                                                                      572091361920.0000 |\n",
      "+-----------+------------+--------------+------------------+------------------+-------------------+----------------+----------------------------------------------------------------------------------------+\n",
      "| Gender(1) | Married(1) | Education(0) | Self_Employed(1) | Property_Area(2) | Credit_History(1) | Loan_Status(1) |                                                                    14922049690080.0000 |\n",
      "+-----------+------------+--------------+------------------+------------------+-------------------+----------------+----------------------------------------------------------------------------------------+\n",
      "| Gender(1) | Married(1) | Education(1) | Self_Employed(0) | Property_Area(0) | Credit_History(0) | Loan_Status(0) |                                                                     1032344544000.0000 |\n",
      "+-----------+------------+--------------+------------------+------------------+-------------------+----------------+----------------------------------------------------------------------------------------+\n",
      "| Gender(1) | Married(1) | Education(1) | Self_Employed(0) | Property_Area(0) | Credit_History(0) | Loan_Status(1) |                                                                      589911168000.0000 |\n",
      "+-----------+------------+--------------+------------------+------------------+-------------------+----------------+----------------------------------------------------------------------------------------+\n",
      "| Gender(1) | Married(1) | Education(1) | Self_Employed(0) | Property_Area(0) | Credit_History(1) | Loan_Status(0) |                                                                       84062341440.0000 |\n",
      "+-----------+------------+--------------+------------------+------------------+-------------------+----------------+----------------------------------------------------------------------------------------+\n",
      "| Gender(1) | Married(1) | Education(1) | Self_Employed(0) | Property_Area(0) | Credit_History(1) | Loan_Status(1) |                                                                     2192626072560.0000 |\n",
      "+-----------+------------+--------------+------------------+------------------+-------------------+----------------+----------------------------------------------------------------------------------------+\n",
      "| Gender(1) | Married(1) | Education(1) | Self_Employed(0) | Property_Area(1) | Credit_History(0) | Loan_Status(0) |                                                                     1999434354750.0000 |\n",
      "+-----------+------------+--------------+------------------+------------------+-------------------+----------------+----------------------------------------------------------------------------------------+\n",
      "| Gender(1) | Married(1) | Education(1) | Self_Employed(0) | Property_Area(1) | Credit_History(0) | Loan_Status(1) |                                                                     1142533917000.0000 |\n",
      "+-----------+------------+--------------+------------------+------------------+-------------------+----------------+----------------------------------------------------------------------------------------+\n",
      "| Gender(1) | Married(1) | Education(1) | Self_Employed(0) | Property_Area(1) | Credit_History(1) | Loan_Status(0) |                                                                      171040721040.0000 |\n",
      "+-----------+------------+--------------+------------------+------------------+-------------------+----------------+----------------------------------------------------------------------------------------+\n",
      "| Gender(1) | Married(1) | Education(1) | Self_Employed(0) | Property_Area(1) | Credit_History(1) | Loan_Status(1) |                                                                     4461312140460.0000 |\n",
      "+-----------+------------+--------------+------------------+------------------+-------------------+----------------+----------------------------------------------------------------------------------------+\n",
      "| Gender(1) | Married(1) | Education(1) | Self_Employed(0) | Property_Area(2) | Credit_History(0) | Loan_Status(0) |                                                                     1488687757200.0000 |\n",
      "+-----------+------------+--------------+------------------+------------------+-------------------+----------------+----------------------------------------------------------------------------------------+\n",
      "| Gender(1) | Married(1) | Education(1) | Self_Employed(0) | Property_Area(2) | Credit_History(0) | Loan_Status(1) |                                                                      850678718400.0000 |\n",
      "+-----------+------------+--------------+------------------+------------------+-------------------+----------------+----------------------------------------------------------------------------------------+\n",
      "| Gender(1) | Married(1) | Education(1) | Self_Employed(0) | Property_Area(2) | Credit_History(1) | Loan_Status(0) |                                                                      112941174528.0000 |\n",
      "+-----------+------------+--------------+------------------+------------------+-------------------+----------------+----------------------------------------------------------------------------------------+\n",
      "| Gender(1) | Married(1) | Education(1) | Self_Employed(0) | Property_Area(2) | Credit_History(1) | Loan_Status(1) |                                                                     2945882302272.0000 |\n",
      "+-----------+------------+--------------+------------------+------------------+-------------------+----------------+----------------------------------------------------------------------------------------+\n",
      "| Gender(1) | Married(1) | Education(1) | Self_Employed(1) | Property_Area(0) | Credit_History(0) | Loan_Status(0) |                                                                     5248868688000.0000 |\n",
      "+-----------+------------+--------------+------------------+------------------+-------------------+----------------+----------------------------------------------------------------------------------------+\n",
      "| Gender(1) | Married(1) | Education(1) | Self_Employed(1) | Property_Area(0) | Credit_History(0) | Loan_Status(1) |                                                                     2999353536000.0000 |\n",
      "+-----------+------------+--------------+------------------+------------------+-------------------+----------------+----------------------------------------------------------------------------------------+\n",
      "| Gender(1) | Married(1) | Education(1) | Self_Employed(1) | Property_Area(0) | Credit_History(1) | Loan_Status(0) |                                                                      427407878880.0000 |\n",
      "+-----------+------------+--------------+------------------+------------------+-------------------+----------------+----------------------------------------------------------------------------------------+\n",
      "| Gender(1) | Married(1) | Education(1) | Self_Employed(1) | Property_Area(0) | Credit_History(1) | Loan_Status(1) |                                                                    11148222174120.0000 |\n",
      "+-----------+------------+--------------+------------------+------------------+-------------------+----------------+----------------------------------------------------------------------------------------+\n",
      "| Gender(1) | Married(1) | Education(1) | Self_Employed(1) | Property_Area(1) | Credit_History(0) | Loan_Status(0) |                                                                     7007541357600.0000 |\n",
      "+-----------+------------+--------------+------------------+------------------+-------------------+----------------+----------------------------------------------------------------------------------------+\n",
      "| Gender(1) | Married(1) | Education(1) | Self_Employed(1) | Property_Area(1) | Credit_History(0) | Loan_Status(1) |                                                                     4004309347200.0000 |\n",
      "+-----------+------------+--------------+------------------+------------------+-------------------+----------------+----------------------------------------------------------------------------------------+\n",
      "| Gender(1) | Married(1) | Education(1) | Self_Employed(1) | Property_Area(1) | Credit_History(1) | Loan_Status(0) |                                                                      599457003264.0000 |\n",
      "+-----------+------------+--------------+------------------+------------------+-------------------+----------------+----------------------------------------------------------------------------------------+\n",
      "| Gender(1) | Married(1) | Education(1) | Self_Employed(1) | Property_Area(1) | Credit_History(1) | Loan_Status(1) |                                                                    15635836835136.0000 |\n",
      "+-----------+------------+--------------+------------------+------------------+-------------------+----------------+----------------------------------------------------------------------------------------+\n",
      "| Gender(1) | Married(1) | Education(1) | Self_Employed(1) | Property_Area(2) | Credit_History(0) | Loan_Status(0) |                                                                     6380090388000.0000 |\n",
      "+-----------+------------+--------------+------------------+------------------+-------------------+----------------+----------------------------------------------------------------------------------------+\n",
      "| Gender(1) | Married(1) | Education(1) | Self_Employed(1) | Property_Area(2) | Credit_History(0) | Loan_Status(1) |                                                                     3645765936000.0000 |\n",
      "+-----------+------------+--------------+------------------+------------------+-------------------+----------------+----------------------------------------------------------------------------------------+\n",
      "| Gender(1) | Married(1) | Education(1) | Self_Employed(1) | Property_Area(2) | Credit_History(1) | Loan_Status(0) |                                                                      484033605120.0000 |\n",
      "+-----------+------------+--------------+------------------+------------------+-------------------+----------------+----------------------------------------------------------------------------------------+\n",
      "| Gender(1) | Married(1) | Education(1) | Self_Employed(1) | Property_Area(2) | Credit_History(1) | Loan_Status(1) |                                                                    12625209866880.0000 |\n",
      "+-----------+------------+--------------+------------------+------------------+-------------------+----------------+----------------------------------------------------------------------------------------+\n"
     ]
    }
   ],
   "source": [
    "P=factor1*factor2*factor3*factor4*factor5*factor6\n",
    "print(P)"
   ]
  },
  {
   "cell_type": "code",
   "execution_count": 99,
   "metadata": {},
   "outputs": [
    {
     "name": "stdout",
     "output_type": "stream",
     "text": [
      "+-----------+------------+--------------+------------------+------------------+-------------------+----------------+----------------------------------------------------------------------------------------+\n",
      "| Gender    | Married    | Education    | Self_Employed    | Property_Area    | Credit_History    | Loan_Status    |   phi(Gender,Married,Education,Self_Employed,Property_Area,Credit_History,Loan_Status) |\n",
      "+===========+============+==============+==================+==================+===================+================+========================================================================================+\n",
      "| Gender(0) | Married(0) | Education(0) | Self_Employed(0) | Property_Area(0) | Credit_History(0) | Loan_Status(0) |                                                                                 0.0000 |\n",
      "+-----------+------------+--------------+------------------+------------------+-------------------+----------------+----------------------------------------------------------------------------------------+\n",
      "| Gender(0) | Married(0) | Education(0) | Self_Employed(0) | Property_Area(0) | Credit_History(0) | Loan_Status(1) |                                                                                 0.0000 |\n",
      "+-----------+------------+--------------+------------------+------------------+-------------------+----------------+----------------------------------------------------------------------------------------+\n",
      "| Gender(0) | Married(0) | Education(0) | Self_Employed(0) | Property_Area(0) | Credit_History(1) | Loan_Status(0) |                                                                                 0.0000 |\n",
      "+-----------+------------+--------------+------------------+------------------+-------------------+----------------+----------------------------------------------------------------------------------------+\n",
      "| Gender(0) | Married(0) | Education(0) | Self_Employed(0) | Property_Area(0) | Credit_History(1) | Loan_Status(1) |                                                                                 0.0000 |\n",
      "+-----------+------------+--------------+------------------+------------------+-------------------+----------------+----------------------------------------------------------------------------------------+\n",
      "| Gender(0) | Married(0) | Education(0) | Self_Employed(0) | Property_Area(1) | Credit_History(0) | Loan_Status(0) |                                                                                 0.0000 |\n",
      "+-----------+------------+--------------+------------------+------------------+-------------------+----------------+----------------------------------------------------------------------------------------+\n",
      "| Gender(0) | Married(0) | Education(0) | Self_Employed(0) | Property_Area(1) | Credit_History(0) | Loan_Status(1) |                                                                                 0.0000 |\n",
      "+-----------+------------+--------------+------------------+------------------+-------------------+----------------+----------------------------------------------------------------------------------------+\n",
      "| Gender(0) | Married(0) | Education(0) | Self_Employed(0) | Property_Area(1) | Credit_History(1) | Loan_Status(0) |                                                                                 0.0000 |\n",
      "+-----------+------------+--------------+------------------+------------------+-------------------+----------------+----------------------------------------------------------------------------------------+\n",
      "| Gender(0) | Married(0) | Education(0) | Self_Employed(0) | Property_Area(1) | Credit_History(1) | Loan_Status(1) |                                                                                 0.0000 |\n",
      "+-----------+------------+--------------+------------------+------------------+-------------------+----------------+----------------------------------------------------------------------------------------+\n",
      "| Gender(0) | Married(0) | Education(0) | Self_Employed(0) | Property_Area(2) | Credit_History(0) | Loan_Status(0) |                                                                                 0.0000 |\n",
      "+-----------+------------+--------------+------------------+------------------+-------------------+----------------+----------------------------------------------------------------------------------------+\n",
      "| Gender(0) | Married(0) | Education(0) | Self_Employed(0) | Property_Area(2) | Credit_History(0) | Loan_Status(1) |                                                                                 0.0000 |\n",
      "+-----------+------------+--------------+------------------+------------------+-------------------+----------------+----------------------------------------------------------------------------------------+\n",
      "| Gender(0) | Married(0) | Education(0) | Self_Employed(0) | Property_Area(2) | Credit_History(1) | Loan_Status(0) |                                                                                 0.0000 |\n",
      "+-----------+------------+--------------+------------------+------------------+-------------------+----------------+----------------------------------------------------------------------------------------+\n",
      "| Gender(0) | Married(0) | Education(0) | Self_Employed(0) | Property_Area(2) | Credit_History(1) | Loan_Status(1) |                                                                                 0.0000 |\n",
      "+-----------+------------+--------------+------------------+------------------+-------------------+----------------+----------------------------------------------------------------------------------------+\n",
      "| Gender(0) | Married(0) | Education(0) | Self_Employed(1) | Property_Area(0) | Credit_History(0) | Loan_Status(0) |                                                                                 0.0000 |\n",
      "+-----------+------------+--------------+------------------+------------------+-------------------+----------------+----------------------------------------------------------------------------------------+\n",
      "| Gender(0) | Married(0) | Education(0) | Self_Employed(1) | Property_Area(0) | Credit_History(0) | Loan_Status(1) |                                                                                 0.0000 |\n",
      "+-----------+------------+--------------+------------------+------------------+-------------------+----------------+----------------------------------------------------------------------------------------+\n",
      "| Gender(0) | Married(0) | Education(0) | Self_Employed(1) | Property_Area(0) | Credit_History(1) | Loan_Status(0) |                                                                                 0.0000 |\n",
      "+-----------+------------+--------------+------------------+------------------+-------------------+----------------+----------------------------------------------------------------------------------------+\n",
      "| Gender(0) | Married(0) | Education(0) | Self_Employed(1) | Property_Area(0) | Credit_History(1) | Loan_Status(1) |                                                                                 0.0000 |\n",
      "+-----------+------------+--------------+------------------+------------------+-------------------+----------------+----------------------------------------------------------------------------------------+\n",
      "| Gender(0) | Married(0) | Education(0) | Self_Employed(1) | Property_Area(1) | Credit_History(0) | Loan_Status(0) |                                                                                 0.0000 |\n",
      "+-----------+------------+--------------+------------------+------------------+-------------------+----------------+----------------------------------------------------------------------------------------+\n",
      "| Gender(0) | Married(0) | Education(0) | Self_Employed(1) | Property_Area(1) | Credit_History(0) | Loan_Status(1) |                                                                                 0.0000 |\n",
      "+-----------+------------+--------------+------------------+------------------+-------------------+----------------+----------------------------------------------------------------------------------------+\n",
      "| Gender(0) | Married(0) | Education(0) | Self_Employed(1) | Property_Area(1) | Credit_History(1) | Loan_Status(0) |                                                                                 0.0000 |\n",
      "+-----------+------------+--------------+------------------+------------------+-------------------+----------------+----------------------------------------------------------------------------------------+\n",
      "| Gender(0) | Married(0) | Education(0) | Self_Employed(1) | Property_Area(1) | Credit_History(1) | Loan_Status(1) |                                                                                 0.0000 |\n",
      "+-----------+------------+--------------+------------------+------------------+-------------------+----------------+----------------------------------------------------------------------------------------+\n",
      "| Gender(0) | Married(0) | Education(0) | Self_Employed(1) | Property_Area(2) | Credit_History(0) | Loan_Status(0) |                                                                                 0.0000 |\n",
      "+-----------+------------+--------------+------------------+------------------+-------------------+----------------+----------------------------------------------------------------------------------------+\n",
      "| Gender(0) | Married(0) | Education(0) | Self_Employed(1) | Property_Area(2) | Credit_History(0) | Loan_Status(1) |                                                                                 0.0000 |\n",
      "+-----------+------------+--------------+------------------+------------------+-------------------+----------------+----------------------------------------------------------------------------------------+\n",
      "| Gender(0) | Married(0) | Education(0) | Self_Employed(1) | Property_Area(2) | Credit_History(1) | Loan_Status(0) |                                                                                 0.0000 |\n",
      "+-----------+------------+--------------+------------------+------------------+-------------------+----------------+----------------------------------------------------------------------------------------+\n",
      "| Gender(0) | Married(0) | Education(0) | Self_Employed(1) | Property_Area(2) | Credit_History(1) | Loan_Status(1) |                                                                                 0.0000 |\n",
      "+-----------+------------+--------------+------------------+------------------+-------------------+----------------+----------------------------------------------------------------------------------------+\n",
      "| Gender(0) | Married(0) | Education(1) | Self_Employed(0) | Property_Area(0) | Credit_History(0) | Loan_Status(0) |                                                                                 0.0006 |\n",
      "+-----------+------------+--------------+------------------+------------------+-------------------+----------------+----------------------------------------------------------------------------------------+\n",
      "| Gender(0) | Married(0) | Education(1) | Self_Employed(0) | Property_Area(0) | Credit_History(0) | Loan_Status(1) |                                                                                 0.0003 |\n",
      "+-----------+------------+--------------+------------------+------------------+-------------------+----------------+----------------------------------------------------------------------------------------+\n",
      "| Gender(0) | Married(0) | Education(1) | Self_Employed(0) | Property_Area(0) | Credit_History(1) | Loan_Status(0) |                                                                                 0.0000 |\n",
      "+-----------+------------+--------------+------------------+------------------+-------------------+----------------+----------------------------------------------------------------------------------------+\n",
      "| Gender(0) | Married(0) | Education(1) | Self_Employed(0) | Property_Area(0) | Credit_History(1) | Loan_Status(1) |                                                                                 0.0013 |\n",
      "+-----------+------------+--------------+------------------+------------------+-------------------+----------------+----------------------------------------------------------------------------------------+\n",
      "| Gender(0) | Married(0) | Education(1) | Self_Employed(0) | Property_Area(1) | Credit_History(0) | Loan_Status(0) |                                                                                 0.0012 |\n",
      "+-----------+------------+--------------+------------------+------------------+-------------------+----------------+----------------------------------------------------------------------------------------+\n",
      "| Gender(0) | Married(0) | Education(1) | Self_Employed(0) | Property_Area(1) | Credit_History(0) | Loan_Status(1) |                                                                                 0.0007 |\n",
      "+-----------+------------+--------------+------------------+------------------+-------------------+----------------+----------------------------------------------------------------------------------------+\n",
      "| Gender(0) | Married(0) | Education(1) | Self_Employed(0) | Property_Area(1) | Credit_History(1) | Loan_Status(0) |                                                                                 0.0001 |\n",
      "+-----------+------------+--------------+------------------+------------------+-------------------+----------------+----------------------------------------------------------------------------------------+\n",
      "| Gender(0) | Married(0) | Education(1) | Self_Employed(0) | Property_Area(1) | Credit_History(1) | Loan_Status(1) |                                                                                 0.0026 |\n",
      "+-----------+------------+--------------+------------------+------------------+-------------------+----------------+----------------------------------------------------------------------------------------+\n",
      "| Gender(0) | Married(0) | Education(1) | Self_Employed(0) | Property_Area(2) | Credit_History(0) | Loan_Status(0) |                                                                                 0.0009 |\n",
      "+-----------+------------+--------------+------------------+------------------+-------------------+----------------+----------------------------------------------------------------------------------------+\n",
      "| Gender(0) | Married(0) | Education(1) | Self_Employed(0) | Property_Area(2) | Credit_History(0) | Loan_Status(1) |                                                                                 0.0005 |\n",
      "+-----------+------------+--------------+------------------+------------------+-------------------+----------------+----------------------------------------------------------------------------------------+\n",
      "| Gender(0) | Married(0) | Education(1) | Self_Employed(0) | Property_Area(2) | Credit_History(1) | Loan_Status(0) |                                                                                 0.0001 |\n",
      "+-----------+------------+--------------+------------------+------------------+-------------------+----------------+----------------------------------------------------------------------------------------+\n",
      "| Gender(0) | Married(0) | Education(1) | Self_Employed(0) | Property_Area(2) | Credit_History(1) | Loan_Status(1) |                                                                                 0.0017 |\n",
      "+-----------+------------+--------------+------------------+------------------+-------------------+----------------+----------------------------------------------------------------------------------------+\n",
      "| Gender(0) | Married(0) | Education(1) | Self_Employed(1) | Property_Area(0) | Credit_History(0) | Loan_Status(0) |                                                                                 0.0031 |\n",
      "+-----------+------------+--------------+------------------+------------------+-------------------+----------------+----------------------------------------------------------------------------------------+\n",
      "| Gender(0) | Married(0) | Education(1) | Self_Employed(1) | Property_Area(0) | Credit_History(0) | Loan_Status(1) |                                                                                 0.0018 |\n",
      "+-----------+------------+--------------+------------------+------------------+-------------------+----------------+----------------------------------------------------------------------------------------+\n",
      "| Gender(0) | Married(0) | Education(1) | Self_Employed(1) | Property_Area(0) | Credit_History(1) | Loan_Status(0) |                                                                                 0.0003 |\n",
      "+-----------+------------+--------------+------------------+------------------+-------------------+----------------+----------------------------------------------------------------------------------------+\n",
      "| Gender(0) | Married(0) | Education(1) | Self_Employed(1) | Property_Area(0) | Credit_History(1) | Loan_Status(1) |                                                                                 0.0066 |\n",
      "+-----------+------------+--------------+------------------+------------------+-------------------+----------------+----------------------------------------------------------------------------------------+\n",
      "| Gender(0) | Married(0) | Education(1) | Self_Employed(1) | Property_Area(1) | Credit_History(0) | Loan_Status(0) |                                                                                 0.0041 |\n",
      "+-----------+------------+--------------+------------------+------------------+-------------------+----------------+----------------------------------------------------------------------------------------+\n",
      "| Gender(0) | Married(0) | Education(1) | Self_Employed(1) | Property_Area(1) | Credit_History(0) | Loan_Status(1) |                                                                                 0.0024 |\n",
      "+-----------+------------+--------------+------------------+------------------+-------------------+----------------+----------------------------------------------------------------------------------------+\n",
      "| Gender(0) | Married(0) | Education(1) | Self_Employed(1) | Property_Area(1) | Credit_History(1) | Loan_Status(0) |                                                                                 0.0004 |\n",
      "+-----------+------------+--------------+------------------+------------------+-------------------+----------------+----------------------------------------------------------------------------------------+\n",
      "| Gender(0) | Married(0) | Education(1) | Self_Employed(1) | Property_Area(1) | Credit_History(1) | Loan_Status(1) |                                                                                 0.0093 |\n",
      "+-----------+------------+--------------+------------------+------------------+-------------------+----------------+----------------------------------------------------------------------------------------+\n",
      "| Gender(0) | Married(0) | Education(1) | Self_Employed(1) | Property_Area(2) | Credit_History(0) | Loan_Status(0) |                                                                                 0.0038 |\n",
      "+-----------+------------+--------------+------------------+------------------+-------------------+----------------+----------------------------------------------------------------------------------------+\n",
      "| Gender(0) | Married(0) | Education(1) | Self_Employed(1) | Property_Area(2) | Credit_History(0) | Loan_Status(1) |                                                                                 0.0022 |\n",
      "+-----------+------------+--------------+------------------+------------------+-------------------+----------------+----------------------------------------------------------------------------------------+\n",
      "| Gender(0) | Married(0) | Education(1) | Self_Employed(1) | Property_Area(2) | Credit_History(1) | Loan_Status(0) |                                                                                 0.0003 |\n",
      "+-----------+------------+--------------+------------------+------------------+-------------------+----------------+----------------------------------------------------------------------------------------+\n",
      "| Gender(0) | Married(0) | Education(1) | Self_Employed(1) | Property_Area(2) | Credit_History(1) | Loan_Status(1) |                                                                                 0.0075 |\n",
      "+-----------+------------+--------------+------------------+------------------+-------------------+----------------+----------------------------------------------------------------------------------------+\n",
      "| Gender(0) | Married(1) | Education(0) | Self_Employed(0) | Property_Area(0) | Credit_History(0) | Loan_Status(0) |                                                                                 0.0130 |\n",
      "+-----------+------------+--------------+------------------+------------------+-------------------+----------------+----------------------------------------------------------------------------------------+\n",
      "| Gender(0) | Married(1) | Education(0) | Self_Employed(0) | Property_Area(0) | Credit_History(0) | Loan_Status(1) |                                                                                 0.0074 |\n",
      "+-----------+------------+--------------+------------------+------------------+-------------------+----------------+----------------------------------------------------------------------------------------+\n",
      "| Gender(0) | Married(1) | Education(0) | Self_Employed(0) | Property_Area(0) | Credit_History(1) | Loan_Status(0) |                                                                                 0.0011 |\n",
      "+-----------+------------+--------------+------------------+------------------+-------------------+----------------+----------------------------------------------------------------------------------------+\n",
      "| Gender(0) | Married(1) | Education(0) | Self_Employed(0) | Property_Area(0) | Credit_History(1) | Loan_Status(1) |                                                                                 0.0276 |\n",
      "+-----------+------------+--------------+------------------+------------------+-------------------+----------------+----------------------------------------------------------------------------------------+\n",
      "| Gender(0) | Married(1) | Education(0) | Self_Employed(0) | Property_Area(1) | Credit_History(0) | Loan_Status(0) |                                                                                 0.0252 |\n",
      "+-----------+------------+--------------+------------------+------------------+-------------------+----------------+----------------------------------------------------------------------------------------+\n",
      "| Gender(0) | Married(1) | Education(0) | Self_Employed(0) | Property_Area(1) | Credit_History(0) | Loan_Status(1) |                                                                                 0.0144 |\n",
      "+-----------+------------+--------------+------------------+------------------+-------------------+----------------+----------------------------------------------------------------------------------------+\n",
      "| Gender(0) | Married(1) | Education(0) | Self_Employed(0) | Property_Area(1) | Credit_History(1) | Loan_Status(0) |                                                                                 0.0022 |\n",
      "+-----------+------------+--------------+------------------+------------------+-------------------+----------------+----------------------------------------------------------------------------------------+\n",
      "| Gender(0) | Married(1) | Education(0) | Self_Employed(0) | Property_Area(1) | Credit_History(1) | Loan_Status(1) |                                                                                 0.0563 |\n",
      "+-----------+------------+--------------+------------------+------------------+-------------------+----------------+----------------------------------------------------------------------------------------+\n",
      "| Gender(0) | Married(1) | Education(0) | Self_Employed(0) | Property_Area(2) | Credit_History(0) | Loan_Status(0) |                                                                                 0.0188 |\n",
      "+-----------+------------+--------------+------------------+------------------+-------------------+----------------+----------------------------------------------------------------------------------------+\n",
      "| Gender(0) | Married(1) | Education(0) | Self_Employed(0) | Property_Area(2) | Credit_History(0) | Loan_Status(1) |                                                                                 0.0107 |\n",
      "+-----------+------------+--------------+------------------+------------------+-------------------+----------------+----------------------------------------------------------------------------------------+\n",
      "| Gender(0) | Married(1) | Education(0) | Self_Employed(0) | Property_Area(2) | Credit_History(1) | Loan_Status(0) |                                                                                 0.0014 |\n",
      "+-----------+------------+--------------+------------------+------------------+-------------------+----------------+----------------------------------------------------------------------------------------+\n",
      "| Gender(0) | Married(1) | Education(0) | Self_Employed(0) | Property_Area(2) | Credit_History(1) | Loan_Status(1) |                                                                                 0.0371 |\n",
      "+-----------+------------+--------------+------------------+------------------+-------------------+----------------+----------------------------------------------------------------------------------------+\n",
      "| Gender(0) | Married(1) | Education(0) | Self_Employed(1) | Property_Area(0) | Credit_History(0) | Loan_Status(0) |                                                                                 0.0024 |\n",
      "+-----------+------------+--------------+------------------+------------------+-------------------+----------------+----------------------------------------------------------------------------------------+\n",
      "| Gender(0) | Married(1) | Education(0) | Self_Employed(1) | Property_Area(0) | Credit_History(0) | Loan_Status(1) |                                                                                 0.0013 |\n",
      "+-----------+------------+--------------+------------------+------------------+-------------------+----------------+----------------------------------------------------------------------------------------+\n",
      "| Gender(0) | Married(1) | Education(0) | Self_Employed(1) | Property_Area(0) | Credit_History(1) | Loan_Status(0) |                                                                                 0.0002 |\n",
      "+-----------+------------+--------------+------------------+------------------+-------------------+----------------+----------------------------------------------------------------------------------------+\n",
      "| Gender(0) | Married(1) | Education(0) | Self_Employed(1) | Property_Area(0) | Credit_History(1) | Loan_Status(1) |                                                                                 0.0050 |\n",
      "+-----------+------------+--------------+------------------+------------------+-------------------+----------------+----------------------------------------------------------------------------------------+\n",
      "| Gender(0) | Married(1) | Education(0) | Self_Employed(1) | Property_Area(1) | Credit_History(0) | Loan_Status(0) |                                                                                 0.0032 |\n",
      "+-----------+------------+--------------+------------------+------------------+-------------------+----------------+----------------------------------------------------------------------------------------+\n",
      "| Gender(0) | Married(1) | Education(0) | Self_Employed(1) | Property_Area(1) | Credit_History(0) | Loan_Status(1) |                                                                                 0.0018 |\n",
      "+-----------+------------+--------------+------------------+------------------+-------------------+----------------+----------------------------------------------------------------------------------------+\n",
      "| Gender(0) | Married(1) | Education(0) | Self_Employed(1) | Property_Area(1) | Credit_History(1) | Loan_Status(0) |                                                                                 0.0003 |\n",
      "+-----------+------------+--------------+------------------+------------------+-------------------+----------------+----------------------------------------------------------------------------------------+\n",
      "| Gender(0) | Married(1) | Education(0) | Self_Employed(1) | Property_Area(1) | Credit_History(1) | Loan_Status(1) |                                                                                 0.0070 |\n",
      "+-----------+------------+--------------+------------------+------------------+-------------------+----------------+----------------------------------------------------------------------------------------+\n",
      "| Gender(0) | Married(1) | Education(0) | Self_Employed(1) | Property_Area(2) | Credit_History(0) | Loan_Status(0) |                                                                                 0.0029 |\n",
      "+-----------+------------+--------------+------------------+------------------+-------------------+----------------+----------------------------------------------------------------------------------------+\n",
      "| Gender(0) | Married(1) | Education(0) | Self_Employed(1) | Property_Area(2) | Credit_History(0) | Loan_Status(1) |                                                                                 0.0016 |\n",
      "+-----------+------------+--------------+------------------+------------------+-------------------+----------------+----------------------------------------------------------------------------------------+\n",
      "| Gender(0) | Married(1) | Education(0) | Self_Employed(1) | Property_Area(2) | Credit_History(1) | Loan_Status(0) |                                                                                 0.0002 |\n",
      "+-----------+------------+--------------+------------------+------------------+-------------------+----------------+----------------------------------------------------------------------------------------+\n",
      "| Gender(0) | Married(1) | Education(0) | Self_Employed(1) | Property_Area(2) | Credit_History(1) | Loan_Status(1) |                                                                                 0.0057 |\n",
      "+-----------+------------+--------------+------------------+------------------+-------------------+----------------+----------------------------------------------------------------------------------------+\n",
      "| Gender(0) | Married(1) | Education(1) | Self_Employed(0) | Property_Area(0) | Credit_History(0) | Loan_Status(0) |                                                                                 0.0004 |\n",
      "+-----------+------------+--------------+------------------+------------------+-------------------+----------------+----------------------------------------------------------------------------------------+\n",
      "| Gender(0) | Married(1) | Education(1) | Self_Employed(0) | Property_Area(0) | Credit_History(0) | Loan_Status(1) |                                                                                 0.0002 |\n",
      "+-----------+------------+--------------+------------------+------------------+-------------------+----------------+----------------------------------------------------------------------------------------+\n",
      "| Gender(0) | Married(1) | Education(1) | Self_Employed(0) | Property_Area(0) | Credit_History(1) | Loan_Status(0) |                                                                                 0.0000 |\n",
      "+-----------+------------+--------------+------------------+------------------+-------------------+----------------+----------------------------------------------------------------------------------------+\n",
      "| Gender(0) | Married(1) | Education(1) | Self_Employed(0) | Property_Area(0) | Credit_History(1) | Loan_Status(1) |                                                                                 0.0008 |\n",
      "+-----------+------------+--------------+------------------+------------------+-------------------+----------------+----------------------------------------------------------------------------------------+\n",
      "| Gender(0) | Married(1) | Education(1) | Self_Employed(0) | Property_Area(1) | Credit_History(0) | Loan_Status(0) |                                                                                 0.0008 |\n",
      "+-----------+------------+--------------+------------------+------------------+-------------------+----------------+----------------------------------------------------------------------------------------+\n",
      "| Gender(0) | Married(1) | Education(1) | Self_Employed(0) | Property_Area(1) | Credit_History(0) | Loan_Status(1) |                                                                                 0.0004 |\n",
      "+-----------+------------+--------------+------------------+------------------+-------------------+----------------+----------------------------------------------------------------------------------------+\n",
      "| Gender(0) | Married(1) | Education(1) | Self_Employed(0) | Property_Area(1) | Credit_History(1) | Loan_Status(0) |                                                                                 0.0001 |\n",
      "+-----------+------------+--------------+------------------+------------------+-------------------+----------------+----------------------------------------------------------------------------------------+\n",
      "| Gender(0) | Married(1) | Education(1) | Self_Employed(0) | Property_Area(1) | Credit_History(1) | Loan_Status(1) |                                                                                 0.0017 |\n",
      "+-----------+------------+--------------+------------------+------------------+-------------------+----------------+----------------------------------------------------------------------------------------+\n",
      "| Gender(0) | Married(1) | Education(1) | Self_Employed(0) | Property_Area(2) | Credit_History(0) | Loan_Status(0) |                                                                                 0.0006 |\n",
      "+-----------+------------+--------------+------------------+------------------+-------------------+----------------+----------------------------------------------------------------------------------------+\n",
      "| Gender(0) | Married(1) | Education(1) | Self_Employed(0) | Property_Area(2) | Credit_History(0) | Loan_Status(1) |                                                                                 0.0003 |\n",
      "+-----------+------------+--------------+------------------+------------------+-------------------+----------------+----------------------------------------------------------------------------------------+\n",
      "| Gender(0) | Married(1) | Education(1) | Self_Employed(0) | Property_Area(2) | Credit_History(1) | Loan_Status(0) |                                                                                 0.0000 |\n",
      "+-----------+------------+--------------+------------------+------------------+-------------------+----------------+----------------------------------------------------------------------------------------+\n",
      "| Gender(0) | Married(1) | Education(1) | Self_Employed(0) | Property_Area(2) | Credit_History(1) | Loan_Status(1) |                                                                                 0.0011 |\n",
      "+-----------+------------+--------------+------------------+------------------+-------------------+----------------+----------------------------------------------------------------------------------------+\n",
      "| Gender(0) | Married(1) | Education(1) | Self_Employed(1) | Property_Area(0) | Credit_History(0) | Loan_Status(0) |                                                                                 0.0020 |\n",
      "+-----------+------------+--------------+------------------+------------------+-------------------+----------------+----------------------------------------------------------------------------------------+\n",
      "| Gender(0) | Married(1) | Education(1) | Self_Employed(1) | Property_Area(0) | Credit_History(0) | Loan_Status(1) |                                                                                 0.0011 |\n",
      "+-----------+------------+--------------+------------------+------------------+-------------------+----------------+----------------------------------------------------------------------------------------+\n",
      "| Gender(0) | Married(1) | Education(1) | Self_Employed(1) | Property_Area(0) | Credit_History(1) | Loan_Status(0) |                                                                                 0.0002 |\n",
      "+-----------+------------+--------------+------------------+------------------+-------------------+----------------+----------------------------------------------------------------------------------------+\n",
      "| Gender(0) | Married(1) | Education(1) | Self_Employed(1) | Property_Area(0) | Credit_History(1) | Loan_Status(1) |                                                                                 0.0042 |\n",
      "+-----------+------------+--------------+------------------+------------------+-------------------+----------------+----------------------------------------------------------------------------------------+\n",
      "| Gender(0) | Married(1) | Education(1) | Self_Employed(1) | Property_Area(1) | Credit_History(0) | Loan_Status(0) |                                                                                 0.0027 |\n",
      "+-----------+------------+--------------+------------------+------------------+-------------------+----------------+----------------------------------------------------------------------------------------+\n",
      "| Gender(0) | Married(1) | Education(1) | Self_Employed(1) | Property_Area(1) | Credit_History(0) | Loan_Status(1) |                                                                                 0.0015 |\n",
      "+-----------+------------+--------------+------------------+------------------+-------------------+----------------+----------------------------------------------------------------------------------------+\n",
      "| Gender(0) | Married(1) | Education(1) | Self_Employed(1) | Property_Area(1) | Credit_History(1) | Loan_Status(0) |                                                                                 0.0002 |\n",
      "+-----------+------------+--------------+------------------+------------------+-------------------+----------------+----------------------------------------------------------------------------------------+\n",
      "| Gender(0) | Married(1) | Education(1) | Self_Employed(1) | Property_Area(1) | Credit_History(1) | Loan_Status(1) |                                                                                 0.0059 |\n",
      "+-----------+------------+--------------+------------------+------------------+-------------------+----------------+----------------------------------------------------------------------------------------+\n",
      "| Gender(0) | Married(1) | Education(1) | Self_Employed(1) | Property_Area(2) | Credit_History(0) | Loan_Status(0) |                                                                                 0.0024 |\n",
      "+-----------+------------+--------------+------------------+------------------+-------------------+----------------+----------------------------------------------------------------------------------------+\n",
      "| Gender(0) | Married(1) | Education(1) | Self_Employed(1) | Property_Area(2) | Credit_History(0) | Loan_Status(1) |                                                                                 0.0014 |\n",
      "+-----------+------------+--------------+------------------+------------------+-------------------+----------------+----------------------------------------------------------------------------------------+\n",
      "| Gender(0) | Married(1) | Education(1) | Self_Employed(1) | Property_Area(2) | Credit_History(1) | Loan_Status(0) |                                                                                 0.0002 |\n",
      "+-----------+------------+--------------+------------------+------------------+-------------------+----------------+----------------------------------------------------------------------------------------+\n",
      "| Gender(0) | Married(1) | Education(1) | Self_Employed(1) | Property_Area(2) | Credit_History(1) | Loan_Status(1) |                                                                                 0.0048 |\n",
      "+-----------+------------+--------------+------------------+------------------+-------------------+----------------+----------------------------------------------------------------------------------------+\n",
      "| Gender(1) | Married(0) | Education(0) | Self_Employed(0) | Property_Area(0) | Credit_History(0) | Loan_Status(0) |                                                                                 0.0000 |\n",
      "+-----------+------------+--------------+------------------+------------------+-------------------+----------------+----------------------------------------------------------------------------------------+\n",
      "| Gender(1) | Married(0) | Education(0) | Self_Employed(0) | Property_Area(0) | Credit_History(0) | Loan_Status(1) |                                                                                 0.0000 |\n",
      "+-----------+------------+--------------+------------------+------------------+-------------------+----------------+----------------------------------------------------------------------------------------+\n",
      "| Gender(1) | Married(0) | Education(0) | Self_Employed(0) | Property_Area(0) | Credit_History(1) | Loan_Status(0) |                                                                                 0.0000 |\n",
      "+-----------+------------+--------------+------------------+------------------+-------------------+----------------+----------------------------------------------------------------------------------------+\n",
      "| Gender(1) | Married(0) | Education(0) | Self_Employed(0) | Property_Area(0) | Credit_History(1) | Loan_Status(1) |                                                                                 0.0000 |\n",
      "+-----------+------------+--------------+------------------+------------------+-------------------+----------------+----------------------------------------------------------------------------------------+\n",
      "| Gender(1) | Married(0) | Education(0) | Self_Employed(0) | Property_Area(1) | Credit_History(0) | Loan_Status(0) |                                                                                 0.0000 |\n",
      "+-----------+------------+--------------+------------------+------------------+-------------------+----------------+----------------------------------------------------------------------------------------+\n",
      "| Gender(1) | Married(0) | Education(0) | Self_Employed(0) | Property_Area(1) | Credit_History(0) | Loan_Status(1) |                                                                                 0.0000 |\n",
      "+-----------+------------+--------------+------------------+------------------+-------------------+----------------+----------------------------------------------------------------------------------------+\n",
      "| Gender(1) | Married(0) | Education(0) | Self_Employed(0) | Property_Area(1) | Credit_History(1) | Loan_Status(0) |                                                                                 0.0000 |\n",
      "+-----------+------------+--------------+------------------+------------------+-------------------+----------------+----------------------------------------------------------------------------------------+\n",
      "| Gender(1) | Married(0) | Education(0) | Self_Employed(0) | Property_Area(1) | Credit_History(1) | Loan_Status(1) |                                                                                 0.0000 |\n",
      "+-----------+------------+--------------+------------------+------------------+-------------------+----------------+----------------------------------------------------------------------------------------+\n",
      "| Gender(1) | Married(0) | Education(0) | Self_Employed(0) | Property_Area(2) | Credit_History(0) | Loan_Status(0) |                                                                                 0.0000 |\n",
      "+-----------+------------+--------------+------------------+------------------+-------------------+----------------+----------------------------------------------------------------------------------------+\n",
      "| Gender(1) | Married(0) | Education(0) | Self_Employed(0) | Property_Area(2) | Credit_History(0) | Loan_Status(1) |                                                                                 0.0000 |\n",
      "+-----------+------------+--------------+------------------+------------------+-------------------+----------------+----------------------------------------------------------------------------------------+\n",
      "| Gender(1) | Married(0) | Education(0) | Self_Employed(0) | Property_Area(2) | Credit_History(1) | Loan_Status(0) |                                                                                 0.0000 |\n",
      "+-----------+------------+--------------+------------------+------------------+-------------------+----------------+----------------------------------------------------------------------------------------+\n",
      "| Gender(1) | Married(0) | Education(0) | Self_Employed(0) | Property_Area(2) | Credit_History(1) | Loan_Status(1) |                                                                                 0.0000 |\n",
      "+-----------+------------+--------------+------------------+------------------+-------------------+----------------+----------------------------------------------------------------------------------------+\n",
      "| Gender(1) | Married(0) | Education(0) | Self_Employed(1) | Property_Area(0) | Credit_History(0) | Loan_Status(0) |                                                                                 0.0000 |\n",
      "+-----------+------------+--------------+------------------+------------------+-------------------+----------------+----------------------------------------------------------------------------------------+\n",
      "| Gender(1) | Married(0) | Education(0) | Self_Employed(1) | Property_Area(0) | Credit_History(0) | Loan_Status(1) |                                                                                 0.0000 |\n",
      "+-----------+------------+--------------+------------------+------------------+-------------------+----------------+----------------------------------------------------------------------------------------+\n",
      "| Gender(1) | Married(0) | Education(0) | Self_Employed(1) | Property_Area(0) | Credit_History(1) | Loan_Status(0) |                                                                                 0.0000 |\n",
      "+-----------+------------+--------------+------------------+------------------+-------------------+----------------+----------------------------------------------------------------------------------------+\n",
      "| Gender(1) | Married(0) | Education(0) | Self_Employed(1) | Property_Area(0) | Credit_History(1) | Loan_Status(1) |                                                                                 0.0000 |\n",
      "+-----------+------------+--------------+------------------+------------------+-------------------+----------------+----------------------------------------------------------------------------------------+\n",
      "| Gender(1) | Married(0) | Education(0) | Self_Employed(1) | Property_Area(1) | Credit_History(0) | Loan_Status(0) |                                                                                 0.0000 |\n",
      "+-----------+------------+--------------+------------------+------------------+-------------------+----------------+----------------------------------------------------------------------------------------+\n",
      "| Gender(1) | Married(0) | Education(0) | Self_Employed(1) | Property_Area(1) | Credit_History(0) | Loan_Status(1) |                                                                                 0.0000 |\n",
      "+-----------+------------+--------------+------------------+------------------+-------------------+----------------+----------------------------------------------------------------------------------------+\n",
      "| Gender(1) | Married(0) | Education(0) | Self_Employed(1) | Property_Area(1) | Credit_History(1) | Loan_Status(0) |                                                                                 0.0000 |\n",
      "+-----------+------------+--------------+------------------+------------------+-------------------+----------------+----------------------------------------------------------------------------------------+\n",
      "| Gender(1) | Married(0) | Education(0) | Self_Employed(1) | Property_Area(1) | Credit_History(1) | Loan_Status(1) |                                                                                 0.0000 |\n",
      "+-----------+------------+--------------+------------------+------------------+-------------------+----------------+----------------------------------------------------------------------------------------+\n",
      "| Gender(1) | Married(0) | Education(0) | Self_Employed(1) | Property_Area(2) | Credit_History(0) | Loan_Status(0) |                                                                                 0.0000 |\n",
      "+-----------+------------+--------------+------------------+------------------+-------------------+----------------+----------------------------------------------------------------------------------------+\n",
      "| Gender(1) | Married(0) | Education(0) | Self_Employed(1) | Property_Area(2) | Credit_History(0) | Loan_Status(1) |                                                                                 0.0000 |\n",
      "+-----------+------------+--------------+------------------+------------------+-------------------+----------------+----------------------------------------------------------------------------------------+\n",
      "| Gender(1) | Married(0) | Education(0) | Self_Employed(1) | Property_Area(2) | Credit_History(1) | Loan_Status(0) |                                                                                 0.0000 |\n",
      "+-----------+------------+--------------+------------------+------------------+-------------------+----------------+----------------------------------------------------------------------------------------+\n",
      "| Gender(1) | Married(0) | Education(0) | Self_Employed(1) | Property_Area(2) | Credit_History(1) | Loan_Status(1) |                                                                                 0.0000 |\n",
      "+-----------+------------+--------------+------------------+------------------+-------------------+----------------+----------------------------------------------------------------------------------------+\n",
      "| Gender(1) | Married(0) | Education(1) | Self_Employed(0) | Property_Area(0) | Credit_History(0) | Loan_Status(0) |                                                                                 0.0009 |\n",
      "+-----------+------------+--------------+------------------+------------------+-------------------+----------------+----------------------------------------------------------------------------------------+\n",
      "| Gender(1) | Married(0) | Education(1) | Self_Employed(0) | Property_Area(0) | Credit_History(0) | Loan_Status(1) |                                                                                 0.0005 |\n",
      "+-----------+------------+--------------+------------------+------------------+-------------------+----------------+----------------------------------------------------------------------------------------+\n",
      "| Gender(1) | Married(0) | Education(1) | Self_Employed(0) | Property_Area(0) | Credit_History(1) | Loan_Status(0) |                                                                                 0.0001 |\n",
      "+-----------+------------+--------------+------------------+------------------+-------------------+----------------+----------------------------------------------------------------------------------------+\n",
      "| Gender(1) | Married(0) | Education(1) | Self_Employed(0) | Property_Area(0) | Credit_History(1) | Loan_Status(1) |                                                                                 0.0018 |\n",
      "+-----------+------------+--------------+------------------+------------------+-------------------+----------------+----------------------------------------------------------------------------------------+\n",
      "| Gender(1) | Married(0) | Education(1) | Self_Employed(0) | Property_Area(1) | Credit_History(0) | Loan_Status(0) |                                                                                 0.0017 |\n",
      "+-----------+------------+--------------+------------------+------------------+-------------------+----------------+----------------------------------------------------------------------------------------+\n",
      "| Gender(1) | Married(0) | Education(1) | Self_Employed(0) | Property_Area(1) | Credit_History(0) | Loan_Status(1) |                                                                                 0.0009 |\n",
      "+-----------+------------+--------------+------------------+------------------+-------------------+----------------+----------------------------------------------------------------------------------------+\n",
      "| Gender(1) | Married(0) | Education(1) | Self_Employed(0) | Property_Area(1) | Credit_History(1) | Loan_Status(0) |                                                                                 0.0001 |\n",
      "+-----------+------------+--------------+------------------+------------------+-------------------+----------------+----------------------------------------------------------------------------------------+\n",
      "| Gender(1) | Married(0) | Education(1) | Self_Employed(0) | Property_Area(1) | Credit_History(1) | Loan_Status(1) |                                                                                 0.0037 |\n",
      "+-----------+------------+--------------+------------------+------------------+-------------------+----------------+----------------------------------------------------------------------------------------+\n",
      "| Gender(1) | Married(0) | Education(1) | Self_Employed(0) | Property_Area(2) | Credit_History(0) | Loan_Status(0) |                                                                                 0.0012 |\n",
      "+-----------+------------+--------------+------------------+------------------+-------------------+----------------+----------------------------------------------------------------------------------------+\n",
      "| Gender(1) | Married(0) | Education(1) | Self_Employed(0) | Property_Area(2) | Credit_History(0) | Loan_Status(1) |                                                                                 0.0007 |\n",
      "+-----------+------------+--------------+------------------+------------------+-------------------+----------------+----------------------------------------------------------------------------------------+\n",
      "| Gender(1) | Married(0) | Education(1) | Self_Employed(0) | Property_Area(2) | Credit_History(1) | Loan_Status(0) |                                                                                 0.0001 |\n",
      "+-----------+------------+--------------+------------------+------------------+-------------------+----------------+----------------------------------------------------------------------------------------+\n",
      "| Gender(1) | Married(0) | Education(1) | Self_Employed(0) | Property_Area(2) | Credit_History(1) | Loan_Status(1) |                                                                                 0.0024 |\n",
      "+-----------+------------+--------------+------------------+------------------+-------------------+----------------+----------------------------------------------------------------------------------------+\n",
      "| Gender(1) | Married(0) | Education(1) | Self_Employed(1) | Property_Area(0) | Credit_History(0) | Loan_Status(0) |                                                                                 0.0043 |\n",
      "+-----------+------------+--------------+------------------+------------------+-------------------+----------------+----------------------------------------------------------------------------------------+\n",
      "| Gender(1) | Married(0) | Education(1) | Self_Employed(1) | Property_Area(0) | Credit_History(0) | Loan_Status(1) |                                                                                 0.0025 |\n",
      "+-----------+------------+--------------+------------------+------------------+-------------------+----------------+----------------------------------------------------------------------------------------+\n",
      "| Gender(1) | Married(0) | Education(1) | Self_Employed(1) | Property_Area(0) | Credit_History(1) | Loan_Status(0) |                                                                                 0.0004 |\n",
      "+-----------+------------+--------------+------------------+------------------+-------------------+----------------+----------------------------------------------------------------------------------------+\n",
      "| Gender(1) | Married(0) | Education(1) | Self_Employed(1) | Property_Area(0) | Credit_History(1) | Loan_Status(1) |                                                                                 0.0092 |\n",
      "+-----------+------------+--------------+------------------+------------------+-------------------+----------------+----------------------------------------------------------------------------------------+\n",
      "| Gender(1) | Married(0) | Education(1) | Self_Employed(1) | Property_Area(1) | Credit_History(0) | Loan_Status(0) |                                                                                 0.0058 |\n",
      "+-----------+------------+--------------+------------------+------------------+-------------------+----------------+----------------------------------------------------------------------------------------+\n",
      "| Gender(1) | Married(0) | Education(1) | Self_Employed(1) | Property_Area(1) | Credit_History(0) | Loan_Status(1) |                                                                                 0.0033 |\n",
      "+-----------+------------+--------------+------------------+------------------+-------------------+----------------+----------------------------------------------------------------------------------------+\n",
      "| Gender(1) | Married(0) | Education(1) | Self_Employed(1) | Property_Area(1) | Credit_History(1) | Loan_Status(0) |                                                                                 0.0005 |\n",
      "+-----------+------------+--------------+------------------+------------------+-------------------+----------------+----------------------------------------------------------------------------------------+\n",
      "| Gender(1) | Married(0) | Education(1) | Self_Employed(1) | Property_Area(1) | Credit_History(1) | Loan_Status(1) |                                                                                 0.0129 |\n",
      "+-----------+------------+--------------+------------------+------------------+-------------------+----------------+----------------------------------------------------------------------------------------+\n",
      "| Gender(1) | Married(0) | Education(1) | Self_Employed(1) | Property_Area(2) | Credit_History(0) | Loan_Status(0) |                                                                                 0.0053 |\n",
      "+-----------+------------+--------------+------------------+------------------+-------------------+----------------+----------------------------------------------------------------------------------------+\n",
      "| Gender(1) | Married(0) | Education(1) | Self_Employed(1) | Property_Area(2) | Credit_History(0) | Loan_Status(1) |                                                                                 0.0030 |\n",
      "+-----------+------------+--------------+------------------+------------------+-------------------+----------------+----------------------------------------------------------------------------------------+\n",
      "| Gender(1) | Married(0) | Education(1) | Self_Employed(1) | Property_Area(2) | Credit_History(1) | Loan_Status(0) |                                                                                 0.0004 |\n",
      "+-----------+------------+--------------+------------------+------------------+-------------------+----------------+----------------------------------------------------------------------------------------+\n",
      "| Gender(1) | Married(0) | Education(1) | Self_Employed(1) | Property_Area(2) | Credit_History(1) | Loan_Status(1) |                                                                                 0.0104 |\n",
      "+-----------+------------+--------------+------------------+------------------+-------------------+----------------+----------------------------------------------------------------------------------------+\n",
      "| Gender(1) | Married(1) | Education(0) | Self_Employed(0) | Property_Area(0) | Credit_History(0) | Loan_Status(0) |                                                                                 0.0277 |\n",
      "+-----------+------------+--------------+------------------+------------------+-------------------+----------------+----------------------------------------------------------------------------------------+\n",
      "| Gender(1) | Married(1) | Education(0) | Self_Employed(0) | Property_Area(0) | Credit_History(0) | Loan_Status(1) |                                                                                 0.0158 |\n",
      "+-----------+------------+--------------+------------------+------------------+-------------------+----------------+----------------------------------------------------------------------------------------+\n",
      "| Gender(1) | Married(1) | Education(0) | Self_Employed(0) | Property_Area(0) | Credit_History(1) | Loan_Status(0) |                                                                                 0.0023 |\n",
      "+-----------+------------+--------------+------------------+------------------+-------------------+----------------+----------------------------------------------------------------------------------------+\n",
      "| Gender(1) | Married(1) | Education(0) | Self_Employed(0) | Property_Area(0) | Credit_History(1) | Loan_Status(1) |                                                                                 0.0589 |\n",
      "+-----------+------------+--------------+------------------+------------------+-------------------+----------------+----------------------------------------------------------------------------------------+\n",
      "| Gender(1) | Married(1) | Education(0) | Self_Employed(0) | Property_Area(1) | Credit_History(0) | Loan_Status(0) |                                                                                 0.0537 |\n",
      "+-----------+------------+--------------+------------------+------------------+-------------------+----------------+----------------------------------------------------------------------------------------+\n",
      "| Gender(1) | Married(1) | Education(0) | Self_Employed(0) | Property_Area(1) | Credit_History(0) | Loan_Status(1) |                                                                                 0.0307 |\n",
      "+-----------+------------+--------------+------------------+------------------+-------------------+----------------+----------------------------------------------------------------------------------------+\n",
      "| Gender(1) | Married(1) | Education(0) | Self_Employed(0) | Property_Area(1) | Credit_History(1) | Loan_Status(0) |                                                                                 0.0046 |\n",
      "+-----------+------------+--------------+------------------+------------------+-------------------+----------------+----------------------------------------------------------------------------------------+\n",
      "| Gender(1) | Married(1) | Education(0) | Self_Employed(0) | Property_Area(1) | Credit_History(1) | Loan_Status(1) |                                                                                 0.1197 |\n",
      "+-----------+------------+--------------+------------------+------------------+-------------------+----------------+----------------------------------------------------------------------------------------+\n",
      "| Gender(1) | Married(1) | Education(0) | Self_Employed(0) | Property_Area(2) | Credit_History(0) | Loan_Status(0) |                                                                                 0.0400 |\n",
      "+-----------+------------+--------------+------------------+------------------+-------------------+----------------+----------------------------------------------------------------------------------------+\n",
      "| Gender(1) | Married(1) | Education(0) | Self_Employed(0) | Property_Area(2) | Credit_History(0) | Loan_Status(1) |                                                                                 0.0228 |\n",
      "+-----------+------------+--------------+------------------+------------------+-------------------+----------------+----------------------------------------------------------------------------------------+\n",
      "| Gender(1) | Married(1) | Education(0) | Self_Employed(0) | Property_Area(2) | Credit_History(1) | Loan_Status(0) |                                                                                 0.0030 |\n",
      "+-----------+------------+--------------+------------------+------------------+-------------------+----------------+----------------------------------------------------------------------------------------+\n",
      "| Gender(1) | Married(1) | Education(0) | Self_Employed(0) | Property_Area(2) | Credit_History(1) | Loan_Status(1) |                                                                                 0.0791 |\n",
      "+-----------+------------+--------------+------------------+------------------+-------------------+----------------+----------------------------------------------------------------------------------------+\n",
      "| Gender(1) | Married(1) | Education(0) | Self_Employed(1) | Property_Area(0) | Credit_History(0) | Loan_Status(0) |                                                                                 0.0050 |\n",
      "+-----------+------------+--------------+------------------+------------------+-------------------+----------------+----------------------------------------------------------------------------------------+\n",
      "| Gender(1) | Married(1) | Education(0) | Self_Employed(1) | Property_Area(0) | Credit_History(0) | Loan_Status(1) |                                                                                 0.0029 |\n",
      "+-----------+------------+--------------+------------------+------------------+-------------------+----------------+----------------------------------------------------------------------------------------+\n",
      "| Gender(1) | Married(1) | Education(0) | Self_Employed(1) | Property_Area(0) | Credit_History(1) | Loan_Status(0) |                                                                                 0.0004 |\n",
      "+-----------+------------+--------------+------------------+------------------+-------------------+----------------+----------------------------------------------------------------------------------------+\n",
      "| Gender(1) | Married(1) | Education(0) | Self_Employed(1) | Property_Area(0) | Credit_History(1) | Loan_Status(1) |                                                                                 0.0107 |\n",
      "+-----------+------------+--------------+------------------+------------------+-------------------+----------------+----------------------------------------------------------------------------------------+\n",
      "| Gender(1) | Married(1) | Education(0) | Self_Employed(1) | Property_Area(1) | Credit_History(0) | Loan_Status(0) |                                                                                 0.0067 |\n",
      "+-----------+------------+--------------+------------------+------------------+-------------------+----------------+----------------------------------------------------------------------------------------+\n",
      "| Gender(1) | Married(1) | Education(0) | Self_Employed(1) | Property_Area(1) | Credit_History(0) | Loan_Status(1) |                                                                                 0.0038 |\n",
      "+-----------+------------+--------------+------------------+------------------+-------------------+----------------+----------------------------------------------------------------------------------------+\n",
      "| Gender(1) | Married(1) | Education(0) | Self_Employed(1) | Property_Area(1) | Credit_History(1) | Loan_Status(0) |                                                                                 0.0006 |\n",
      "+-----------+------------+--------------+------------------+------------------+-------------------+----------------+----------------------------------------------------------------------------------------+\n",
      "| Gender(1) | Married(1) | Education(0) | Self_Employed(1) | Property_Area(1) | Credit_History(1) | Loan_Status(1) |                                                                                 0.0150 |\n",
      "+-----------+------------+--------------+------------------+------------------+-------------------+----------------+----------------------------------------------------------------------------------------+\n",
      "| Gender(1) | Married(1) | Education(0) | Self_Employed(1) | Property_Area(2) | Credit_History(0) | Loan_Status(0) |                                                                                 0.0061 |\n",
      "+-----------+------------+--------------+------------------+------------------+-------------------+----------------+----------------------------------------------------------------------------------------+\n",
      "| Gender(1) | Married(1) | Education(0) | Self_Employed(1) | Property_Area(2) | Credit_History(0) | Loan_Status(1) |                                                                                 0.0035 |\n",
      "+-----------+------------+--------------+------------------+------------------+-------------------+----------------+----------------------------------------------------------------------------------------+\n",
      "| Gender(1) | Married(1) | Education(0) | Self_Employed(1) | Property_Area(2) | Credit_History(1) | Loan_Status(0) |                                                                                 0.0005 |\n",
      "+-----------+------------+--------------+------------------+------------------+-------------------+----------------+----------------------------------------------------------------------------------------+\n",
      "| Gender(1) | Married(1) | Education(0) | Self_Employed(1) | Property_Area(2) | Credit_History(1) | Loan_Status(1) |                                                                                 0.0121 |\n",
      "+-----------+------------+--------------+------------------+------------------+-------------------+----------------+----------------------------------------------------------------------------------------+\n",
      "| Gender(1) | Married(1) | Education(1) | Self_Employed(0) | Property_Area(0) | Credit_History(0) | Loan_Status(0) |                                                                                 0.0008 |\n",
      "+-----------+------------+--------------+------------------+------------------+-------------------+----------------+----------------------------------------------------------------------------------------+\n",
      "| Gender(1) | Married(1) | Education(1) | Self_Employed(0) | Property_Area(0) | Credit_History(0) | Loan_Status(1) |                                                                                 0.0005 |\n",
      "+-----------+------------+--------------+------------------+------------------+-------------------+----------------+----------------------------------------------------------------------------------------+\n",
      "| Gender(1) | Married(1) | Education(1) | Self_Employed(0) | Property_Area(0) | Credit_History(1) | Loan_Status(0) |                                                                                 0.0001 |\n",
      "+-----------+------------+--------------+------------------+------------------+-------------------+----------------+----------------------------------------------------------------------------------------+\n",
      "| Gender(1) | Married(1) | Education(1) | Self_Employed(0) | Property_Area(0) | Credit_History(1) | Loan_Status(1) |                                                                                 0.0018 |\n",
      "+-----------+------------+--------------+------------------+------------------+-------------------+----------------+----------------------------------------------------------------------------------------+\n",
      "| Gender(1) | Married(1) | Education(1) | Self_Employed(0) | Property_Area(1) | Credit_History(0) | Loan_Status(0) |                                                                                 0.0016 |\n",
      "+-----------+------------+--------------+------------------+------------------+-------------------+----------------+----------------------------------------------------------------------------------------+\n",
      "| Gender(1) | Married(1) | Education(1) | Self_Employed(0) | Property_Area(1) | Credit_History(0) | Loan_Status(1) |                                                                                 0.0009 |\n",
      "+-----------+------------+--------------+------------------+------------------+-------------------+----------------+----------------------------------------------------------------------------------------+\n",
      "| Gender(1) | Married(1) | Education(1) | Self_Employed(0) | Property_Area(1) | Credit_History(1) | Loan_Status(0) |                                                                                 0.0001 |\n",
      "+-----------+------------+--------------+------------------+------------------+-------------------+----------------+----------------------------------------------------------------------------------------+\n",
      "| Gender(1) | Married(1) | Education(1) | Self_Employed(0) | Property_Area(1) | Credit_History(1) | Loan_Status(1) |                                                                                 0.0036 |\n",
      "+-----------+------------+--------------+------------------+------------------+-------------------+----------------+----------------------------------------------------------------------------------------+\n",
      "| Gender(1) | Married(1) | Education(1) | Self_Employed(0) | Property_Area(2) | Credit_History(0) | Loan_Status(0) |                                                                                 0.0012 |\n",
      "+-----------+------------+--------------+------------------+------------------+-------------------+----------------+----------------------------------------------------------------------------------------+\n",
      "| Gender(1) | Married(1) | Education(1) | Self_Employed(0) | Property_Area(2) | Credit_History(0) | Loan_Status(1) |                                                                                 0.0007 |\n",
      "+-----------+------------+--------------+------------------+------------------+-------------------+----------------+----------------------------------------------------------------------------------------+\n",
      "| Gender(1) | Married(1) | Education(1) | Self_Employed(0) | Property_Area(2) | Credit_History(1) | Loan_Status(0) |                                                                                 0.0001 |\n",
      "+-----------+------------+--------------+------------------+------------------+-------------------+----------------+----------------------------------------------------------------------------------------+\n",
      "| Gender(1) | Married(1) | Education(1) | Self_Employed(0) | Property_Area(2) | Credit_History(1) | Loan_Status(1) |                                                                                 0.0024 |\n",
      "+-----------+------------+--------------+------------------+------------------+-------------------+----------------+----------------------------------------------------------------------------------------+\n",
      "| Gender(1) | Married(1) | Education(1) | Self_Employed(1) | Property_Area(0) | Credit_History(0) | Loan_Status(0) |                                                                                 0.0043 |\n",
      "+-----------+------------+--------------+------------------+------------------+-------------------+----------------+----------------------------------------------------------------------------------------+\n",
      "| Gender(1) | Married(1) | Education(1) | Self_Employed(1) | Property_Area(0) | Credit_History(0) | Loan_Status(1) |                                                                                 0.0024 |\n",
      "+-----------+------------+--------------+------------------+------------------+-------------------+----------------+----------------------------------------------------------------------------------------+\n",
      "| Gender(1) | Married(1) | Education(1) | Self_Employed(1) | Property_Area(0) | Credit_History(1) | Loan_Status(0) |                                                                                 0.0003 |\n",
      "+-----------+------------+--------------+------------------+------------------+-------------------+----------------+----------------------------------------------------------------------------------------+\n",
      "| Gender(1) | Married(1) | Education(1) | Self_Employed(1) | Property_Area(0) | Credit_History(1) | Loan_Status(1) |                                                                                 0.0090 |\n",
      "+-----------+------------+--------------+------------------+------------------+-------------------+----------------+----------------------------------------------------------------------------------------+\n",
      "| Gender(1) | Married(1) | Education(1) | Self_Employed(1) | Property_Area(1) | Credit_History(0) | Loan_Status(0) |                                                                                 0.0057 |\n",
      "+-----------+------------+--------------+------------------+------------------+-------------------+----------------+----------------------------------------------------------------------------------------+\n",
      "| Gender(1) | Married(1) | Education(1) | Self_Employed(1) | Property_Area(1) | Credit_History(0) | Loan_Status(1) |                                                                                 0.0032 |\n",
      "+-----------+------------+--------------+------------------+------------------+-------------------+----------------+----------------------------------------------------------------------------------------+\n",
      "| Gender(1) | Married(1) | Education(1) | Self_Employed(1) | Property_Area(1) | Credit_History(1) | Loan_Status(0) |                                                                                 0.0005 |\n",
      "+-----------+------------+--------------+------------------+------------------+-------------------+----------------+----------------------------------------------------------------------------------------+\n",
      "| Gender(1) | Married(1) | Education(1) | Self_Employed(1) | Property_Area(1) | Credit_History(1) | Loan_Status(1) |                                                                                 0.0127 |\n",
      "+-----------+------------+--------------+------------------+------------------+-------------------+----------------+----------------------------------------------------------------------------------------+\n",
      "| Gender(1) | Married(1) | Education(1) | Self_Employed(1) | Property_Area(2) | Credit_History(0) | Loan_Status(0) |                                                                                 0.0052 |\n",
      "+-----------+------------+--------------+------------------+------------------+-------------------+----------------+----------------------------------------------------------------------------------------+\n",
      "| Gender(1) | Married(1) | Education(1) | Self_Employed(1) | Property_Area(2) | Credit_History(0) | Loan_Status(1) |                                                                                 0.0030 |\n",
      "+-----------+------------+--------------+------------------+------------------+-------------------+----------------+----------------------------------------------------------------------------------------+\n",
      "| Gender(1) | Married(1) | Education(1) | Self_Employed(1) | Property_Area(2) | Credit_History(1) | Loan_Status(0) |                                                                                 0.0004 |\n",
      "+-----------+------------+--------------+------------------+------------------+-------------------+----------------+----------------------------------------------------------------------------------------+\n",
      "| Gender(1) | Married(1) | Education(1) | Self_Employed(1) | Property_Area(2) | Credit_History(1) | Loan_Status(1) |                                                                                 0.0102 |\n",
      "+-----------+------------+--------------+------------------+------------------+-------------------+----------------+----------------------------------------------------------------------------------------+\n"
     ]
    }
   ],
   "source": [
    "P.normalize()\n",
    "print(P)"
   ]
  },
  {
   "cell_type": "code",
   "execution_count": 100,
   "metadata": {},
   "outputs": [
    {
     "name": "stdout",
     "output_type": "stream",
     "text": [
      "+-----------+---------------+\n",
      "| Gender    |   phi(Gender) |\n",
      "+===========+===============+\n",
      "| Gender(0) |        0.3317 |\n",
      "+-----------+---------------+\n",
      "| Gender(1) |        0.6683 |\n",
      "+-----------+---------------+\n"
     ]
    }
   ],
   "source": [
    "P_marginGender=P.marginalize(['Married', 'Education', 'Self_Employed', 'Property_Area', 'Credit_History', 'Loan_Status'], inplace=False)\n",
    "print(P_marginGender)"
   ]
  },
  {
   "cell_type": "code",
   "execution_count": 101,
   "metadata": {},
   "outputs": [
    {
     "name": "stdout",
     "output_type": "stream",
     "text": [
      "+------------+----------------+\n",
      "| Married    |   phi(Married) |\n",
      "+============+================+\n",
      "| Married(0) |         0.1239 |\n",
      "+------------+----------------+\n",
      "| Married(1) |         0.8761 |\n",
      "+------------+----------------+\n"
     ]
    }
   ],
   "source": [
    "P_marginMarried=P.marginalize(['Gender', 'Education', 'Self_Employed', 'Property_Area', 'Credit_History', 'Loan_Status'], inplace=False)\n",
    "print(P_marginMarried)"
   ]
  },
  {
   "cell_type": "code",
   "execution_count": 102,
   "metadata": {},
   "outputs": [
    {
     "name": "stdout",
     "output_type": "stream",
     "text": [
      "+--------------+------------------+\n",
      "| Education    |   phi(Education) |\n",
      "+==============+==================+\n",
      "| Education(0) |           0.7722 |\n",
      "+--------------+------------------+\n",
      "| Education(1) |           0.2278 |\n",
      "+--------------+------------------+\n"
     ]
    }
   ],
   "source": [
    "P_marginEducation=P.marginalize(['Gender', 'Married',  'Self_Employed', 'Property_Area', 'Credit_History', 'Loan_Status'], inplace=False)\n",
    "print(P_marginEducation)"
   ]
  },
  {
   "cell_type": "code",
   "execution_count": 103,
   "metadata": {},
   "outputs": [
    {
     "name": "stdout",
     "output_type": "stream",
     "text": [
      "+------------------+----------------------+\n",
      "| Self_Employed    |   phi(Self_Employed) |\n",
      "+==================+======================+\n",
      "| Self_Employed(0) |               0.7180 |\n",
      "+------------------+----------------------+\n",
      "| Self_Employed(1) |               0.2820 |\n",
      "+------------------+----------------------+\n"
     ]
    }
   ],
   "source": [
    "P_marginSelfEmployed=P.marginalize(['Gender', 'Married', 'Education',  'Property_Area', 'Credit_History', 'Loan_Status'], inplace=False)\n",
    "print(P_marginSelfEmployed)"
   ]
  },
  {
   "cell_type": "code",
   "execution_count": 104,
   "metadata": {},
   "outputs": [
    {
     "name": "stdout",
     "output_type": "stream",
     "text": [
      "+------------------+----------------------+\n",
      "| Property_Area    |   phi(Property_Area) |\n",
      "+==================+======================+\n",
      "| Property_Area(0) |               0.2436 |\n",
      "+------------------+----------------------+\n",
      "| Property_Area(1) |               0.4364 |\n",
      "+------------------+----------------------+\n",
      "| Property_Area(2) |               0.3200 |\n",
      "+------------------+----------------------+\n"
     ]
    }
   ],
   "source": [
    "P_marginPropertyArea=P.marginalize(['Gender', 'Married', 'Education', 'Self_Employed',  'Credit_History', 'Loan_Status'], inplace=False)\n",
    "print(P_marginPropertyArea)"
   ]
  },
  {
   "cell_type": "code",
   "execution_count": 105,
   "metadata": {},
   "outputs": [
    {
     "name": "stdout",
     "output_type": "stream",
     "text": [
      "+-------------------+-----------------------+\n",
      "| Credit_History    |   phi(Credit_History) |\n",
      "+===================+=======================+\n",
      "| Credit_History(0) |                0.4164 |\n",
      "+-------------------+-----------------------+\n",
      "| Credit_History(1) |                0.5836 |\n",
      "+-------------------+-----------------------+\n"
     ]
    }
   ],
   "source": [
    "P_marginCreditHistory=P.marginalize(['Gender', 'Married', 'Education', 'Self_Employed', 'Property_Area',  'Loan_Status'], inplace=False)\n",
    "print(P_marginCreditHistory)"
   ]
  },
  {
   "cell_type": "code",
   "execution_count": 106,
   "metadata": {},
   "outputs": [
    {
     "name": "stdout",
     "output_type": "stream",
     "text": [
      "+----------------+--------------------+\n",
      "| Loan_Status    |   phi(Loan_Status) |\n",
      "+================+====================+\n",
      "| Loan_Status(0) |             0.2865 |\n",
      "+----------------+--------------------+\n",
      "| Loan_Status(1) |             0.7135 |\n",
      "+----------------+--------------------+\n"
     ]
    }
   ],
   "source": [
    "P_marginLoanStatus=P.marginalize(['Gender', 'Married', 'Education', 'Self_Employed', 'Property_Area', 'Credit_History'], inplace=False)\n",
    "print(P_marginLoanStatus)"
   ]
  },
  {
   "cell_type": "code",
   "execution_count": 110,
   "metadata": {},
   "outputs": [
    {
     "name": "stdout",
     "output_type": "stream",
     "text": [
      "BayesianNetwork with 7 nodes and 6 edges\n"
     ]
    }
   ],
   "source": [
    "BN = G.to_bayesian_model()\n",
    "print(BN)"
   ]
  },
  {
   "cell_type": "code",
   "execution_count": 111,
   "metadata": {},
   "outputs": [
    {
     "data": {
      "text/html": [
       "<div>\n",
       "<style scoped>\n",
       "    .dataframe tbody tr th:only-of-type {\n",
       "        vertical-align: middle;\n",
       "    }\n",
       "\n",
       "    .dataframe tbody tr th {\n",
       "        vertical-align: top;\n",
       "    }\n",
       "\n",
       "    .dataframe thead th {\n",
       "        text-align: right;\n",
       "    }\n",
       "</style>\n",
       "<table border=\"1\" class=\"dataframe\">\n",
       "  <thead>\n",
       "    <tr style=\"text-align: right;\">\n",
       "      <th></th>\n",
       "      <th>Gender</th>\n",
       "      <th>Married</th>\n",
       "      <th>Education</th>\n",
       "      <th>Self_Employed</th>\n",
       "      <th>Property_Area</th>\n",
       "      <th>Credit_History</th>\n",
       "      <th>Loan_Status</th>\n",
       "    </tr>\n",
       "  </thead>\n",
       "  <tbody>\n",
       "    <tr>\n",
       "      <th>0</th>\n",
       "      <td>0</td>\n",
       "      <td>1</td>\n",
       "      <td>0</td>\n",
       "      <td>0</td>\n",
       "      <td>2.0</td>\n",
       "      <td>0</td>\n",
       "      <td>1.0</td>\n",
       "    </tr>\n",
       "    <tr>\n",
       "      <th>1</th>\n",
       "      <td>1</td>\n",
       "      <td>0</td>\n",
       "      <td>1</td>\n",
       "      <td>1</td>\n",
       "      <td>0.0</td>\n",
       "      <td>0</td>\n",
       "      <td>0.0</td>\n",
       "    </tr>\n",
       "    <tr>\n",
       "      <th>2</th>\n",
       "      <td>1</td>\n",
       "      <td>1</td>\n",
       "      <td>0</td>\n",
       "      <td>0</td>\n",
       "      <td>2.0</td>\n",
       "      <td>1</td>\n",
       "      <td>1.0</td>\n",
       "    </tr>\n",
       "    <tr>\n",
       "      <th>3</th>\n",
       "      <td>1</td>\n",
       "      <td>1</td>\n",
       "      <td>1</td>\n",
       "      <td>1</td>\n",
       "      <td>2.0</td>\n",
       "      <td>1</td>\n",
       "      <td>1.0</td>\n",
       "    </tr>\n",
       "    <tr>\n",
       "      <th>4</th>\n",
       "      <td>0</td>\n",
       "      <td>1</td>\n",
       "      <td>0</td>\n",
       "      <td>0</td>\n",
       "      <td>2.0</td>\n",
       "      <td>0</td>\n",
       "      <td>1.0</td>\n",
       "    </tr>\n",
       "  </tbody>\n",
       "</table>\n",
       "</div>"
      ],
      "text/plain": [
       "   Gender  Married  Education  Self_Employed  Property_Area  Credit_History  \\\n",
       "0       0        1          0              0            2.0               0   \n",
       "1       1        0          1              1            0.0               0   \n",
       "2       1        1          0              0            2.0               1   \n",
       "3       1        1          1              1            2.0               1   \n",
       "4       0        1          0              0            2.0               0   \n",
       "\n",
       "   Loan_Status  \n",
       "0          1.0  \n",
       "1          0.0  \n",
       "2          1.0  \n",
       "3          1.0  \n",
       "4          1.0  "
      ]
     },
     "execution_count": 111,
     "metadata": {},
     "output_type": "execute_result"
    }
   ],
   "source": [
    "df.head()"
   ]
  },
  {
   "cell_type": "code",
   "execution_count": 112,
   "metadata": {},
   "outputs": [],
   "source": [
    "import re\n",
    "from sklearn.model_selection import train_test_split\n",
    "train,test = train_test_split(df, test_size=0.5, random_state=100)\n",
    "X_train=train.iloc[:, [False,True, True, True,True, True, True ]]\n",
    "X_test=test.iloc[:, [False,True, True, True,True, True, True ]]\n",
    "y_train=train['Loan_Status']\n",
    "y_test=test['Loan_Status']"
   ]
  },
  {
   "cell_type": "code",
   "execution_count": 113,
   "metadata": {},
   "outputs": [
    {
     "name": "stdout",
     "output_type": "stream",
     "text": [
      "(300, 6) (300, 6) (300,) (300,)\n"
     ]
    }
   ],
   "source": [
    "print(X_train.shape,X_test.shape,y_train.shape,y_test.shape)"
   ]
  },
  {
   "cell_type": "code",
   "execution_count": 114,
   "metadata": {},
   "outputs": [],
   "source": [
    "classifier = svm.SVC(kernel='linear')"
   ]
  },
  {
   "cell_type": "code",
   "execution_count": 72,
   "metadata": {},
   "outputs": [
    {
     "data": {
      "text/plain": [
       "SVC(kernel='linear')"
      ]
     },
     "execution_count": 72,
     "metadata": {},
     "output_type": "execute_result"
    }
   ],
   "source": [
    "# training the support vector machine model\n",
    "classifier.fit(X_train,y_train)"
   ]
  },
  {
   "cell_type": "code",
   "execution_count": 73,
   "metadata": {},
   "outputs": [
    {
     "name": "stdout",
     "output_type": "stream",
     "text": [
      "Accuracy score on training data :  1.0\n"
     ]
    }
   ],
   "source": [
    "X_train_prediction = classifier.predict(X_train)\n",
    "training_data_accuracy = accuracy_score (X_train_prediction,y_train)\n",
    "print('Accuracy score on training data : ',training_data_accuracy)"
   ]
  },
  {
   "cell_type": "code",
   "execution_count": 74,
   "metadata": {},
   "outputs": [
    {
     "name": "stdout",
     "output_type": "stream",
     "text": [
      "Accuracy score on test data: 1.0\n"
     ]
    }
   ],
   "source": [
    "# accuracy score on test data\n",
    "X_test_prediction = classifier.predict(X_test)\n",
    "test_data_accuracy = accuracy_score (X_test_prediction,y_test)\n",
    "print('Accuracy score on test data:',test_data_accuracy)"
   ]
  },
  {
   "cell_type": "code",
   "execution_count": null,
   "metadata": {},
   "outputs": [],
   "source": []
  }
 ],
 "metadata": {
  "kernelspec": {
   "display_name": "Python 3 (ipykernel)",
   "language": "python",
   "name": "python3"
  },
  "language_info": {
   "codemirror_mode": {
    "name": "ipython",
    "version": 3
   },
   "file_extension": ".py",
   "mimetype": "text/x-python",
   "name": "python",
   "nbconvert_exporter": "python",
   "pygments_lexer": "ipython3",
   "version": "3.9.7"
  }
 },
 "nbformat": 4,
 "nbformat_minor": 4
}
