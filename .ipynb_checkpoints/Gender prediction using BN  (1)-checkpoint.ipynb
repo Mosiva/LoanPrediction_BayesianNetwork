{
 "cells": [
  {
   "cell_type": "code",
   "execution_count": 1,
   "metadata": {
    "scrolled": true
   },
   "outputs": [],
   "source": [
    "import pandas as pd\n",
    "import numpy as np\n",
    "import matplotlib.pyplot as plt\n",
    "import networkx as nx\n",
    "import seaborn as sns\n",
    "%matplotlib inline\n",
    "\n",
    "data=pd.read_csv(r\"./train.csv\")"
   ]
  },
  {
   "cell_type": "code",
   "execution_count": 2,
   "metadata": {},
   "outputs": [
    {
     "data": {
      "text/html": [
       "<div>\n",
       "<style scoped>\n",
       "    .dataframe tbody tr th:only-of-type {\n",
       "        vertical-align: middle;\n",
       "    }\n",
       "\n",
       "    .dataframe tbody tr th {\n",
       "        vertical-align: top;\n",
       "    }\n",
       "\n",
       "    .dataframe thead th {\n",
       "        text-align: right;\n",
       "    }\n",
       "</style>\n",
       "<table border=\"1\" class=\"dataframe\">\n",
       "  <thead>\n",
       "    <tr style=\"text-align: right;\">\n",
       "      <th></th>\n",
       "      <th>long_hair</th>\n",
       "      <th>forehead_width_cm</th>\n",
       "      <th>forehead_height_cm</th>\n",
       "      <th>nose_wide</th>\n",
       "      <th>nose_long</th>\n",
       "      <th>lips_thin</th>\n",
       "      <th>distance_nose_to_lip_long</th>\n",
       "      <th>gender</th>\n",
       "    </tr>\n",
       "  </thead>\n",
       "  <tbody>\n",
       "    <tr>\n",
       "      <th>0</th>\n",
       "      <td>1</td>\n",
       "      <td>11.8</td>\n",
       "      <td>6.1</td>\n",
       "      <td>1</td>\n",
       "      <td>0</td>\n",
       "      <td>1</td>\n",
       "      <td>1</td>\n",
       "      <td>Male</td>\n",
       "    </tr>\n",
       "    <tr>\n",
       "      <th>1</th>\n",
       "      <td>0</td>\n",
       "      <td>14.0</td>\n",
       "      <td>5.4</td>\n",
       "      <td>0</td>\n",
       "      <td>0</td>\n",
       "      <td>1</td>\n",
       "      <td>0</td>\n",
       "      <td>Female</td>\n",
       "    </tr>\n",
       "    <tr>\n",
       "      <th>2</th>\n",
       "      <td>0</td>\n",
       "      <td>11.8</td>\n",
       "      <td>6.3</td>\n",
       "      <td>1</td>\n",
       "      <td>1</td>\n",
       "      <td>1</td>\n",
       "      <td>1</td>\n",
       "      <td>Male</td>\n",
       "    </tr>\n",
       "    <tr>\n",
       "      <th>3</th>\n",
       "      <td>0</td>\n",
       "      <td>14.4</td>\n",
       "      <td>6.1</td>\n",
       "      <td>0</td>\n",
       "      <td>1</td>\n",
       "      <td>1</td>\n",
       "      <td>1</td>\n",
       "      <td>Male</td>\n",
       "    </tr>\n",
       "    <tr>\n",
       "      <th>4</th>\n",
       "      <td>1</td>\n",
       "      <td>13.5</td>\n",
       "      <td>5.9</td>\n",
       "      <td>0</td>\n",
       "      <td>0</td>\n",
       "      <td>0</td>\n",
       "      <td>0</td>\n",
       "      <td>Female</td>\n",
       "    </tr>\n",
       "  </tbody>\n",
       "</table>\n",
       "</div>"
      ],
      "text/plain": [
       "   long_hair  forehead_width_cm  forehead_height_cm  nose_wide  nose_long  \\\n",
       "0          1               11.8                 6.1          1          0   \n",
       "1          0               14.0                 5.4          0          0   \n",
       "2          0               11.8                 6.3          1          1   \n",
       "3          0               14.4                 6.1          0          1   \n",
       "4          1               13.5                 5.9          0          0   \n",
       "\n",
       "   lips_thin  distance_nose_to_lip_long  gender  \n",
       "0          1                          1    Male  \n",
       "1          1                          0  Female  \n",
       "2          1                          1    Male  \n",
       "3          1                          1    Male  \n",
       "4          0                          0  Female  "
      ]
     },
     "execution_count": 2,
     "metadata": {},
     "output_type": "execute_result"
    }
   ],
   "source": [
    "data.head()"
   ]
  },
  {
   "cell_type": "code",
   "execution_count": 3,
   "metadata": {},
   "outputs": [
    {
     "data": {
      "text/plain": [
       "long_hair                    0\n",
       "forehead_width_cm            0\n",
       "forehead_height_cm           0\n",
       "nose_wide                    0\n",
       "nose_long                    0\n",
       "lips_thin                    0\n",
       "distance_nose_to_lip_long    0\n",
       "gender                       0\n",
       "dtype: int64"
      ]
     },
     "execution_count": 3,
     "metadata": {},
     "output_type": "execute_result"
    }
   ],
   "source": [
    "data.isnull().sum()"
   ]
  },
  {
   "cell_type": "markdown",
   "metadata": {},
   "source": [
    "#### Dummy encoding"
   ]
  },
  {
   "cell_type": "code",
   "execution_count": 4,
   "metadata": {},
   "outputs": [],
   "source": [
    "data['gender']=pd.get_dummies(data=data['gender'],drop_first=True)\n",
    "data['forehead_width_cm']  = data['forehead_width_cm'].astype(int)\n",
    "data['forehead_height_cm']  = data['forehead_height_cm'].astype(int)"
   ]
  },
  {
   "cell_type": "code",
   "execution_count": 5,
   "metadata": {},
   "outputs": [
    {
     "data": {
      "text/html": [
       "<div>\n",
       "<style scoped>\n",
       "    .dataframe tbody tr th:only-of-type {\n",
       "        vertical-align: middle;\n",
       "    }\n",
       "\n",
       "    .dataframe tbody tr th {\n",
       "        vertical-align: top;\n",
       "    }\n",
       "\n",
       "    .dataframe thead th {\n",
       "        text-align: right;\n",
       "    }\n",
       "</style>\n",
       "<table border=\"1\" class=\"dataframe\">\n",
       "  <thead>\n",
       "    <tr style=\"text-align: right;\">\n",
       "      <th></th>\n",
       "      <th>long_hair</th>\n",
       "      <th>forehead_width_cm</th>\n",
       "      <th>forehead_height_cm</th>\n",
       "      <th>nose_wide</th>\n",
       "      <th>nose_long</th>\n",
       "      <th>lips_thin</th>\n",
       "      <th>distance_nose_to_lip_long</th>\n",
       "      <th>gender</th>\n",
       "    </tr>\n",
       "  </thead>\n",
       "  <tbody>\n",
       "    <tr>\n",
       "      <th>0</th>\n",
       "      <td>1</td>\n",
       "      <td>11</td>\n",
       "      <td>6</td>\n",
       "      <td>1</td>\n",
       "      <td>0</td>\n",
       "      <td>1</td>\n",
       "      <td>1</td>\n",
       "      <td>1</td>\n",
       "    </tr>\n",
       "    <tr>\n",
       "      <th>1</th>\n",
       "      <td>0</td>\n",
       "      <td>14</td>\n",
       "      <td>5</td>\n",
       "      <td>0</td>\n",
       "      <td>0</td>\n",
       "      <td>1</td>\n",
       "      <td>0</td>\n",
       "      <td>0</td>\n",
       "    </tr>\n",
       "    <tr>\n",
       "      <th>2</th>\n",
       "      <td>0</td>\n",
       "      <td>11</td>\n",
       "      <td>6</td>\n",
       "      <td>1</td>\n",
       "      <td>1</td>\n",
       "      <td>1</td>\n",
       "      <td>1</td>\n",
       "      <td>1</td>\n",
       "    </tr>\n",
       "    <tr>\n",
       "      <th>3</th>\n",
       "      <td>0</td>\n",
       "      <td>14</td>\n",
       "      <td>6</td>\n",
       "      <td>0</td>\n",
       "      <td>1</td>\n",
       "      <td>1</td>\n",
       "      <td>1</td>\n",
       "      <td>1</td>\n",
       "    </tr>\n",
       "    <tr>\n",
       "      <th>4</th>\n",
       "      <td>1</td>\n",
       "      <td>13</td>\n",
       "      <td>5</td>\n",
       "      <td>0</td>\n",
       "      <td>0</td>\n",
       "      <td>0</td>\n",
       "      <td>0</td>\n",
       "      <td>0</td>\n",
       "    </tr>\n",
       "  </tbody>\n",
       "</table>\n",
       "</div>"
      ],
      "text/plain": [
       "   long_hair  forehead_width_cm  forehead_height_cm  nose_wide  nose_long  \\\n",
       "0          1                 11                   6          1          0   \n",
       "1          0                 14                   5          0          0   \n",
       "2          0                 11                   6          1          1   \n",
       "3          0                 14                   6          0          1   \n",
       "4          1                 13                   5          0          0   \n",
       "\n",
       "   lips_thin  distance_nose_to_lip_long  gender  \n",
       "0          1                          1       1  \n",
       "1          1                          0       0  \n",
       "2          1                          1       1  \n",
       "3          1                          1       1  \n",
       "4          0                          0       0  "
      ]
     },
     "execution_count": 5,
     "metadata": {},
     "output_type": "execute_result"
    }
   ],
   "source": [
    "data.head()"
   ]
  },
  {
   "cell_type": "code",
   "execution_count": 6,
   "metadata": {},
   "outputs": [],
   "source": [
    "def unique(list1): \n",
    "    x = np.array(list1) \n",
    "    return np.unique(x)\n",
    "\n",
    "def find_probability(list1): \n",
    "    a = unique(list1) \n",
    "    values_for_v1 = [] \n",
    "    for aa  in a: \n",
    "        values_for_v1.append(np.count_nonzero(list1 == aa)/len(list1))\n",
    "    return values_for_v1\n",
    "\n",
    "def two_param(list1, list2, len1, len2): \n",
    "    array = np.array(pd.crosstab(data[list1], data[list2]))\n",
    "    probability = [] \n",
    "    for i in array:\n",
    "        arr = []\n",
    "        for j in i:\n",
    "            arr.append(j/len(data[list1]))\n",
    "        probability.append(arr)\n",
    "    return probability\n",
    "\n",
    "def three_param(list1, list2, list3): \n",
    "    a = unique(data[list1]) \n",
    "    b = unique(data[list2]) \n",
    "    c = unique(data[list3]) \n",
    "    three_probability = [] \n",
    "    for aa  in a: \n",
    "        values_for_v1_v2_v3 = [] \n",
    "        for bb in b:\n",
    "            for cc in c:\n",
    "                values_for_v1_v2_v3.append(((data[list1]==aa)&(data[list2]==bb)&(data[list3]==cc)).sum()/len(data[list1]))\n",
    "        three_probability.append(values_for_v1_v2_v3)\n",
    "    return three_probability\n",
    "    \n",
    "def four_param(list1, list2, list3, list4): \n",
    "    a = unique(data[list1]) \n",
    "    b = unique(data[list2]) \n",
    "    c = unique(data[list3]) \n",
    "    d = unique(data[list4]) \n",
    "    four_probability = [] \n",
    "    for aa  in a: \n",
    "        values_for_v1_v2_v3_v4 = [] \n",
    "        for bb in b:\n",
    "            for cc in c:\n",
    "                for dd in d:\n",
    "                    values_for_v1_v2_v3_v4.append(((data[list1]==aa)&(data[list2]==bb)&(data[list3]==cc)&(data[list4]==dd)).sum()/len(data[list1]))\n",
    "        four_probability.append(values_for_v1_v2_v3_v4)\n",
    "    return four_probability"
   ]
  },
  {
   "cell_type": "code",
   "execution_count": 7,
   "metadata": {},
   "outputs": [
    {
     "name": "stdout",
     "output_type": "stream",
     "text": [
      "Random Variables:  [5 6 7]\n",
      "Probability:  [0.5188962207558488, 0.4351129774045191, 0.04599080183963208]\n"
     ]
    }
   ],
   "source": [
    "V_forehead_height_cm = unique(data['forehead_height_cm'])\n",
    "P_forehead_height_cm = find_probability(data['forehead_height_cm'])\n",
    "print(\"Random Variables: \", V_forehead_height_cm)\n",
    "print(\"Probability: \", P_forehead_height_cm)"
   ]
  },
  {
   "cell_type": "code",
   "execution_count": 8,
   "metadata": {},
   "outputs": [
    {
     "name": "stdout",
     "output_type": "stream",
     "text": [
      "Random Variables:  [0 1]\n",
      "Probability:  [0.130373925214957, 0.869626074785043]\n"
     ]
    }
   ],
   "source": [
    "V_long_hair = unique(data['long_hair'])\n",
    "P_long_hair = find_probability(data['long_hair'])\n",
    "print(\"Random Variables: \", V_long_hair)\n",
    "print(\"Probability: \", P_long_hair)"
   ]
  },
  {
   "cell_type": "code",
   "execution_count": 9,
   "metadata": {},
   "outputs": [
    {
     "name": "stdout",
     "output_type": "stream",
     "text": [
      "Random Variables:  [11 12 13 14 15]\n",
      "Probability:  [0.16676664667066587, 0.2835432913417317, 0.2751449710057988, 0.1965606878624275, 0.07798440311937613]\n"
     ]
    }
   ],
   "source": [
    "V_forehead_width_cm = unique(data['forehead_width_cm'])\n",
    "P_forehead_width_cm = find_probability(data['forehead_width_cm'])\n",
    "print(\"Random Variables: \", V_forehead_width_cm)\n",
    "print(\"Probability: \", P_forehead_width_cm)"
   ]
  },
  {
   "cell_type": "code",
   "execution_count": 10,
   "metadata": {},
   "outputs": [
    {
     "name": "stdout",
     "output_type": "stream",
     "text": [
      "Random Variables:  [0 1]\n",
      "Probability:  [0.5060987802439512, 0.4939012197560488]\n"
     ]
    }
   ],
   "source": [
    "V_nose_wide = unique(data['nose_wide'])\n",
    "P_nose_wide = find_probability(data['nose_wide'])\n",
    "print(\"Random Variables: \", V_nose_wide)\n",
    "print(\"Probability: \", P_nose_wide)"
   ]
  },
  {
   "cell_type": "code",
   "execution_count": 11,
   "metadata": {},
   "outputs": [
    {
     "name": "stdout",
     "output_type": "stream",
     "text": [
      "Random Variables:  [0 1]\n",
      "Probability:  [0.4921015796840632, 0.5078984203159368]\n"
     ]
    }
   ],
   "source": [
    "V_nose_long = unique(data['nose_long'])\n",
    "P_nose_long = find_probability(data['nose_long'])\n",
    "print(\"Random Variables: \", V_nose_long)\n",
    "print(\"Probability: \", P_nose_long)"
   ]
  },
  {
   "cell_type": "code",
   "execution_count": 12,
   "metadata": {},
   "outputs": [
    {
     "name": "stdout",
     "output_type": "stream",
     "text": [
      "Random Variables:  [0 1]\n",
      "Probability:  [0.5068986202759448, 0.4931013797240552]\n"
     ]
    }
   ],
   "source": [
    "V_lips_thin = unique(data['lips_thin'])\n",
    "P_lips_thin = find_probability(data['lips_thin'])\n",
    "print(\"Random Variables: \", V_lips_thin)\n",
    "print(\"Probability: \", P_lips_thin)"
   ]
  },
  {
   "cell_type": "code",
   "execution_count": 13,
   "metadata": {},
   "outputs": [],
   "source": [
    "V_distance_nose_to_lip_long = unique(data['distance_nose_to_lip_long'])\n",
    "# P_distance_nose_to_lip_long = find_probability(data['distance_nose_to_lip_long'])\n",
    "# print(\"Random Variables: \", V_distance_nose_to_lip_long)\n",
    "# print(\"Probability: \", P_distance_nose_to_lip_long)"
   ]
  },
  {
   "cell_type": "code",
   "execution_count": 14,
   "metadata": {},
   "outputs": [],
   "source": [
    "V_gender = unique(data['gender'])\n",
    "# P_gender = find_probability(data['gender'])\n",
    "# print(\"Random Variables: \", V_gender)\n",
    "# print(\"Probability: \", P_gender)"
   ]
  },
  {
   "cell_type": "code",
   "execution_count": 15,
   "metadata": {},
   "outputs": [],
   "source": [
    "#By processing all data individually we could say that \n",
    "#long_hair - is not impact on other parametrs (so it is independent)\n",
    "#forehead_width_cm and forehead_height_cm are interesting (maybe they do not impact on gender but we should learn)"
   ]
  },
  {
   "cell_type": "code",
   "execution_count": 34,
   "metadata": {},
   "outputs": [
    {
     "name": "stdout",
     "output_type": "stream",
     "text": [
      "[[0.38652269546090784, 0.10557888422315537], [0.11457708458308338, 0.39332133573285344]]\n"
     ]
    }
   ],
   "source": [
    "# distance_nose_to_lip_long -> gender\n",
    "# two_param('distance_nose_to_lip_long', 'gender', len(V_gender), len(V_distance_nose_to_lip_long))\n",
    "\n",
    "#gender independent from forehead_width_cm\n",
    "# two_param('gender', 'forehead_width_cm', len(V_gender), len(V_forehead_width_cm))\n",
    "\n",
    "# nose_long -> gender\n",
    "\n",
    "P_distance_nose_to_lip_long = two_param('nose_long', 'distance_nose_to_lip_long', len(V_distance_nose_to_lip_long), len(V_nose_long))\n",
    "\n",
    "# lips_thin -> gender\n",
    "# two_param('gender', 'lips_thin', len(V_gender), len(V_lips_thin))\n",
    "\n",
    "# nose_wide -> gender\n",
    "# two_param('gender', 'nose_wide', len(V_gender), len(V_nose_wide))\n",
    "\n",
    "#gender independent from forehead_height_cm\n",
    "# two_param('nose_long', 'forehead_height_cm', len(V_nose_long), len(V_forehead_height_cm))\n",
    "\n",
    "# gender independent from forehead_height_cm\n",
    "# two_param('distance_nose_to_lip_long', 'nose_wide', len(V_forehead_width_cm), len(V_forehead_height_cm))\n",
    "\n",
    "# three_param(data['gender'], data['nose_wide'], data['distance_nose_to_lip_long'])\n",
    "P_gender = four_param('gender', 'distance_nose_to_lip_long', 'nose_wide', 'lips_thin')\n",
    "print(P_distance_nose_to_lip_long)"
   ]
  },
  {
   "cell_type": "code",
   "execution_count": 35,
   "metadata": {
    "scrolled": true
   },
   "outputs": [
    {
     "name": "stderr",
     "output_type": "stream",
     "text": [
      "C:\\Users\\AMD\\AppData\\Local\\Programs\\Python\\Python310\\lib\\site-packages\\pgmpy\\models\\BayesianModel.py:8: FutureWarning: BayesianModel has been renamed to BayesianNetwork. Please use BayesianNetwork class, BayesianModel will be removed in future.\n",
      "  warnings.warn(\n"
     ]
    },
    {
     "data": {
      "image/png": "[encoded data removed]",
      "text/plain": [
       "<Figure size 864x504 with 1 Axes>"
      ]
     },
     "metadata": {},
     "output_type": "display_data"
    }
   ],
   "source": [
    "#In this part the model and network are illustarted\n",
    "from pgmpy.models import BayesianModel\n",
    "model=BayesianModel([\n",
    "    ('nose_long', 'distance_nose_to_lip_long'),\n",
    "    ('distance_nose_to_lip_long', 'gender'),\n",
    "    ('nose_wide', 'gender'),\n",
    "    ('lips_thin', 'gender')\n",
    "])\n",
    "fig, ax = plt.subplots(figsize=(12, 7))\n",
    "\n",
    "positions={'gender':(5,2), 'distance_nose_to_lip_long':(8,2.5),\n",
    "           'nose_long':(11,3), 'lips_thin':(5,3), 'nose_wide':(2,3), }\n",
    "nx.draw(model, pos=positions, with_labels=True, node_size = 4000, font_size =20, arrowsize=20, node_color='lightblue', ax=ax)"
   ]
  },
  {
   "cell_type": "code",
   "execution_count": 36,
   "metadata": {},
   "outputs": [
    {
     "data": {
      "text/plain": [
       "<TabularCPD representing P(distance_nose_to_lip_long:2 | nose_long:2) at 0x180bd4b9d80>"
      ]
     },
     "execution_count": 36,
     "metadata": {},
     "output_type": "execute_result"
    }
   ],
   "source": [
    "#Lets add probability\n",
    "from pgmpy.factors.discrete import TabularCPD\n",
    "cpd_nose_wide = TabularCPD('nose_wide', 2, np.reshape(P_nose_wide, (-1, 1)))\n",
    "cpd_lips_thin = TabularCPD('lips_thin', 2, np.reshape(P_lips_thin, (-1, 1)))\n",
    "cpd_nose_long = TabularCPD('nose_long', 2, np.reshape(P_lips_thin, (-1, 1)))\n",
    "cpd_distance_nose_to_lip_long = TabularCPD(variable='distance_nose_to_lip_long', variable_card=2, \n",
    "                          values=[[0.4, 0.1],\n",
    "                                 [0.1, 0.4]],\n",
    "                          evidence=['nose_long'],\n",
    "                          evidence_card=[2])\n",
    "# cpd_distance_nose_to_lip_long = TabularCPD(variable='distance_nose_to_lip_long', variable_card=2, \n",
    "#                           values=np.reshape(P_distance_nose_to_lip_long, (-1, 2)),\n",
    "#                           evidence=['nose_long'],\n",
    "#                           evidence_card=[2])\n",
    "cpd_gender = TabularCPD(variable='gender', variable_card=2, \n",
    "                          values=np.reshape(P_gender, (-1, 8)),\n",
    "                          evidence=['distance_nose_to_lip_long', 'nose_wide', 'lips_thin'],\n",
    "                          evidence_card=[2,2,2])\n",
    "cpd_distance_nose_to_lip_long"
   ]
  },
  {
   "cell_type": "code",
   "execution_count": 49,
   "metadata": {},
   "outputs": [
    {
     "name": "stdout",
     "output_type": "stream",
     "text": [
      "Model state:  True\n"
     ]
    }
   ],
   "source": [
    "model.add_cpds(cpd_nose_wide, cpd_lips_thin, cpd_nose_long, cpd_distance_nose_to_lip_long, cpd_gender)\n",
    "model.fit(data)\n",
    "print('Model state: ', model.check_model())"
   ]
  },
  {
   "cell_type": "code",
   "execution_count": 50,
   "metadata": {},
   "outputs": [
    {
     "name": "stdout",
     "output_type": "stream",
     "text": [
      "+------------------------------+---------------------+---------------------+\n",
      "| nose_long                    | nose_long(0)        | nose_long(1)        |\n",
      "+------------------------------+---------------------+---------------------+\n",
      "| distance_nose_to_lip_long(0) | 0.785453067858594   | 0.22559055118110236 |\n",
      "+------------------------------+---------------------+---------------------+\n",
      "| distance_nose_to_lip_long(1) | 0.21454693214140594 | 0.7744094488188976  |\n",
      "+------------------------------+---------------------+---------------------+\n"
     ]
    },
    {
     "data": {
      "text/plain": [
       "(gender ⟂ nose_long | lips_thin, distance_nose_to_lip_long, nose_wide)\n",
       "(distance_nose_to_lip_long ⟂ lips_thin, nose_wide | nose_long)\n",
       "(nose_wide ⟂ nose_long, lips_thin, distance_nose_to_lip_long)\n",
       "(lips_thin ⟂ nose_long, distance_nose_to_lip_long, nose_wide)\n",
       "(nose_long ⟂ lips_thin, nose_wide)"
      ]
     },
     "execution_count": 50,
     "metadata": {},
     "output_type": "execute_result"
    }
   ],
   "source": [
    "print(model.get_cpds('distance_nose_to_lip_long'))\n",
    "model.local_independencies(['gender', 'distance_nose_to_lip_long', 'nose_wide', 'lips_thin', 'nose_long'])"
   ]
  },
  {
   "cell_type": "code",
   "execution_count": 52,
   "metadata": {},
   "outputs": [
    {
     "data": {
      "application/vnd.jupyter.widget-view+json": {
       "model_id": "aec87d67aa004cd9af3e4adcc9ebcf1c",
       "version_major": 2,
       "version_minor": 0
      },
      "text/plain": [
       "  0%|          | 0/2 [00:00<?, ?it/s]"
      ]
     },
     "metadata": {},
     "output_type": "display_data"
    },
    {
     "data": {
      "application/vnd.jupyter.widget-view+json": {
       "model_id": "73078b1594094df591d624d193fd4eb8",
       "version_major": 2,
       "version_minor": 0
      },
      "text/plain": [
       "  0%|          | 0/2 [00:00<?, ?it/s]"
      ]
     },
     "metadata": {},
     "output_type": "display_data"
    },
    {
     "name": "stdout",
     "output_type": "stream",
     "text": [
      "+-----------+---------------+\n",
      "| gender    |   phi(gender) |\n",
      "+===========+===============+\n",
      "| gender(0) |        0.7140 |\n",
      "+-----------+---------------+\n",
      "| gender(1) |        0.2860 |\n",
      "+-----------+---------------+\n"
     ]
    }
   ],
   "source": [
    "from pgmpy.inference import VariableElimination\n",
    "infer = VariableElimination(model)\n",
    "q1=infer.query(variables=['gender'],evidence={'distance_nose_to_lip_long':0})\n",
    "print(q1)"
   ]
  },
  {
   "cell_type": "code",
   "execution_count": 11,
   "metadata": {},
   "outputs": [],
   "source": [
    "import re\n",
    "from sklearn.model_selection import train_test_split\n",
    "train,test = train_test_split(data, test_size=0.5, random_state=100)\n",
    "X_train=train.iloc[:,:6]\n",
    "X_test=test.iloc[:,:6]\n",
    "y_train=train['gender']\n",
    "y_test=test['gender']"
   ]
  },
  {
   "cell_type": "code",
   "execution_count": null,
   "metadata": {},
   "outputs": [],
   "source": []
  },
  {
   "cell_type": "code",
   "execution_count": 12,
   "metadata": {},
   "outputs": [],
   "source": [
    "#finding CPDs using MLE"
   ]
  },
  {
   "cell_type": "code",
   "execution_count": 13,
   "metadata": {},
   "outputs": [],
   "source": [
    "from pgmpy.estimators import MaximumLikelihoodEstimator"
   ]
  },
  {
   "cell_type": "code",
   "execution_count": 14,
   "metadata": {},
   "outputs": [],
   "source": [
    "model.fit(train, estimator=MaximumLikelihoodEstimator)"
   ]
  },
  {
   "cell_type": "code",
   "execution_count": null,
   "metadata": {},
   "outputs": [],
   "source": []
  },
  {
   "cell_type": "code",
   "execution_count": 15,
   "metadata": {},
   "outputs": [],
   "source": [
    "from sklearn.metrics import r2_score"
   ]
  },
  {
   "cell_type": "code",
   "execution_count": 16,
   "metadata": {},
   "outputs": [
    {
     "data": {
      "application/vnd.jupyter.widget-view+json": {
       "model_id": "4cf15518f5b24e06a011181bf2e5b418",
       "version_major": 2,
       "version_minor": 0
      },
      "text/plain": [
       "  0%|          | 0/1797 [00:00<?, ?it/s]"
      ]
     },
     "metadata": {},
     "output_type": "display_data"
    },
    {
     "name": "stderr",
     "output_type": "stream",
     "text": [
      "C:\\Users\\AMD\\AppData\\Local\\Programs\\Python\\Python310\\lib\\site-packages\\pgmpy\\models\\BayesianNetwork.py:744: FutureWarning: Passing a set as an indexer is deprecated and will raise in a future version. Use a list instead.\n",
      "  return data.merge(data_with_results, how=\"left\").loc[:, missing_variables]\n"
     ]
    },
    {
     "data": {
      "text/plain": [
       "0.8991628273846871"
      ]
     },
     "execution_count": 16,
     "metadata": {},
     "output_type": "execute_result"
    }
   ],
   "source": [
    "train_accuracy=r2_score(y_train,model.predict(X_train))\n",
    "train_accuracy"
   ]
  },
  {
   "cell_type": "code",
   "execution_count": 17,
   "metadata": {},
   "outputs": [
    {
     "data": {
      "application/vnd.jupyter.widget-view+json": {
       "model_id": "f9b04ecd635448d7bb27fa4b3d8ee336",
       "version_major": 2,
       "version_minor": 0
      },
      "text/plain": [
       "  0%|          | 0/1808 [00:00<?, ?it/s]"
      ]
     },
     "metadata": {},
     "output_type": "display_data"
    },
    {
     "name": "stderr",
     "output_type": "stream",
     "text": [
      "C:\\Users\\AMD\\AppData\\Local\\Programs\\Python\\Python310\\lib\\site-packages\\pgmpy\\models\\BayesianNetwork.py:744: FutureWarning: Passing a set as an indexer is deprecated and will raise in a future version. Use a list instead.\n",
      "  return data.merge(data_with_results, how=\"left\").loc[:, missing_variables]\n"
     ]
    }
   ],
   "source": [
    "y_pred = model.predict(X_test)"
   ]
  },
  {
   "cell_type": "code",
   "execution_count": 18,
   "metadata": {},
   "outputs": [
    {
     "data": {
      "text/plain": [
       "0.9168013306464511"
      ]
     },
     "execution_count": 18,
     "metadata": {},
     "output_type": "execute_result"
    }
   ],
   "source": [
    "test_accuracy=r2_score(y_test,y_pred)\n",
    "test_accuracy"
   ]
  },
  {
   "cell_type": "code",
   "execution_count": null,
   "metadata": {},
   "outputs": [],
   "source": []
  }
 ],
 "metadata": {
  "kernelspec": {
   "display_name": "Python 3 (ipykernel)",
   "language": "python",
   "name": "python3"
  },
  "language_info": {
   "codemirror_mode": {
    "name": "ipython",
    "version": 3
   },
   "file_extension": ".py",
   "mimetype": "text/x-python",
   "name": "python",
   "nbconvert_exporter": "python",
   "pygments_lexer": "ipython3",
   "version": "3.9.7"
  }
 },
 "nbformat": 4,
 "nbformat_minor": 4
}
