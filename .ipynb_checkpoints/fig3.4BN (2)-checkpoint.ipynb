{
 "cells": [
  {
   "cell_type": "code",
   "execution_count": 1,
   "id": "9aa41133-15a4-46cd-a758-c8df22bc3528",
   "metadata": {},
   "outputs": [],
   "source": [
    "import pandas as pd # for data manipulation \n",
    "import networkx as nx # for drawing graphs\n",
    "import matplotlib.pyplot as plt # for drawing graphs\n",
    "\n",
    "# for creating Bayesian Belief Networks (BBN)\n",
    "from pybbn.graph.dag import Bbn\n",
    "from pybbn.graph.edge import Edge, EdgeType\n",
    "from pybbn.graph.jointree import EvidenceBuilder\n",
    "from pybbn.graph.node import BbnNode\n",
    "from pybbn.graph.variable import Variable\n",
    "from pybbn.pptc.inferencecontroller import InferenceController"
   ]
  },
  {
   "cell_type": "code",
   "execution_count": 7,
   "id": "9c876dce-3293-4f9e-ad9e-c0232c5fbe0c",
   "metadata": {},
   "outputs": [],
   "source": [
    "I = BbnNode(Variable(0, 'Intelligence', ['i0', 'i1']), [0.7, 0.3])\n",
    "S = BbnNode(Variable(1, 'SAT', ['s0', 's1']), [0.95, 0.05, \n",
    "                                                0.2, 0.8])\n",
    "D = BbnNode(Variable(2, 'Difficulty', ['d0', 'd1']), [0.6, 0.4])\n",
    "G = BbnNode(Variable(3, 'Grade', ['g1', 'g2', 'g3']), [0.3, 0.4, 0.3, \n",
    "                                                        0.05, 0.25, 0.7, \n",
    "                                                        0.9, 0.08, 0.02, \n",
    "                                                        0.5, 0.3, 0.2])\n",
    "L = BbnNode(Variable(4, 'Letter', ['l0', 'l1']), [0.1, 0.9, \n",
    "                                                        0.4, 0.6, \n",
    "                                                        0.99, 0.01])\n"
   ]
  },
  {
   "cell_type": "code",
   "execution_count": 19,
   "id": "75e2515d-7420-4208-bc01-709aa927efc0",
   "metadata": {},
   "outputs": [],
   "source": [
    "\n",
    "# Create Network\n",
    "bbn = Bbn() \\\n",
    "    .add_node(I) \\\n",
    "    .add_node(S) \\\n",
    "    .add_node(D) \\\n",
    "    .add_node(G) \\\n",
    "    .add_node(L) \\\n",
    "    .add_edge(Edge(I, S, EdgeType.DIRECTED)) \\\n",
    "    .add_edge(Edge(I, G, EdgeType.DIRECTED)) \\\n",
    "    .add_edge(Edge(D, G, EdgeType.DIRECTED)) \\\n",
    "    .add_edge(Edge(G, L, EdgeType.DIRECTED)) \\\n",
    "\n",
    "# Convert the BBN to a join tree\n",
    "join_tree = InferenceController.apply(bbn)"
   ]
  },
  {
   "cell_type": "code",
   "execution_count": 46,
   "id": "ef376b00-c831-46b8-a71e-f9785e5ee240",
   "metadata": {},
   "outputs": [
    {
     "data": {
      "image/png": "[encoded data removed]",
      "text/plain": [
       "<Figure size 432x288 with 1 Axes>"
      ]
     },
     "metadata": {},
     "output_type": "display_data"
    }
   ],
   "source": [
    "# Set node positions\n",
    "pos = {0: (2, 3), 1: (3, 1.5), 2: (0, 3),  3: (1, 1.5), 4: (1, -1)}\n",
    " \n",
    "# Set options for graph looks\n",
    "options = {\n",
    "    \"font_size\": 14,\n",
    "    \"node_size\": 8000,\n",
    "    \"node_color\": \"white\",\n",
    "    \"edgecolors\": \"blue\",\n",
    "    \"edge_color\": \"purple\",\n",
    "    \"linewidths\": 2,\n",
    "    \"width\": 3,}\n",
    "    \n",
    "# Generate graph\n",
    "n, d = bbn.to_nx_graph()\n",
    "nx.draw(n, with_labels=True, labels=d, pos=pos, **options)\n",
    "\n",
    "# Update margins and print the graph\n",
    "ax = plt.gca()\n",
    "ax.margins(0.2)\n",
    "plt.axis(\"off\")\n",
    "plt.show()"
   ]
  },
  {
   "cell_type": "code",
   "execution_count": 48,
   "id": "017d41f3-7dc6-4f5f-964a-cda82076034a",
   "metadata": {},
   "outputs": [
    {
     "name": "stdout",
     "output_type": "stream",
     "text": [
      "Node: 0|Intelligence|i0,i1\n",
      "Values:\n",
      "0=i0|0.85998\n",
      "0=i1|0.14002\n",
      "###########\n",
      "Node: 1|SAT|s0,s1\n",
      "Values:\n",
      "1=s0|0.84498\n",
      "1=s1|0.15502\n",
      "###########\n",
      "Node: 3|Grade|g1,g2,g3\n",
      "Values:\n",
      "3=g1|0.07274\n",
      "3=g2|0.23180\n",
      "3=g3|0.69546\n",
      "###########\n",
      "Node: 4|Letter|l0,l1\n",
      "Values:\n",
      "4=l0|1.00000\n",
      "4=l1|0.00000\n",
      "###########\n",
      "Node: 2|Difficulty|d0,d1\n",
      "Values:\n",
      "2=d0|0.46229\n",
      "2=d1|0.53771\n",
      "###########\n"
     ]
    }
   ],
   "source": [
    "\n",
    "# Define a function for printing marginal probabilities\n",
    "def print_probs():\n",
    "    for node in join_tree.get_bbn_nodes():\n",
    "        potential = join_tree.get_bbn_potential(node)\n",
    "        print(\"Node:\", node)\n",
    "        print(\"Values:\")\n",
    "        print(potential)\n",
    "        print('###########')\n",
    "        \n",
    "# Use the above function to print marginal probabilities\n",
    "print_probs()"
   ]
  },
  {
   "cell_type": "code",
   "execution_count": 49,
   "id": "dd01d4a7-1a61-4522-805d-1c4e514d22db",
   "metadata": {},
   "outputs": [
    {
     "name": "stdout",
     "output_type": "stream",
     "text": [
      "Node: 0|Intelligence|i0,i1\n",
      "Values:\n",
      "0=i0|0.85998\n",
      "0=i1|0.14002\n",
      "###########\n",
      "Node: 1|SAT|s0,s1\n",
      "Values:\n",
      "1=s0|0.84498\n",
      "1=s1|0.15502\n",
      "###########\n",
      "Node: 3|Grade|g1,g2,g3\n",
      "Values:\n",
      "3=g1|0.07274\n",
      "3=g2|0.23180\n",
      "3=g3|0.69546\n",
      "###########\n",
      "Node: 4|Letter|l0,l1\n",
      "Values:\n",
      "4=l0|1.00000\n",
      "4=l1|0.00000\n",
      "###########\n",
      "Node: 2|Difficulty|d0,d1\n",
      "Values:\n",
      "2=d0|0.46229\n",
      "2=d1|0.53771\n",
      "###########\n"
     ]
    }
   ],
   "source": [
    "# To add evidence of events that happened so probability distribution can be recalculated\n",
    "def evidence(ev, nod, cat, val):\n",
    "    ev = EvidenceBuilder() \\\n",
    "    .with_node(join_tree.get_bbn_node_by_name(nod)) \\\n",
    "    .with_evidence(cat, val) \\\n",
    "    .build()\n",
    "    join_tree.set_observation(ev)\n",
    "    \n",
    "# Use above function to add evidence\n",
    "#evidence('ev1', 'Difficulty', 'd1', 1.0)\n",
    "#evidence('ev2', 'Intelligence', 'i1', 1.0)\n",
    "#evidence('ev2', 'SAT', 's1', 1.0)\n",
    "#evidence('ev2', 'grade', 'g2', 1.0)\n",
    "#evidence('ev2', 'Letter', 'l0', 1.0)\n",
    "\n",
    "# Print marginal probabilities\n",
    "print_probs()"
   ]
  },
  {
   "cell_type": "code",
   "execution_count": null,
   "id": "48263d36-5ebd-44ca-b392-21d655e6a7da",
   "metadata": {},
   "outputs": [],
   "source": []
  },
  {
   "cell_type": "code",
   "execution_count": null,
   "id": "dcb4b329-749a-47ca-b376-77aa8a07c56c",
   "metadata": {},
   "outputs": [],
   "source": []
  }
 ],
 "metadata": {
  "kernelspec": {
   "display_name": "Python 3 (ipykernel)",
   "language": "python",
   "name": "python3"
  },
  "language_info": {
   "codemirror_mode": {
    "name": "ipython",
    "version": 3
   },
   "file_extension": ".py",
   "mimetype": "text/x-python",
   "name": "python",
   "nbconvert_exporter": "python",
   "pygments_lexer": "ipython3",
   "version": "3.9.7"
  }
 },
 "nbformat": 4,
 "nbformat_minor": 5
}
